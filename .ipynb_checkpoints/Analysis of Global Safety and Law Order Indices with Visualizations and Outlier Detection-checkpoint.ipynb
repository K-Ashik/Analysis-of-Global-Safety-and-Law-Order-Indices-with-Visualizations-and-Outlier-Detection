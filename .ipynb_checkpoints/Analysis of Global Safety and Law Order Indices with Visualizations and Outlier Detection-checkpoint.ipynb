{
 "cells": [
  {
   "cell_type": "code",
   "execution_count": 39,
   "id": "33bd65f6",
   "metadata": {},
   "outputs": [],
   "source": [
    "import pandas as pd\n",
    "import numpy as np\n",
    "import matplotlib.pyplot as plt\n",
    "import seaborn as sns"
   ]
  },
  {
   "cell_type": "code",
   "execution_count": 40,
   "id": "98fb5746",
   "metadata": {},
   "outputs": [],
   "source": [
    "#loading the dataset\n",
    "\n",
    "safety= pd.read_csv('/Users/rising.volkan007/Downloads/Global_safety/Gallup_global_safety.csv', delimiter=';')\n",
    "\n",
    "law_order= pd.read_csv('/Users/rising.volkan007/Downloads/Global_safety/Law_Order_index.csv', delimiter=';')"
   ]
  },
  {
   "cell_type": "code",
   "execution_count": 41,
   "id": "05690156",
   "metadata": {},
   "outputs": [
    {
     "data": {
      "text/html": [
       "<div>\n",
       "<style scoped>\n",
       "    .dataframe tbody tr th:only-of-type {\n",
       "        vertical-align: middle;\n",
       "    }\n",
       "\n",
       "    .dataframe tbody tr th {\n",
       "        vertical-align: top;\n",
       "    }\n",
       "\n",
       "    .dataframe thead th {\n",
       "        text-align: right;\n",
       "    }\n",
       "</style>\n",
       "<table border=\"1\" class=\"dataframe\">\n",
       "  <thead>\n",
       "    <tr style=\"text-align: right;\">\n",
       "      <th></th>\n",
       "      <th>Country_name</th>\n",
       "      <th>Value</th>\n",
       "    </tr>\n",
       "  </thead>\n",
       "  <tbody>\n",
       "    <tr>\n",
       "      <th>0</th>\n",
       "      <td>Ecuador</td>\n",
       "      <td>27 %</td>\n",
       "    </tr>\n",
       "    <tr>\n",
       "      <th>1</th>\n",
       "      <td>Liberia</td>\n",
       "      <td>30 %</td>\n",
       "    </tr>\n",
       "    <tr>\n",
       "      <th>2</th>\n",
       "      <td>South Africa</td>\n",
       "      <td>30 %</td>\n",
       "    </tr>\n",
       "    <tr>\n",
       "      <th>3</th>\n",
       "      <td>Botswana</td>\n",
       "      <td>32 %</td>\n",
       "    </tr>\n",
       "    <tr>\n",
       "      <th>4</th>\n",
       "      <td>Chile</td>\n",
       "      <td>36 %</td>\n",
       "    </tr>\n",
       "  </tbody>\n",
       "</table>\n",
       "</div>"
      ],
      "text/plain": [
       "   Country_name Value\n",
       "0       Ecuador  27 %\n",
       "1       Liberia  30 %\n",
       "2  South Africa  30 %\n",
       "3      Botswana  32 %\n",
       "4         Chile  36 %"
      ]
     },
     "execution_count": 41,
     "metadata": {},
     "output_type": "execute_result"
    }
   ],
   "source": [
    "safety.head()"
   ]
  },
  {
   "cell_type": "code",
   "execution_count": 42,
   "id": "7bb5d87f",
   "metadata": {},
   "outputs": [
    {
     "data": {
      "text/html": [
       "<div>\n",
       "<style scoped>\n",
       "    .dataframe tbody tr th:only-of-type {\n",
       "        vertical-align: middle;\n",
       "    }\n",
       "\n",
       "    .dataframe tbody tr th {\n",
       "        vertical-align: top;\n",
       "    }\n",
       "\n",
       "    .dataframe thead th {\n",
       "        text-align: right;\n",
       "    }\n",
       "</style>\n",
       "<table border=\"1\" class=\"dataframe\">\n",
       "  <thead>\n",
       "    <tr style=\"text-align: right;\">\n",
       "      <th></th>\n",
       "      <th>Country_name</th>\n",
       "      <th>Value</th>\n",
       "    </tr>\n",
       "  </thead>\n",
       "  <tbody>\n",
       "    <tr>\n",
       "      <th>0</th>\n",
       "      <td>Albania</td>\n",
       "      <td>84</td>\n",
       "    </tr>\n",
       "    <tr>\n",
       "      <th>1</th>\n",
       "      <td>Argentina</td>\n",
       "      <td>65</td>\n",
       "    </tr>\n",
       "    <tr>\n",
       "      <th>2</th>\n",
       "      <td>Armenia</td>\n",
       "      <td>85</td>\n",
       "    </tr>\n",
       "    <tr>\n",
       "      <th>3</th>\n",
       "      <td>Australia</td>\n",
       "      <td>81</td>\n",
       "    </tr>\n",
       "    <tr>\n",
       "      <th>4</th>\n",
       "      <td>Austria</td>\n",
       "      <td>87</td>\n",
       "    </tr>\n",
       "  </tbody>\n",
       "</table>\n",
       "</div>"
      ],
      "text/plain": [
       "  Country_name  Value\n",
       "0      Albania     84\n",
       "1    Argentina     65\n",
       "2      Armenia     85\n",
       "3    Australia     81\n",
       "4      Austria     87"
      ]
     },
     "execution_count": 42,
     "metadata": {},
     "output_type": "execute_result"
    }
   ],
   "source": [
    "law_order.head()"
   ]
  },
  {
   "cell_type": "code",
   "execution_count": 43,
   "id": "2e5354cb",
   "metadata": {},
   "outputs": [
    {
     "name": "stdout",
     "output_type": "stream",
     "text": [
      "<class 'pandas.core.frame.DataFrame'>\n",
      "RangeIndex: 140 entries, 0 to 139\n",
      "Data columns (total 2 columns):\n",
      " #   Column        Non-Null Count  Dtype \n",
      "---  ------        --------------  ----- \n",
      " 0   Country_name  140 non-null    object\n",
      " 1   Value         140 non-null    object\n",
      "dtypes: object(2)\n",
      "memory usage: 2.3+ KB\n",
      "None\n",
      "<class 'pandas.core.frame.DataFrame'>\n",
      "RangeIndex: 140 entries, 0 to 139\n",
      "Data columns (total 2 columns):\n",
      " #   Column        Non-Null Count  Dtype \n",
      "---  ------        --------------  ----- \n",
      " 0   Country_name  140 non-null    object\n",
      " 1   Value         140 non-null    int64 \n",
      "dtypes: int64(1), object(1)\n",
      "memory usage: 2.3+ KB\n",
      "None\n",
      "       Country_name Value\n",
      "count           140   140\n",
      "unique          140    57\n",
      "top         Ecuador  72 %\n",
      "freq              1     7\n",
      "            Value\n",
      "count  140.000000\n",
      "mean    77.692857\n",
      "std     10.095869\n",
      "min     50.000000\n",
      "25%     71.000000\n",
      "50%     80.000000\n",
      "75%     86.000000\n",
      "max     98.000000\n"
     ]
    }
   ],
   "source": [
    "# Check the data types and basic information\n",
    "print(safety.info())\n",
    "print(law_order.info())\n",
    "\n",
    "# Descriptive statistics\n",
    "print(safety.describe())\n",
    "print(law_order.describe())"
   ]
  },
  {
   "cell_type": "code",
   "execution_count": 44,
   "id": "9c64bbfd",
   "metadata": {},
   "outputs": [],
   "source": [
    "# Remove any non-breaking spaces and percentage sign, then convert to float\n",
    "safety['Value'] = safety['Value'].str.replace(r'\\s*%', '', regex=True).astype(int)"
   ]
  },
  {
   "cell_type": "code",
   "execution_count": 45,
   "id": "9dd1e10b",
   "metadata": {},
   "outputs": [
    {
     "name": "stdout",
     "output_type": "stream",
     "text": [
      "Country_name    object\n",
      "Value            int64\n",
      "dtype: object\n",
      "   Country_name  Value\n",
      "0       Ecuador     27\n",
      "1       Liberia     30\n",
      "2  South Africa     30\n",
      "3      Botswana     32\n",
      "4         Chile     36\n"
     ]
    }
   ],
   "source": [
    "# Verify the data types\n",
    "print(safety.dtypes)\n",
    "\n",
    "# Display the first few rows of the cleaned DataFrame\n",
    "print(safety.head())"
   ]
  },
  {
   "cell_type": "code",
   "execution_count": 46,
   "id": "5bf240c2",
   "metadata": {},
   "outputs": [
    {
     "name": "stdout",
     "output_type": "stream",
     "text": [
      "count    140.000000\n",
      "mean      64.864286\n",
      "std       16.454957\n",
      "min       27.000000\n",
      "25%       51.000000\n",
      "50%       67.000000\n",
      "75%       77.000000\n",
      "max       99.000000\n",
      "Name: Value, dtype: float64\n"
     ]
    }
   ],
   "source": [
    "print(safety['Value'].describe())"
   ]
  },
  {
   "cell_type": "code",
   "execution_count": 47,
   "id": "f416301d",
   "metadata": {},
   "outputs": [
    {
     "data": {
      "image/png": "[encoded data removed]",
      "text/plain": [
       "<Figure size 1000x600 with 1 Axes>"
      ]
     },
     "metadata": {},
     "output_type": "display_data"
    }
   ],
   "source": [
    "plt.figure(figsize=(10, 6))\n",
    "sns.histplot(safety['Value'], bins=20, kde=True)\n",
    "plt.title('Distribution of Perceived Safety')\n",
    "plt.xlabel('Percentage Feeling Safe')\n",
    "plt.ylabel('Frequency')\n",
    "plt.grid()\n",
    "plt.show()"
   ]
  },
  {
   "cell_type": "code",
   "execution_count": 48,
   "id": "b2cbca3a",
   "metadata": {},
   "outputs": [
    {
     "name": "stdout",
     "output_type": "stream",
     "text": [
      "Countries with low perceived safety:\n",
      "    Country_name  Value\n",
      "0       Ecuador     27\n",
      "1       Liberia     30\n",
      "2  South Africa     30\n",
      "3      Botswana     32\n",
      "4         Chile     36\n",
      "5      Eswatini     37\n",
      "6       Namibia     37\n",
      "7    The Gambia     38\n",
      "8      Zimbabwe     38\n",
      "Countries with high perceived safety:\n",
      "                     Country_name  Value\n",
      "111                        Egypt     81\n",
      "112                      Somalia     81\n",
      "113                      Austria     82\n",
      "114                        Spain     82\n",
      "115                    Indonesia     83\n",
      "116                  Netherlands     83\n",
      "117                     Portugal     83\n",
      "118    Taiwan, Province of China     84\n",
      "119                   Uzbekistan     84\n",
      "120                      Estonia     85\n",
      "121                      Finland     85\n",
      "122  Hong Kong (S.A.R. of China)     85\n",
      "123                      Armenia     86\n",
      "124                        China     86\n",
      "125                      Denmark     86\n",
      "126                      Bahrain     87\n",
      "127                      Iceland     87\n",
      "128                       Kosovo     87\n",
      "129                   Luxembourg     87\n",
      "130                  Switzerland     87\n",
      "131                  El Salvador     88\n",
      "132                   Montenegro     88\n",
      "133         United Arab Emirates     90\n",
      "134                     Slovenia     91\n",
      "135                       Norway     92\n",
      "136                 Saudi Arabia     92\n",
      "137                   Tajikistan     92\n",
      "138                    Singapore     94\n",
      "139                       Kuwait     99\n"
     ]
    }
   ],
   "source": [
    "outliers_low = safety[safety['Value'] < 40]\n",
    "outliers_high = safety[safety['Value'] > 80]\n",
    "print(\"Countries with low perceived safety:\\n\", outliers_low)\n",
    "print(\"Countries with high perceived safety:\\n\", outliers_high)"
   ]
  },
  {
   "cell_type": "code",
   "execution_count": null,
   "id": "48acce27",
   "metadata": {},
   "outputs": [],
   "source": []
  },
  {
   "cell_type": "code",
   "execution_count": 50,
   "id": "68caf23d",
   "metadata": {},
   "outputs": [
    {
     "name": "stderr",
     "output_type": "stream",
     "text": [
      "/var/folders/3j/tlpxgbnn03s1zb0rcz4xx9j80000gn/T/ipykernel_62631/1470151795.py:17: UserWarning: set_ticklabels() should only be used with a fixed number of ticks, i.e. after set_ticks() or using a FixedLocator.\n",
      "  axes[0].set_xticklabels(top_10_low_safety['Country_name'], rotation=45)\n",
      "/var/folders/3j/tlpxgbnn03s1zb0rcz4xx9j80000gn/T/ipykernel_62631/1470151795.py:24: UserWarning: set_ticklabels() should only be used with a fixed number of ticks, i.e. after set_ticks() or using a FixedLocator.\n",
      "  axes[1].set_xticklabels(top_10_high_safety['Country_name'], rotation=45)\n"
     ]
    },
    {
     "data": {
      "image/png": "[encoded data removed]",
      "text/plain": [
       "<Figure size 1400x700 with 2 Axes>"
      ]
     },
     "metadata": {},
     "output_type": "display_data"
    }
   ],
   "source": [
    "# Get the top 10 countries with the lowest and highest perceived safety\n",
    "top_10_low_safety = safety.nsmallest(10, 'Value')\n",
    "top_10_high_safety = safety.nlargest(10, 'Value')\n",
    "\n",
    "# Get the top 10 countries with the lowest and highest Law and Order Index\n",
    "top_10_low_law_order = law_order.nsmallest(10, 'Value')\n",
    "top_10_high_law_order = law_order.nlargest(10, 'Value')\n",
    "\n",
    "# Set up the figure and axes for safety bar charts\n",
    "fig, axes = plt.subplots(1, 2, figsize=(14, 7))\n",
    "\n",
    "# Bar chart for low perceived safety\n",
    "axes[0].bar(top_10_low_safety['Country_name'], top_10_low_safety['Value'], color='red')\n",
    "axes[0].set_title('Top 10 Countries with Lowest Perceived Safety')\n",
    "axes[0].set_xlabel('Country')\n",
    "axes[0].set_ylabel('Safety Percentage')\n",
    "axes[0].set_xticklabels(top_10_low_safety['Country_name'], rotation=45)\n",
    "\n",
    "# Bar chart for high perceived safety\n",
    "axes[1].bar(top_10_high_safety['Country_name'], top_10_high_safety['Value'], color='green')\n",
    "axes[1].set_title('Top 10 Countries with Highest Perceived Safety')\n",
    "axes[1].set_xlabel('Country')\n",
    "axes[1].set_ylabel('Safety Percentage')\n",
    "axes[1].set_xticklabels(top_10_high_safety['Country_name'], rotation=45)\n",
    "\n",
    "plt.tight_layout()\n",
    "plt.show()"
   ]
  },
  {
   "cell_type": "code",
   "execution_count": 51,
   "id": "4aa0a858",
   "metadata": {},
   "outputs": [
    {
     "name": "stderr",
     "output_type": "stream",
     "text": [
      "/var/folders/3j/tlpxgbnn03s1zb0rcz4xx9j80000gn/T/ipykernel_62631/1365255406.py:9: UserWarning: set_ticklabels() should only be used with a fixed number of ticks, i.e. after set_ticks() or using a FixedLocator.\n",
      "  axes[0].set_xticklabels(top_10_low_law_order['Country_name'], rotation=45)\n",
      "/var/folders/3j/tlpxgbnn03s1zb0rcz4xx9j80000gn/T/ipykernel_62631/1365255406.py:16: UserWarning: set_ticklabels() should only be used with a fixed number of ticks, i.e. after set_ticks() or using a FixedLocator.\n",
      "  axes[1].set_xticklabels(top_10_high_law_order['Country_name'], rotation=45)\n"
     ]
    },
    {
     "data": {
      "image/png": "[encoded data removed]",
      "text/plain": [
       "<Figure size 1400x700 with 2 Axes>"
      ]
     },
     "metadata": {},
     "output_type": "display_data"
    }
   ],
   "source": [
    "# Set up the figure and axes for law order bar charts\n",
    "fig, axes = plt.subplots(1, 2, figsize=(14, 7))\n",
    "\n",
    "# Bar chart for low law order index\n",
    "axes[0].bar(top_10_low_law_order['Country_name'], top_10_low_law_order['Value'], color='red')\n",
    "axes[0].set_title('Top 10 Countries with Lowest Law and Order Index')\n",
    "axes[0].set_xlabel('Country')\n",
    "axes[0].set_ylabel('Law and Order Index Value')\n",
    "axes[0].set_xticklabels(top_10_low_law_order['Country_name'], rotation=45)\n",
    "\n",
    "# Bar chart for high law order index\n",
    "axes[1].bar(top_10_high_law_order['Country_name'], top_10_high_law_order['Value'], color='green')\n",
    "axes[1].set_title('Top 10 Countries with Highest Law and Order Index')\n",
    "axes[1].set_xlabel('Country')\n",
    "axes[1].set_ylabel('Law and Order Index Value')\n",
    "axes[1].set_xticklabels(top_10_high_law_order['Country_name'], rotation=45)\n",
    "\n",
    "plt.tight_layout()\n",
    "plt.show()"
   ]
  },
  {
   "cell_type": "code",
   "execution_count": 52,
   "id": "14833fd9",
   "metadata": {},
   "outputs": [
    {
     "name": "stdout",
     "output_type": "stream",
     "text": [
      "Top 20 Countries by Perceived Safety:\n",
      "                   Country_name  Value\n",
      "0                        Kuwait     99\n",
      "1                     Singapore     94\n",
      "2                        Norway     92\n",
      "3                  Saudi Arabia     92\n",
      "4                    Tajikistan     92\n",
      "5                      Slovenia     91\n",
      "6          United Arab Emirates     90\n",
      "7                   El Salvador     88\n",
      "8                    Montenegro     88\n",
      "9                       Bahrain     87\n",
      "10                      Iceland     87\n",
      "11                       Kosovo     87\n",
      "12                   Luxembourg     87\n",
      "13                  Switzerland     87\n",
      "14                      Armenia     86\n",
      "15                        China     86\n",
      "16                      Denmark     86\n",
      "17                      Estonia     85\n",
      "18                      Finland     85\n",
      "19  Hong Kong (S.A.R. of China)     85\n",
      "\n",
      "Top 20 Countries by Law and Order Index:\n",
      "            Country_name  Value\n",
      "0                 Kuwait     98\n",
      "1              Singapore     95\n",
      "2             Tajikistan     95\n",
      "3                 Norway     93\n",
      "4                Estonia     91\n",
      "5                Finland     91\n",
      "6                Iceland     91\n",
      "7                 Kosovo     91\n",
      "8             Luxembourg     91\n",
      "9            Switzerland     91\n",
      "10               Denmark     90\n",
      "11  United Arab Emirates     90\n",
      "12               Vietnam     90\n",
      "13               Bahrain     89\n",
      "14           El Salvador     89\n",
      "15             Indonesia     89\n",
      "16              Portugal     89\n",
      "17          Saudi Arabia     89\n",
      "18              Slovenia     89\n",
      "19            Uzbekistan     89\n"
     ]
    }
   ],
   "source": [
    "# Get the top 20 countries for safety\n",
    "top_safety = safety.nlargest(20, 'Value').copy()\n",
    "\n",
    "# Get the top 20 countries for law order\n",
    "top_law_order = law_order.nlargest(20, 'Value').copy()\n",
    "\n",
    "# Reset index for both DataFrames\n",
    "top_safety.reset_index(drop=True, inplace=True)\n",
    "top_law_order.reset_index(drop=True, inplace=True)\n",
    "\n",
    "# Display the top 20 countries for each metric\n",
    "print(\"Top 20 Countries by Perceived Safety:\")\n",
    "print(top_safety)\n",
    "\n",
    "print(\"\\nTop 20 Countries by Law and Order Index:\")\n",
    "print(top_law_order)"
   ]
  },
  {
   "cell_type": "code",
   "execution_count": 55,
   "id": "a68d36b1",
   "metadata": {},
   "outputs": [
    {
     "name": "stdout",
     "output_type": "stream",
     "text": [
      "Rank of Selected Countries in Safety DataFrame:\n",
      "                Country_name  Value  Rank\n",
      "33                Bangladesh     78  32.0\n",
      "34                     Japan     77  35.0\n",
      "43                   Germany     74  44.0\n",
      "54  United States of America     72  51.0\n",
      "60                     India     70  61.0\n",
      "\n",
      "Rank of Selected Countries in Law Order DataFrame:\n",
      "                Country_name  Value  Rank\n",
      "32                     Japan     86  32.0\n",
      "36                   Germany     86  32.0\n",
      "49                     India     83  48.0\n",
      "61  United States of America     81  60.0\n",
      "62                Bangladesh     81  60.0\n"
     ]
    }
   ],
   "source": [
    "# Rank all countries in the safety dataset based on their values\n",
    "safety['Rank'] = safety['Value'].rank(ascending=False, method='min')\n",
    "safety_sorted = safety.sort_values(by='Rank').reset_index(drop=True)\n",
    "\n",
    "# Rank all countries in the law order dataset based on their values\n",
    "law_order['Rank'] = law_order['Value'].rank(ascending=False, method='min')\n",
    "law_order_sorted = law_order.sort_values(by='Rank').reset_index(drop=True)\n",
    "\n",
    "# Select the specified countries from the ranked datasets\n",
    "countries_to_check = ['Germany', 'United States of America', 'Bangladesh', 'Japan', 'India']\n",
    "\n",
    "# Get the rank and value for the specified countries in safety\n",
    "safety_selected = safety_sorted[safety_sorted['Country_name'].isin(countries_to_check)][['Country_name', 'Value', 'Rank']]\n",
    "\n",
    "# Get the rank and value for the specified countries in law order\n",
    "law_order_selected = law_order_sorted[law_order_sorted['Country_name'].isin(countries_to_check)][['Country_name', 'Value', 'Rank']]\n",
    "\n",
    "# Display the results\n",
    "print(\"Rank of Selected Countries in Safety DataFrame:\")\n",
    "print(safety_selected)\n",
    "\n",
    "print(\"\\nRank of Selected Countries in Law Order DataFrame:\")\n",
    "print(law_order_selected)"
   ]
  },
  {
   "cell_type": "code",
   "execution_count": 56,
   "id": "8fd4ce3e",
   "metadata": {},
   "outputs": [
    {
     "name": "stdout",
     "output_type": "stream",
     "text": [
      "Requirement already satisfied: plotly in /Users/rising.volkan007/anaconda3/lib/python3.11/site-packages (5.24.1)\n",
      "Requirement already satisfied: tenacity>=6.2.0 in /Users/rising.volkan007/anaconda3/lib/python3.11/site-packages (from plotly) (8.2.3)\n",
      "Requirement already satisfied: packaging in /Users/rising.volkan007/anaconda3/lib/python3.11/site-packages (from plotly) (24.1)\n",
      "Note: you may need to restart the kernel to use updated packages.\n"
     ]
    }
   ],
   "source": [
    "pip install plotly"
   ]
  },
  {
   "cell_type": "code",
   "execution_count": 57,
   "id": "3c6420e8",
   "metadata": {},
   "outputs": [],
   "source": [
    "import plotly.express as px\n",
    "import pandas as pd"
   ]
  },
  {
   "cell_type": "code",
   "execution_count": 62,
   "id": "d66e084e",
   "metadata": {},
   "outputs": [
    {
     "data": {
      "application/vnd.plotly.v1+json": {
       "config": {
        "plotlyServerURL": "https://plot.ly"
       },
       "data": [
        {
         "coloraxis": "coloraxis",
         "geo": "geo",
         "hovertemplate": [
          "<b>%{location}</b><br>Score: %{z}<br>Rank: 1<extra></extra>",
          "<b>%{location}</b><br>Score: %{z}<br>Rank: 2<extra></extra>",
          "<b>%{location}</b><br>Score: %{z}<br>Rank: 3<extra></extra>",
          "<b>%{location}</b><br>Score: %{z}<br>Rank: 4<extra></extra>",
          "<b>%{location}</b><br>Score: %{z}<br>Rank: 5<extra></extra>",
          "<b>%{location}</b><br>Score: %{z}<br>Rank: 6<extra></extra>",
          "<b>%{location}</b><br>Score: %{z}<br>Rank: 7<extra></extra>",
          "<b>%{location}</b><br>Score: %{z}<br>Rank: 8<extra></extra>",
          "<b>%{location}</b><br>Score: %{z}<br>Rank: 9<extra></extra>",
          "<b>%{location}</b><br>Score: %{z}<br>Rank: 10<extra></extra>",
          "<b>%{location}</b><br>Score: %{z}<br>Rank: 11<extra></extra>",
          "<b>%{location}</b><br>Score: %{z}<br>Rank: 12<extra></extra>",
          "<b>%{location}</b><br>Score: %{z}<br>Rank: 13<extra></extra>",
          "<b>%{location}</b><br>Score: %{z}<br>Rank: 14<extra></extra>",
          "<b>%{location}</b><br>Score: %{z}<br>Rank: 15<extra></extra>",
          "<b>%{location}</b><br>Score: %{z}<br>Rank: 16<extra></extra>",
          "<b>%{location}</b><br>Score: %{z}<br>Rank: 17<extra></extra>",
          "<b>%{location}</b><br>Score: %{z}<br>Rank: 18<extra></extra>",
          "<b>%{location}</b><br>Score: %{z}<br>Rank: 19<extra></extra>",
          "<b>%{location}</b><br>Score: %{z}<br>Rank: 20<extra></extra>",
          "<b>%{location}</b><br>Score: %{z}<br>Rank: 21<extra></extra>",
          "<b>%{location}</b><br>Score: %{z}<br>Rank: 22<extra></extra>",
          "<b>%{location}</b><br>Score: %{z}<br>Rank: 23<extra></extra>",
          "<b>%{location}</b><br>Score: %{z}<br>Rank: 24<extra></extra>",
          "<b>%{location}</b><br>Score: %{z}<br>Rank: 25<extra></extra>",
          "<b>%{location}</b><br>Score: %{z}<br>Rank: 26<extra></extra>",
          "<b>%{location}</b><br>Score: %{z}<br>Rank: 27<extra></extra>",
          "<b>%{location}</b><br>Score: %{z}<br>Rank: 28<extra></extra>",
          "<b>%{location}</b><br>Score: %{z}<br>Rank: 29<extra></extra>",
          "<b>%{location}</b><br>Score: %{z}<br>Rank: 30<extra></extra>",
          "<b>%{location}</b><br>Score: %{z}<br>Rank: 31<extra></extra>",
          "<b>%{location}</b><br>Score: %{z}<br>Rank: 32<extra></extra>",
          "<b>%{location}</b><br>Score: %{z}<br>Rank: 33<extra></extra>",
          "<b>%{location}</b><br>Score: %{z}<br>Rank: 34<extra></extra>",
          "<b>%{location}</b><br>Score: %{z}<br>Rank: 35<extra></extra>",
          "<b>%{location}</b><br>Score: %{z}<br>Rank: 36<extra></extra>",
          "<b>%{location}</b><br>Score: %{z}<br>Rank: 37<extra></extra>",
          "<b>%{location}</b><br>Score: %{z}<br>Rank: 38<extra></extra>",
          "<b>%{location}</b><br>Score: %{z}<br>Rank: 39<extra></extra>",
          "<b>%{location}</b><br>Score: %{z}<br>Rank: 40<extra></extra>",
          "<b>%{location}</b><br>Score: %{z}<br>Rank: 41<extra></extra>",
          "<b>%{location}</b><br>Score: %{z}<br>Rank: 42<extra></extra>",
          "<b>%{location}</b><br>Score: %{z}<br>Rank: 43<extra></extra>",
          "<b>%{location}</b><br>Score: %{z}<br>Rank: 44<extra></extra>",
          "<b>%{location}</b><br>Score: %{z}<br>Rank: 45<extra></extra>",
          "<b>%{location}</b><br>Score: %{z}<br>Rank: 46<extra></extra>",
          "<b>%{location}</b><br>Score: %{z}<br>Rank: 47<extra></extra>",
          "<b>%{location}</b><br>Score: %{z}<br>Rank: 48<extra></extra>",
          "<b>%{location}</b><br>Score: %{z}<br>Rank: 49<extra></extra>",
          "<b>%{location}</b><br>Score: %{z}<br>Rank: 50<extra></extra>",
          "<b>%{location}</b><br>Score: %{z}<br>Rank: 51<extra></extra>",
          "<b>%{location}</b><br>Score: %{z}<br>Rank: 52<extra></extra>",
          "<b>%{location}</b><br>Score: %{z}<br>Rank: 53<extra></extra>",
          "<b>%{location}</b><br>Score: %{z}<br>Rank: 54<extra></extra>",
          "<b>%{location}</b><br>Score: %{z}<br>Rank: 55<extra></extra>",
          "<b>%{location}</b><br>Score: %{z}<br>Rank: 56<extra></extra>",
          "<b>%{location}</b><br>Score: %{z}<br>Rank: 57<extra></extra>",
          "<b>%{location}</b><br>Score: %{z}<br>Rank: 58<extra></extra>",
          "<b>%{location}</b><br>Score: %{z}<br>Rank: 59<extra></extra>",
          "<b>%{location}</b><br>Score: %{z}<br>Rank: 60<extra></extra>",
          "<b>%{location}</b><br>Score: %{z}<br>Rank: 61<extra></extra>",
          "<b>%{location}</b><br>Score: %{z}<br>Rank: 62<extra></extra>",
          "<b>%{location}</b><br>Score: %{z}<br>Rank: 63<extra></extra>",
          "<b>%{location}</b><br>Score: %{z}<br>Rank: 64<extra></extra>",
          "<b>%{location}</b><br>Score: %{z}<br>Rank: 65<extra></extra>",
          "<b>%{location}</b><br>Score: %{z}<br>Rank: 66<extra></extra>",
          "<b>%{location}</b><br>Score: %{z}<br>Rank: 67<extra></extra>",
          "<b>%{location}</b><br>Score: %{z}<br>Rank: 68<extra></extra>",
          "<b>%{location}</b><br>Score: %{z}<br>Rank: 69<extra></extra>",
          "<b>%{location}</b><br>Score: %{z}<br>Rank: 70<extra></extra>",
          "<b>%{location}</b><br>Score: %{z}<br>Rank: 71<extra></extra>",
          "<b>%{location}</b><br>Score: %{z}<br>Rank: 72<extra></extra>",
          "<b>%{location}</b><br>Score: %{z}<br>Rank: 73<extra></extra>",
          "<b>%{location}</b><br>Score: %{z}<br>Rank: 74<extra></extra>",
          "<b>%{location}</b><br>Score: %{z}<br>Rank: 75<extra></extra>",
          "<b>%{location}</b><br>Score: %{z}<br>Rank: 76<extra></extra>",
          "<b>%{location}</b><br>Score: %{z}<br>Rank: 77<extra></extra>",
          "<b>%{location}</b><br>Score: %{z}<br>Rank: 78<extra></extra>",
          "<b>%{location}</b><br>Score: %{z}<br>Rank: 79<extra></extra>",
          "<b>%{location}</b><br>Score: %{z}<br>Rank: 80<extra></extra>",
          "<b>%{location}</b><br>Score: %{z}<br>Rank: 81<extra></extra>",
          "<b>%{location}</b><br>Score: %{z}<br>Rank: 82<extra></extra>",
          "<b>%{location}</b><br>Score: %{z}<br>Rank: 83<extra></extra>",
          "<b>%{location}</b><br>Score: %{z}<br>Rank: 84<extra></extra>",
          "<b>%{location}</b><br>Score: %{z}<br>Rank: 85<extra></extra>",
          "<b>%{location}</b><br>Score: %{z}<br>Rank: 86<extra></extra>",
          "<b>%{location}</b><br>Score: %{z}<br>Rank: 87<extra></extra>",
          "<b>%{location}</b><br>Score: %{z}<br>Rank: 88<extra></extra>",
          "<b>%{location}</b><br>Score: %{z}<br>Rank: 89<extra></extra>",
          "<b>%{location}</b><br>Score: %{z}<br>Rank: 90<extra></extra>",
          "<b>%{location}</b><br>Score: %{z}<br>Rank: 91<extra></extra>",
          "<b>%{location}</b><br>Score: %{z}<br>Rank: 92<extra></extra>",
          "<b>%{location}</b><br>Score: %{z}<br>Rank: 93<extra></extra>",
          "<b>%{location}</b><br>Score: %{z}<br>Rank: 94<extra></extra>",
          "<b>%{location}</b><br>Score: %{z}<br>Rank: 95<extra></extra>",
          "<b>%{location}</b><br>Score: %{z}<br>Rank: 96<extra></extra>",
          "<b>%{location}</b><br>Score: %{z}<br>Rank: 97<extra></extra>",
          "<b>%{location}</b><br>Score: %{z}<br>Rank: 98<extra></extra>",
          "<b>%{location}</b><br>Score: %{z}<br>Rank: 99<extra></extra>",
          "<b>%{location}</b><br>Score: %{z}<br>Rank: 100<extra></extra>",
          "<b>%{location}</b><br>Score: %{z}<br>Rank: 101<extra></extra>",
          "<b>%{location}</b><br>Score: %{z}<br>Rank: 102<extra></extra>",
          "<b>%{location}</b><br>Score: %{z}<br>Rank: 103<extra></extra>",
          "<b>%{location}</b><br>Score: %{z}<br>Rank: 104<extra></extra>",
          "<b>%{location}</b><br>Score: %{z}<br>Rank: 105<extra></extra>",
          "<b>%{location}</b><br>Score: %{z}<br>Rank: 106<extra></extra>",
          "<b>%{location}</b><br>Score: %{z}<br>Rank: 107<extra></extra>",
          "<b>%{location}</b><br>Score: %{z}<br>Rank: 108<extra></extra>",
          "<b>%{location}</b><br>Score: %{z}<br>Rank: 109<extra></extra>",
          "<b>%{location}</b><br>Score: %{z}<br>Rank: 110<extra></extra>",
          "<b>%{location}</b><br>Score: %{z}<br>Rank: 111<extra></extra>",
          "<b>%{location}</b><br>Score: %{z}<br>Rank: 112<extra></extra>",
          "<b>%{location}</b><br>Score: %{z}<br>Rank: 113<extra></extra>",
          "<b>%{location}</b><br>Score: %{z}<br>Rank: 114<extra></extra>",
          "<b>%{location}</b><br>Score: %{z}<br>Rank: 115<extra></extra>",
          "<b>%{location}</b><br>Score: %{z}<br>Rank: 116<extra></extra>",
          "<b>%{location}</b><br>Score: %{z}<br>Rank: 117<extra></extra>",
          "<b>%{location}</b><br>Score: %{z}<br>Rank: 118<extra></extra>",
          "<b>%{location}</b><br>Score: %{z}<br>Rank: 119<extra></extra>",
          "<b>%{location}</b><br>Score: %{z}<br>Rank: 120<extra></extra>",
          "<b>%{location}</b><br>Score: %{z}<br>Rank: 121<extra></extra>",
          "<b>%{location}</b><br>Score: %{z}<br>Rank: 122<extra></extra>",
          "<b>%{location}</b><br>Score: %{z}<br>Rank: 123<extra></extra>",
          "<b>%{location}</b><br>Score: %{z}<br>Rank: 124<extra></extra>",
          "<b>%{location}</b><br>Score: %{z}<br>Rank: 125<extra></extra>",
          "<b>%{location}</b><br>Score: %{z}<br>Rank: 126<extra></extra>",
          "<b>%{location}</b><br>Score: %{z}<br>Rank: 127<extra></extra>",
          "<b>%{location}</b><br>Score: %{z}<br>Rank: 128<extra></extra>",
          "<b>%{location}</b><br>Score: %{z}<br>Rank: 129<extra></extra>",
          "<b>%{location}</b><br>Score: %{z}<br>Rank: 130<extra></extra>",
          "<b>%{location}</b><br>Score: %{z}<br>Rank: 131<extra></extra>",
          "<b>%{location}</b><br>Score: %{z}<br>Rank: 132<extra></extra>",
          "<b>%{location}</b><br>Score: %{z}<br>Rank: 133<extra></extra>",
          "<b>%{location}</b><br>Score: %{z}<br>Rank: 134<extra></extra>",
          "<b>%{location}</b><br>Score: %{z}<br>Rank: 135<extra></extra>",
          "<b>%{location}</b><br>Score: %{z}<br>Rank: 136<extra></extra>",
          "<b>%{location}</b><br>Score: %{z}<br>Rank: 137<extra></extra>",
          "<b>%{location}</b><br>Score: %{z}<br>Rank: 138<extra></extra>",
          "<b>%{location}</b><br>Score: %{z}<br>Rank: 139<extra></extra>",
          "<b>%{location}</b><br>Score: %{z}<br>Rank: 140<extra></extra>"
         ],
         "locationmode": "country names",
         "locations": [
          "Kuwait",
          "Singapore",
          "Tajikistan",
          "Saudi Arabia",
          "Norway",
          "Slovenia",
          "United Arab Emirates",
          "Montenegro",
          "El Salvador",
          "Switzerland",
          "Luxembourg",
          "Kosovo",
          "Iceland",
          "Bahrain",
          "Armenia",
          "China",
          "Denmark",
          "Estonia",
          "Finland",
          "Hong Kong (S.A.R. of China)",
          "Uzbekistan",
          "Taiwan, Province of China",
          "Portugal",
          "Netherlands",
          "Indonesia",
          "Spain",
          "Austria",
          "Somalia",
          "Egypt",
          "Sweden",
          "Georgia",
          "Ireland",
          "Bangladesh",
          "Serbia",
          "Japan",
          "Vietnam",
          "Jordan",
          "United Kingdom of Great Britain and Northern Ireland",
          "South Korea",
          "Latvia",
          "Iraq",
          "Azerbaijan",
          "Northern Cyprus",
          "Germany",
          "Iran",
          "France",
          "Czech Republic",
          "Canada",
          "Albania",
          "Malta",
          "United States of America",
          "North Macedonia",
          "Republic of Moldova",
          "Hungary",
          "Kyrgyzstan",
          "Bosnia and Herzegovina",
          "Lithuania",
          "State of Palestine",
          "Russian Federation",
          "Croatia",
          "India",
          "Ghana",
          "Malaysia",
          "Morocco",
          "Mali",
          "Israel",
          "Belgium",
          "Australia",
          "Libya",
          "Kazakhstan",
          "Tanzania",
          "Poland",
          "Cyprus",
          "Türkiye",
          "Slovakia",
          "Mauritius",
          "Tunisia",
          "Thailand",
          "Italy",
          "Greece",
          "Romania",
          "Philippines",
          "Honduras",
          "Comoros",
          "Nepal",
          "Niger",
          "Panama",
          "Cambodia",
          "Bulgaria",
          "Ukraine",
          "New Zealand",
          "Guatemala",
          "Benin",
          "Yemen",
          "Mauritania",
          "Nigeria",
          "Lao People's Democratic Republic",
          "Sri Lanka",
          "Senegal",
          "Ethiopia",
          "Pakistan",
          "Burkina Faso",
          "Uruguay",
          "Côte d'Ivoire",
          "Mozambique",
          "Mongolia",
          "Paraguay",
          "Togo",
          "Sierra Leone",
          "Madagascar",
          "Guinea",
          "Lebanon",
          "Kenya",
          "Costa Rica",
          "Brazil",
          "Bolivia",
          "Uganda",
          "The Republic of the Congo",
          "Dominican Republic",
          "Colombia",
          "Venezuela",
          "Peru",
          "Cameroon",
          "Mexico",
          "Democratic Republic of Congo",
          "Chad",
          "Zambia",
          "Myanmar",
          "Gabon",
          "Argentina",
          "Malawi",
          "The Gambia",
          "Zimbabwe",
          "Namibia",
          "Eswatini",
          "Chile",
          "Botswana",
          "South Africa",
          "Liberia",
          "Ecuador"
         ],
         "name": "",
         "type": "choropleth",
         "z": [
          99,
          94,
          92,
          92,
          92,
          91,
          90,
          88,
          88,
          87,
          87,
          87,
          87,
          87,
          86,
          86,
          86,
          85,
          85,
          85,
          84,
          84,
          83,
          83,
          83,
          82,
          82,
          81,
          81,
          79,
          79,
          78,
          78,
          78,
          77,
          77,
          76,
          76,
          76,
          75,
          75,
          75,
          75,
          74,
          73,
          73,
          73,
          73,
          73,
          73,
          72,
          72,
          72,
          72,
          72,
          72,
          72,
          71,
          71,
          71,
          70,
          70,
          69,
          68,
          68,
          68,
          68,
          68,
          67,
          67,
          67,
          66,
          66,
          66,
          66,
          65,
          65,
          64,
          64,
          64,
          63,
          62,
          62,
          62,
          60,
          60,
          60,
          59,
          59,
          59,
          58,
          58,
          58,
          56,
          56,
          55,
          55,
          54,
          54,
          53,
          53,
          52,
          52,
          51,
          51,
          51,
          50,
          50,
          49,
          49,
          49,
          48,
          48,
          48,
          48,
          48,
          47,
          47,
          46,
          45,
          45,
          45,
          45,
          45,
          44,
          44,
          43,
          42,
          41,
          41,
          40,
          38,
          38,
          37,
          37,
          36,
          32,
          30,
          30,
          27
         ]
        }
       ],
       "layout": {
        "coloraxis": {
         "colorbar": {
          "title": {
           "text": "Perceived Safety"
          }
         },
         "colorscale": [
          [
           0,
           "#0d0887"
          ],
          [
           0.1111111111111111,
           "#46039f"
          ],
          [
           0.2222222222222222,
           "#7201a8"
          ],
          [
           0.3333333333333333,
           "#9c179e"
          ],
          [
           0.4444444444444444,
           "#bd3786"
          ],
          [
           0.5555555555555556,
           "#d8576b"
          ],
          [
           0.6666666666666666,
           "#ed7953"
          ],
          [
           0.7777777777777778,
           "#fb9f3a"
          ],
          [
           0.8888888888888888,
           "#fdca26"
          ],
          [
           1,
           "#f0f921"
          ]
         ]
        },
        "geo": {
         "center": {},
         "domain": {
          "x": [
           0,
           1
          ],
          "y": [
           0,
           1
          ]
         }
        },
        "legend": {
         "tracegroupgap": 0
        },
        "template": {
         "data": {
          "bar": [
           {
            "error_x": {
             "color": "#2a3f5f"
            },
            "error_y": {
             "color": "#2a3f5f"
            },
            "marker": {
             "line": {
              "color": "#E5ECF6",
              "width": 0.5
             },
             "pattern": {
              "fillmode": "overlay",
              "size": 10,
              "solidity": 0.2
             }
            },
            "type": "bar"
           }
          ],
          "barpolar": [
           {
            "marker": {
             "line": {
              "color": "#E5ECF6",
              "width": 0.5
             },
             "pattern": {
              "fillmode": "overlay",
              "size": 10,
              "solidity": 0.2
             }
            },
            "type": "barpolar"
           }
          ],
          "carpet": [
           {
            "aaxis": {
             "endlinecolor": "#2a3f5f",
             "gridcolor": "white",
             "linecolor": "white",
             "minorgridcolor": "white",
             "startlinecolor": "#2a3f5f"
            },
            "baxis": {
             "endlinecolor": "#2a3f5f",
             "gridcolor": "white",
             "linecolor": "white",
             "minorgridcolor": "white",
             "startlinecolor": "#2a3f5f"
            },
            "type": "carpet"
           }
          ],
          "choropleth": [
           {
            "colorbar": {
             "outlinewidth": 0,
             "ticks": ""
            },
            "type": "choropleth"
           }
          ],
          "contour": [
           {
            "colorbar": {
             "outlinewidth": 0,
             "ticks": ""
            },
            "colorscale": [
             [
              0,
              "#0d0887"
             ],
             [
              0.1111111111111111,
              "#46039f"
             ],
             [
              0.2222222222222222,
              "#7201a8"
             ],
             [
              0.3333333333333333,
              "#9c179e"
             ],
             [
              0.4444444444444444,
              "#bd3786"
             ],
             [
              0.5555555555555556,
              "#d8576b"
             ],
             [
              0.6666666666666666,
              "#ed7953"
             ],
             [
              0.7777777777777778,
              "#fb9f3a"
             ],
             [
              0.8888888888888888,
              "#fdca26"
             ],
             [
              1,
              "#f0f921"
             ]
            ],
            "type": "contour"
           }
          ],
          "contourcarpet": [
           {
            "colorbar": {
             "outlinewidth": 0,
             "ticks": ""
            },
            "type": "contourcarpet"
           }
          ],
          "heatmap": [
           {
            "colorbar": {
             "outlinewidth": 0,
             "ticks": ""
            },
            "colorscale": [
             [
              0,
              "#0d0887"
             ],
             [
              0.1111111111111111,
              "#46039f"
             ],
             [
              0.2222222222222222,
              "#7201a8"
             ],
             [
              0.3333333333333333,
              "#9c179e"
             ],
             [
              0.4444444444444444,
              "#bd3786"
             ],
             [
              0.5555555555555556,
              "#d8576b"
             ],
             [
              0.6666666666666666,
              "#ed7953"
             ],
             [
              0.7777777777777778,
              "#fb9f3a"
             ],
             [
              0.8888888888888888,
              "#fdca26"
             ],
             [
              1,
              "#f0f921"
             ]
            ],
            "type": "heatmap"
           }
          ],
          "heatmapgl": [
           {
            "colorbar": {
             "outlinewidth": 0,
             "ticks": ""
            },
            "colorscale": [
             [
              0,
              "#0d0887"
             ],
             [
              0.1111111111111111,
              "#46039f"
             ],
             [
              0.2222222222222222,
              "#7201a8"
             ],
             [
              0.3333333333333333,
              "#9c179e"
             ],
             [
              0.4444444444444444,
              "#bd3786"
             ],
             [
              0.5555555555555556,
              "#d8576b"
             ],
             [
              0.6666666666666666,
              "#ed7953"
             ],
             [
              0.7777777777777778,
              "#fb9f3a"
             ],
             [
              0.8888888888888888,
              "#fdca26"
             ],
             [
              1,
              "#f0f921"
             ]
            ],
            "type": "heatmapgl"
           }
          ],
          "histogram": [
           {
            "marker": {
             "pattern": {
              "fillmode": "overlay",
              "size": 10,
              "solidity": 0.2
             }
            },
            "type": "histogram"
           }
          ],
          "histogram2d": [
           {
            "colorbar": {
             "outlinewidth": 0,
             "ticks": ""
            },
            "colorscale": [
             [
              0,
              "#0d0887"
             ],
             [
              0.1111111111111111,
              "#46039f"
             ],
             [
              0.2222222222222222,
              "#7201a8"
             ],
             [
              0.3333333333333333,
              "#9c179e"
             ],
             [
              0.4444444444444444,
              "#bd3786"
             ],
             [
              0.5555555555555556,
              "#d8576b"
             ],
             [
              0.6666666666666666,
              "#ed7953"
             ],
             [
              0.7777777777777778,
              "#fb9f3a"
             ],
             [
              0.8888888888888888,
              "#fdca26"
             ],
             [
              1,
              "#f0f921"
             ]
            ],
            "type": "histogram2d"
           }
          ],
          "histogram2dcontour": [
           {
            "colorbar": {
             "outlinewidth": 0,
             "ticks": ""
            },
            "colorscale": [
             [
              0,
              "#0d0887"
             ],
             [
              0.1111111111111111,
              "#46039f"
             ],
             [
              0.2222222222222222,
              "#7201a8"
             ],
             [
              0.3333333333333333,
              "#9c179e"
             ],
             [
              0.4444444444444444,
              "#bd3786"
             ],
             [
              0.5555555555555556,
              "#d8576b"
             ],
             [
              0.6666666666666666,
              "#ed7953"
             ],
             [
              0.7777777777777778,
              "#fb9f3a"
             ],
             [
              0.8888888888888888,
              "#fdca26"
             ],
             [
              1,
              "#f0f921"
             ]
            ],
            "type": "histogram2dcontour"
           }
          ],
          "mesh3d": [
           {
            "colorbar": {
             "outlinewidth": 0,
             "ticks": ""
            },
            "type": "mesh3d"
           }
          ],
          "parcoords": [
           {
            "line": {
             "colorbar": {
              "outlinewidth": 0,
              "ticks": ""
             }
            },
            "type": "parcoords"
           }
          ],
          "pie": [
           {
            "automargin": true,
            "type": "pie"
           }
          ],
          "scatter": [
           {
            "fillpattern": {
             "fillmode": "overlay",
             "size": 10,
             "solidity": 0.2
            },
            "type": "scatter"
           }
          ],
          "scatter3d": [
           {
            "line": {
             "colorbar": {
              "outlinewidth": 0,
              "ticks": ""
             }
            },
            "marker": {
             "colorbar": {
              "outlinewidth": 0,
              "ticks": ""
             }
            },
            "type": "scatter3d"
           }
          ],
          "scattercarpet": [
           {
            "marker": {
             "colorbar": {
              "outlinewidth": 0,
              "ticks": ""
             }
            },
            "type": "scattercarpet"
           }
          ],
          "scattergeo": [
           {
            "marker": {
             "colorbar": {
              "outlinewidth": 0,
              "ticks": ""
             }
            },
            "type": "scattergeo"
           }
          ],
          "scattergl": [
           {
            "marker": {
             "colorbar": {
              "outlinewidth": 0,
              "ticks": ""
             }
            },
            "type": "scattergl"
           }
          ],
          "scattermapbox": [
           {
            "marker": {
             "colorbar": {
              "outlinewidth": 0,
              "ticks": ""
             }
            },
            "type": "scattermapbox"
           }
          ],
          "scatterpolar": [
           {
            "marker": {
             "colorbar": {
              "outlinewidth": 0,
              "ticks": ""
             }
            },
            "type": "scatterpolar"
           }
          ],
          "scatterpolargl": [
           {
            "marker": {
             "colorbar": {
              "outlinewidth": 0,
              "ticks": ""
             }
            },
            "type": "scatterpolargl"
           }
          ],
          "scatterternary": [
           {
            "marker": {
             "colorbar": {
              "outlinewidth": 0,
              "ticks": ""
             }
            },
            "type": "scatterternary"
           }
          ],
          "surface": [
           {
            "colorbar": {
             "outlinewidth": 0,
             "ticks": ""
            },
            "colorscale": [
             [
              0,
              "#0d0887"
             ],
             [
              0.1111111111111111,
              "#46039f"
             ],
             [
              0.2222222222222222,
              "#7201a8"
             ],
             [
              0.3333333333333333,
              "#9c179e"
             ],
             [
              0.4444444444444444,
              "#bd3786"
             ],
             [
              0.5555555555555556,
              "#d8576b"
             ],
             [
              0.6666666666666666,
              "#ed7953"
             ],
             [
              0.7777777777777778,
              "#fb9f3a"
             ],
             [
              0.8888888888888888,
              "#fdca26"
             ],
             [
              1,
              "#f0f921"
             ]
            ],
            "type": "surface"
           }
          ],
          "table": [
           {
            "cells": {
             "fill": {
              "color": "#EBF0F8"
             },
             "line": {
              "color": "white"
             }
            },
            "header": {
             "fill": {
              "color": "#C8D4E3"
             },
             "line": {
              "color": "white"
             }
            },
            "type": "table"
           }
          ]
         },
         "layout": {
          "annotationdefaults": {
           "arrowcolor": "#2a3f5f",
           "arrowhead": 0,
           "arrowwidth": 1
          },
          "autotypenumbers": "strict",
          "coloraxis": {
           "colorbar": {
            "outlinewidth": 0,
            "ticks": ""
           }
          },
          "colorscale": {
           "diverging": [
            [
             0,
             "#8e0152"
            ],
            [
             0.1,
             "#c51b7d"
            ],
            [
             0.2,
             "#de77ae"
            ],
            [
             0.3,
             "#f1b6da"
            ],
            [
             0.4,
             "#fde0ef"
            ],
            [
             0.5,
             "#f7f7f7"
            ],
            [
             0.6,
             "#e6f5d0"
            ],
            [
             0.7,
             "#b8e186"
            ],
            [
             0.8,
             "#7fbc41"
            ],
            [
             0.9,
             "#4d9221"
            ],
            [
             1,
             "#276419"
            ]
           ],
           "sequential": [
            [
             0,
             "#0d0887"
            ],
            [
             0.1111111111111111,
             "#46039f"
            ],
            [
             0.2222222222222222,
             "#7201a8"
            ],
            [
             0.3333333333333333,
             "#9c179e"
            ],
            [
             0.4444444444444444,
             "#bd3786"
            ],
            [
             0.5555555555555556,
             "#d8576b"
            ],
            [
             0.6666666666666666,
             "#ed7953"
            ],
            [
             0.7777777777777778,
             "#fb9f3a"
            ],
            [
             0.8888888888888888,
             "#fdca26"
            ],
            [
             1,
             "#f0f921"
            ]
           ],
           "sequentialminus": [
            [
             0,
             "#0d0887"
            ],
            [
             0.1111111111111111,
             "#46039f"
            ],
            [
             0.2222222222222222,
             "#7201a8"
            ],
            [
             0.3333333333333333,
             "#9c179e"
            ],
            [
             0.4444444444444444,
             "#bd3786"
            ],
            [
             0.5555555555555556,
             "#d8576b"
            ],
            [
             0.6666666666666666,
             "#ed7953"
            ],
            [
             0.7777777777777778,
             "#fb9f3a"
            ],
            [
             0.8888888888888888,
             "#fdca26"
            ],
            [
             1,
             "#f0f921"
            ]
           ]
          },
          "colorway": [
           "#636efa",
           "#EF553B",
           "#00cc96",
           "#ab63fa",
           "#FFA15A",
           "#19d3f3",
           "#FF6692",
           "#B6E880",
           "#FF97FF",
           "#FECB52"
          ],
          "font": {
           "color": "#2a3f5f"
          },
          "geo": {
           "bgcolor": "white",
           "lakecolor": "white",
           "landcolor": "#E5ECF6",
           "showlakes": true,
           "showland": true,
           "subunitcolor": "white"
          },
          "hoverlabel": {
           "align": "left"
          },
          "hovermode": "closest",
          "mapbox": {
           "style": "light"
          },
          "paper_bgcolor": "white",
          "plot_bgcolor": "#E5ECF6",
          "polar": {
           "angularaxis": {
            "gridcolor": "white",
            "linecolor": "white",
            "ticks": ""
           },
           "bgcolor": "#E5ECF6",
           "radialaxis": {
            "gridcolor": "white",
            "linecolor": "white",
            "ticks": ""
           }
          },
          "scene": {
           "xaxis": {
            "backgroundcolor": "#E5ECF6",
            "gridcolor": "white",
            "gridwidth": 2,
            "linecolor": "white",
            "showbackground": true,
            "ticks": "",
            "zerolinecolor": "white"
           },
           "yaxis": {
            "backgroundcolor": "#E5ECF6",
            "gridcolor": "white",
            "gridwidth": 2,
            "linecolor": "white",
            "showbackground": true,
            "ticks": "",
            "zerolinecolor": "white"
           },
           "zaxis": {
            "backgroundcolor": "#E5ECF6",
            "gridcolor": "white",
            "gridwidth": 2,
            "linecolor": "white",
            "showbackground": true,
            "ticks": "",
            "zerolinecolor": "white"
           }
          },
          "shapedefaults": {
           "line": {
            "color": "#2a3f5f"
           }
          },
          "ternary": {
           "aaxis": {
            "gridcolor": "white",
            "linecolor": "white",
            "ticks": ""
           },
           "baxis": {
            "gridcolor": "white",
            "linecolor": "white",
            "ticks": ""
           },
           "bgcolor": "#E5ECF6",
           "caxis": {
            "gridcolor": "white",
            "linecolor": "white",
            "ticks": ""
           }
          },
          "title": {
           "x": 0.05
          },
          "xaxis": {
           "automargin": true,
           "gridcolor": "white",
           "linecolor": "white",
           "ticks": "",
           "title": {
            "standoff": 15
           },
           "zerolinecolor": "white",
           "zerolinewidth": 2
          },
          "yaxis": {
           "automargin": true,
           "gridcolor": "white",
           "linecolor": "white",
           "ticks": "",
           "title": {
            "standoff": 15
           },
           "zerolinecolor": "white",
           "zerolinewidth": 2
          }
         }
        },
        "title": {
         "text": "World Map of Perceived Safety"
        }
       }
      },
      "text/html": [
       "<div>                            <div id=\"922e3918-ef59-4a09-ae61-db01a1fbc47f\" class=\"plotly-graph-div\" style=\"height:525px; width:100%;\"></div>            <script type=\"text/javascript\">                require([\"plotly\"], function(Plotly) {                    window.PLOTLYENV=window.PLOTLYENV || {};                                    if (document.getElementById(\"922e3918-ef59-4a09-ae61-db01a1fbc47f\")) {                    Plotly.newPlot(                        \"922e3918-ef59-4a09-ae61-db01a1fbc47f\",                        [{\"coloraxis\":\"coloraxis\",\"geo\":\"geo\",\"hovertemplate\":[\"\\u003cb\\u003e%{location}\\u003c\\u002fb\\u003e\\u003cbr\\u003eScore: %{z}\\u003cbr\\u003eRank: 1\\u003cextra\\u003e\\u003c\\u002fextra\\u003e\",\"\\u003cb\\u003e%{location}\\u003c\\u002fb\\u003e\\u003cbr\\u003eScore: %{z}\\u003cbr\\u003eRank: 2\\u003cextra\\u003e\\u003c\\u002fextra\\u003e\",\"\\u003cb\\u003e%{location}\\u003c\\u002fb\\u003e\\u003cbr\\u003eScore: %{z}\\u003cbr\\u003eRank: 3\\u003cextra\\u003e\\u003c\\u002fextra\\u003e\",\"\\u003cb\\u003e%{location}\\u003c\\u002fb\\u003e\\u003cbr\\u003eScore: %{z}\\u003cbr\\u003eRank: 4\\u003cextra\\u003e\\u003c\\u002fextra\\u003e\",\"\\u003cb\\u003e%{location}\\u003c\\u002fb\\u003e\\u003cbr\\u003eScore: %{z}\\u003cbr\\u003eRank: 5\\u003cextra\\u003e\\u003c\\u002fextra\\u003e\",\"\\u003cb\\u003e%{location}\\u003c\\u002fb\\u003e\\u003cbr\\u003eScore: %{z}\\u003cbr\\u003eRank: 6\\u003cextra\\u003e\\u003c\\u002fextra\\u003e\",\"\\u003cb\\u003e%{location}\\u003c\\u002fb\\u003e\\u003cbr\\u003eScore: %{z}\\u003cbr\\u003eRank: 7\\u003cextra\\u003e\\u003c\\u002fextra\\u003e\",\"\\u003cb\\u003e%{location}\\u003c\\u002fb\\u003e\\u003cbr\\u003eScore: %{z}\\u003cbr\\u003eRank: 8\\u003cextra\\u003e\\u003c\\u002fextra\\u003e\",\"\\u003cb\\u003e%{location}\\u003c\\u002fb\\u003e\\u003cbr\\u003eScore: %{z}\\u003cbr\\u003eRank: 9\\u003cextra\\u003e\\u003c\\u002fextra\\u003e\",\"\\u003cb\\u003e%{location}\\u003c\\u002fb\\u003e\\u003cbr\\u003eScore: %{z}\\u003cbr\\u003eRank: 10\\u003cextra\\u003e\\u003c\\u002fextra\\u003e\",\"\\u003cb\\u003e%{location}\\u003c\\u002fb\\u003e\\u003cbr\\u003eScore: %{z}\\u003cbr\\u003eRank: 11\\u003cextra\\u003e\\u003c\\u002fextra\\u003e\",\"\\u003cb\\u003e%{location}\\u003c\\u002fb\\u003e\\u003cbr\\u003eScore: %{z}\\u003cbr\\u003eRank: 12\\u003cextra\\u003e\\u003c\\u002fextra\\u003e\",\"\\u003cb\\u003e%{location}\\u003c\\u002fb\\u003e\\u003cbr\\u003eScore: %{z}\\u003cbr\\u003eRank: 13\\u003cextra\\u003e\\u003c\\u002fextra\\u003e\",\"\\u003cb\\u003e%{location}\\u003c\\u002fb\\u003e\\u003cbr\\u003eScore: %{z}\\u003cbr\\u003eRank: 14\\u003cextra\\u003e\\u003c\\u002fextra\\u003e\",\"\\u003cb\\u003e%{location}\\u003c\\u002fb\\u003e\\u003cbr\\u003eScore: %{z}\\u003cbr\\u003eRank: 15\\u003cextra\\u003e\\u003c\\u002fextra\\u003e\",\"\\u003cb\\u003e%{location}\\u003c\\u002fb\\u003e\\u003cbr\\u003eScore: %{z}\\u003cbr\\u003eRank: 16\\u003cextra\\u003e\\u003c\\u002fextra\\u003e\",\"\\u003cb\\u003e%{location}\\u003c\\u002fb\\u003e\\u003cbr\\u003eScore: %{z}\\u003cbr\\u003eRank: 17\\u003cextra\\u003e\\u003c\\u002fextra\\u003e\",\"\\u003cb\\u003e%{location}\\u003c\\u002fb\\u003e\\u003cbr\\u003eScore: %{z}\\u003cbr\\u003eRank: 18\\u003cextra\\u003e\\u003c\\u002fextra\\u003e\",\"\\u003cb\\u003e%{location}\\u003c\\u002fb\\u003e\\u003cbr\\u003eScore: %{z}\\u003cbr\\u003eRank: 19\\u003cextra\\u003e\\u003c\\u002fextra\\u003e\",\"\\u003cb\\u003e%{location}\\u003c\\u002fb\\u003e\\u003cbr\\u003eScore: %{z}\\u003cbr\\u003eRank: 20\\u003cextra\\u003e\\u003c\\u002fextra\\u003e\",\"\\u003cb\\u003e%{location}\\u003c\\u002fb\\u003e\\u003cbr\\u003eScore: %{z}\\u003cbr\\u003eRank: 21\\u003cextra\\u003e\\u003c\\u002fextra\\u003e\",\"\\u003cb\\u003e%{location}\\u003c\\u002fb\\u003e\\u003cbr\\u003eScore: %{z}\\u003cbr\\u003eRank: 22\\u003cextra\\u003e\\u003c\\u002fextra\\u003e\",\"\\u003cb\\u003e%{location}\\u003c\\u002fb\\u003e\\u003cbr\\u003eScore: %{z}\\u003cbr\\u003eRank: 23\\u003cextra\\u003e\\u003c\\u002fextra\\u003e\",\"\\u003cb\\u003e%{location}\\u003c\\u002fb\\u003e\\u003cbr\\u003eScore: %{z}\\u003cbr\\u003eRank: 24\\u003cextra\\u003e\\u003c\\u002fextra\\u003e\",\"\\u003cb\\u003e%{location}\\u003c\\u002fb\\u003e\\u003cbr\\u003eScore: %{z}\\u003cbr\\u003eRank: 25\\u003cextra\\u003e\\u003c\\u002fextra\\u003e\",\"\\u003cb\\u003e%{location}\\u003c\\u002fb\\u003e\\u003cbr\\u003eScore: %{z}\\u003cbr\\u003eRank: 26\\u003cextra\\u003e\\u003c\\u002fextra\\u003e\",\"\\u003cb\\u003e%{location}\\u003c\\u002fb\\u003e\\u003cbr\\u003eScore: %{z}\\u003cbr\\u003eRank: 27\\u003cextra\\u003e\\u003c\\u002fextra\\u003e\",\"\\u003cb\\u003e%{location}\\u003c\\u002fb\\u003e\\u003cbr\\u003eScore: %{z}\\u003cbr\\u003eRank: 28\\u003cextra\\u003e\\u003c\\u002fextra\\u003e\",\"\\u003cb\\u003e%{location}\\u003c\\u002fb\\u003e\\u003cbr\\u003eScore: %{z}\\u003cbr\\u003eRank: 29\\u003cextra\\u003e\\u003c\\u002fextra\\u003e\",\"\\u003cb\\u003e%{location}\\u003c\\u002fb\\u003e\\u003cbr\\u003eScore: %{z}\\u003cbr\\u003eRank: 30\\u003cextra\\u003e\\u003c\\u002fextra\\u003e\",\"\\u003cb\\u003e%{location}\\u003c\\u002fb\\u003e\\u003cbr\\u003eScore: %{z}\\u003cbr\\u003eRank: 31\\u003cextra\\u003e\\u003c\\u002fextra\\u003e\",\"\\u003cb\\u003e%{location}\\u003c\\u002fb\\u003e\\u003cbr\\u003eScore: %{z}\\u003cbr\\u003eRank: 32\\u003cextra\\u003e\\u003c\\u002fextra\\u003e\",\"\\u003cb\\u003e%{location}\\u003c\\u002fb\\u003e\\u003cbr\\u003eScore: %{z}\\u003cbr\\u003eRank: 33\\u003cextra\\u003e\\u003c\\u002fextra\\u003e\",\"\\u003cb\\u003e%{location}\\u003c\\u002fb\\u003e\\u003cbr\\u003eScore: %{z}\\u003cbr\\u003eRank: 34\\u003cextra\\u003e\\u003c\\u002fextra\\u003e\",\"\\u003cb\\u003e%{location}\\u003c\\u002fb\\u003e\\u003cbr\\u003eScore: %{z}\\u003cbr\\u003eRank: 35\\u003cextra\\u003e\\u003c\\u002fextra\\u003e\",\"\\u003cb\\u003e%{location}\\u003c\\u002fb\\u003e\\u003cbr\\u003eScore: %{z}\\u003cbr\\u003eRank: 36\\u003cextra\\u003e\\u003c\\u002fextra\\u003e\",\"\\u003cb\\u003e%{location}\\u003c\\u002fb\\u003e\\u003cbr\\u003eScore: %{z}\\u003cbr\\u003eRank: 37\\u003cextra\\u003e\\u003c\\u002fextra\\u003e\",\"\\u003cb\\u003e%{location}\\u003c\\u002fb\\u003e\\u003cbr\\u003eScore: %{z}\\u003cbr\\u003eRank: 38\\u003cextra\\u003e\\u003c\\u002fextra\\u003e\",\"\\u003cb\\u003e%{location}\\u003c\\u002fb\\u003e\\u003cbr\\u003eScore: %{z}\\u003cbr\\u003eRank: 39\\u003cextra\\u003e\\u003c\\u002fextra\\u003e\",\"\\u003cb\\u003e%{location}\\u003c\\u002fb\\u003e\\u003cbr\\u003eScore: %{z}\\u003cbr\\u003eRank: 40\\u003cextra\\u003e\\u003c\\u002fextra\\u003e\",\"\\u003cb\\u003e%{location}\\u003c\\u002fb\\u003e\\u003cbr\\u003eScore: %{z}\\u003cbr\\u003eRank: 41\\u003cextra\\u003e\\u003c\\u002fextra\\u003e\",\"\\u003cb\\u003e%{location}\\u003c\\u002fb\\u003e\\u003cbr\\u003eScore: %{z}\\u003cbr\\u003eRank: 42\\u003cextra\\u003e\\u003c\\u002fextra\\u003e\",\"\\u003cb\\u003e%{location}\\u003c\\u002fb\\u003e\\u003cbr\\u003eScore: %{z}\\u003cbr\\u003eRank: 43\\u003cextra\\u003e\\u003c\\u002fextra\\u003e\",\"\\u003cb\\u003e%{location}\\u003c\\u002fb\\u003e\\u003cbr\\u003eScore: %{z}\\u003cbr\\u003eRank: 44\\u003cextra\\u003e\\u003c\\u002fextra\\u003e\",\"\\u003cb\\u003e%{location}\\u003c\\u002fb\\u003e\\u003cbr\\u003eScore: %{z}\\u003cbr\\u003eRank: 45\\u003cextra\\u003e\\u003c\\u002fextra\\u003e\",\"\\u003cb\\u003e%{location}\\u003c\\u002fb\\u003e\\u003cbr\\u003eScore: %{z}\\u003cbr\\u003eRank: 46\\u003cextra\\u003e\\u003c\\u002fextra\\u003e\",\"\\u003cb\\u003e%{location}\\u003c\\u002fb\\u003e\\u003cbr\\u003eScore: %{z}\\u003cbr\\u003eRank: 47\\u003cextra\\u003e\\u003c\\u002fextra\\u003e\",\"\\u003cb\\u003e%{location}\\u003c\\u002fb\\u003e\\u003cbr\\u003eScore: %{z}\\u003cbr\\u003eRank: 48\\u003cextra\\u003e\\u003c\\u002fextra\\u003e\",\"\\u003cb\\u003e%{location}\\u003c\\u002fb\\u003e\\u003cbr\\u003eScore: %{z}\\u003cbr\\u003eRank: 49\\u003cextra\\u003e\\u003c\\u002fextra\\u003e\",\"\\u003cb\\u003e%{location}\\u003c\\u002fb\\u003e\\u003cbr\\u003eScore: %{z}\\u003cbr\\u003eRank: 50\\u003cextra\\u003e\\u003c\\u002fextra\\u003e\",\"\\u003cb\\u003e%{location}\\u003c\\u002fb\\u003e\\u003cbr\\u003eScore: %{z}\\u003cbr\\u003eRank: 51\\u003cextra\\u003e\\u003c\\u002fextra\\u003e\",\"\\u003cb\\u003e%{location}\\u003c\\u002fb\\u003e\\u003cbr\\u003eScore: %{z}\\u003cbr\\u003eRank: 52\\u003cextra\\u003e\\u003c\\u002fextra\\u003e\",\"\\u003cb\\u003e%{location}\\u003c\\u002fb\\u003e\\u003cbr\\u003eScore: %{z}\\u003cbr\\u003eRank: 53\\u003cextra\\u003e\\u003c\\u002fextra\\u003e\",\"\\u003cb\\u003e%{location}\\u003c\\u002fb\\u003e\\u003cbr\\u003eScore: %{z}\\u003cbr\\u003eRank: 54\\u003cextra\\u003e\\u003c\\u002fextra\\u003e\",\"\\u003cb\\u003e%{location}\\u003c\\u002fb\\u003e\\u003cbr\\u003eScore: %{z}\\u003cbr\\u003eRank: 55\\u003cextra\\u003e\\u003c\\u002fextra\\u003e\",\"\\u003cb\\u003e%{location}\\u003c\\u002fb\\u003e\\u003cbr\\u003eScore: %{z}\\u003cbr\\u003eRank: 56\\u003cextra\\u003e\\u003c\\u002fextra\\u003e\",\"\\u003cb\\u003e%{location}\\u003c\\u002fb\\u003e\\u003cbr\\u003eScore: %{z}\\u003cbr\\u003eRank: 57\\u003cextra\\u003e\\u003c\\u002fextra\\u003e\",\"\\u003cb\\u003e%{location}\\u003c\\u002fb\\u003e\\u003cbr\\u003eScore: %{z}\\u003cbr\\u003eRank: 58\\u003cextra\\u003e\\u003c\\u002fextra\\u003e\",\"\\u003cb\\u003e%{location}\\u003c\\u002fb\\u003e\\u003cbr\\u003eScore: %{z}\\u003cbr\\u003eRank: 59\\u003cextra\\u003e\\u003c\\u002fextra\\u003e\",\"\\u003cb\\u003e%{location}\\u003c\\u002fb\\u003e\\u003cbr\\u003eScore: %{z}\\u003cbr\\u003eRank: 60\\u003cextra\\u003e\\u003c\\u002fextra\\u003e\",\"\\u003cb\\u003e%{location}\\u003c\\u002fb\\u003e\\u003cbr\\u003eScore: %{z}\\u003cbr\\u003eRank: 61\\u003cextra\\u003e\\u003c\\u002fextra\\u003e\",\"\\u003cb\\u003e%{location}\\u003c\\u002fb\\u003e\\u003cbr\\u003eScore: %{z}\\u003cbr\\u003eRank: 62\\u003cextra\\u003e\\u003c\\u002fextra\\u003e\",\"\\u003cb\\u003e%{location}\\u003c\\u002fb\\u003e\\u003cbr\\u003eScore: %{z}\\u003cbr\\u003eRank: 63\\u003cextra\\u003e\\u003c\\u002fextra\\u003e\",\"\\u003cb\\u003e%{location}\\u003c\\u002fb\\u003e\\u003cbr\\u003eScore: %{z}\\u003cbr\\u003eRank: 64\\u003cextra\\u003e\\u003c\\u002fextra\\u003e\",\"\\u003cb\\u003e%{location}\\u003c\\u002fb\\u003e\\u003cbr\\u003eScore: %{z}\\u003cbr\\u003eRank: 65\\u003cextra\\u003e\\u003c\\u002fextra\\u003e\",\"\\u003cb\\u003e%{location}\\u003c\\u002fb\\u003e\\u003cbr\\u003eScore: %{z}\\u003cbr\\u003eRank: 66\\u003cextra\\u003e\\u003c\\u002fextra\\u003e\",\"\\u003cb\\u003e%{location}\\u003c\\u002fb\\u003e\\u003cbr\\u003eScore: %{z}\\u003cbr\\u003eRank: 67\\u003cextra\\u003e\\u003c\\u002fextra\\u003e\",\"\\u003cb\\u003e%{location}\\u003c\\u002fb\\u003e\\u003cbr\\u003eScore: %{z}\\u003cbr\\u003eRank: 68\\u003cextra\\u003e\\u003c\\u002fextra\\u003e\",\"\\u003cb\\u003e%{location}\\u003c\\u002fb\\u003e\\u003cbr\\u003eScore: %{z}\\u003cbr\\u003eRank: 69\\u003cextra\\u003e\\u003c\\u002fextra\\u003e\",\"\\u003cb\\u003e%{location}\\u003c\\u002fb\\u003e\\u003cbr\\u003eScore: %{z}\\u003cbr\\u003eRank: 70\\u003cextra\\u003e\\u003c\\u002fextra\\u003e\",\"\\u003cb\\u003e%{location}\\u003c\\u002fb\\u003e\\u003cbr\\u003eScore: %{z}\\u003cbr\\u003eRank: 71\\u003cextra\\u003e\\u003c\\u002fextra\\u003e\",\"\\u003cb\\u003e%{location}\\u003c\\u002fb\\u003e\\u003cbr\\u003eScore: %{z}\\u003cbr\\u003eRank: 72\\u003cextra\\u003e\\u003c\\u002fextra\\u003e\",\"\\u003cb\\u003e%{location}\\u003c\\u002fb\\u003e\\u003cbr\\u003eScore: %{z}\\u003cbr\\u003eRank: 73\\u003cextra\\u003e\\u003c\\u002fextra\\u003e\",\"\\u003cb\\u003e%{location}\\u003c\\u002fb\\u003e\\u003cbr\\u003eScore: %{z}\\u003cbr\\u003eRank: 74\\u003cextra\\u003e\\u003c\\u002fextra\\u003e\",\"\\u003cb\\u003e%{location}\\u003c\\u002fb\\u003e\\u003cbr\\u003eScore: %{z}\\u003cbr\\u003eRank: 75\\u003cextra\\u003e\\u003c\\u002fextra\\u003e\",\"\\u003cb\\u003e%{location}\\u003c\\u002fb\\u003e\\u003cbr\\u003eScore: %{z}\\u003cbr\\u003eRank: 76\\u003cextra\\u003e\\u003c\\u002fextra\\u003e\",\"\\u003cb\\u003e%{location}\\u003c\\u002fb\\u003e\\u003cbr\\u003eScore: %{z}\\u003cbr\\u003eRank: 77\\u003cextra\\u003e\\u003c\\u002fextra\\u003e\",\"\\u003cb\\u003e%{location}\\u003c\\u002fb\\u003e\\u003cbr\\u003eScore: %{z}\\u003cbr\\u003eRank: 78\\u003cextra\\u003e\\u003c\\u002fextra\\u003e\",\"\\u003cb\\u003e%{location}\\u003c\\u002fb\\u003e\\u003cbr\\u003eScore: %{z}\\u003cbr\\u003eRank: 79\\u003cextra\\u003e\\u003c\\u002fextra\\u003e\",\"\\u003cb\\u003e%{location}\\u003c\\u002fb\\u003e\\u003cbr\\u003eScore: %{z}\\u003cbr\\u003eRank: 80\\u003cextra\\u003e\\u003c\\u002fextra\\u003e\",\"\\u003cb\\u003e%{location}\\u003c\\u002fb\\u003e\\u003cbr\\u003eScore: %{z}\\u003cbr\\u003eRank: 81\\u003cextra\\u003e\\u003c\\u002fextra\\u003e\",\"\\u003cb\\u003e%{location}\\u003c\\u002fb\\u003e\\u003cbr\\u003eScore: %{z}\\u003cbr\\u003eRank: 82\\u003cextra\\u003e\\u003c\\u002fextra\\u003e\",\"\\u003cb\\u003e%{location}\\u003c\\u002fb\\u003e\\u003cbr\\u003eScore: %{z}\\u003cbr\\u003eRank: 83\\u003cextra\\u003e\\u003c\\u002fextra\\u003e\",\"\\u003cb\\u003e%{location}\\u003c\\u002fb\\u003e\\u003cbr\\u003eScore: %{z}\\u003cbr\\u003eRank: 84\\u003cextra\\u003e\\u003c\\u002fextra\\u003e\",\"\\u003cb\\u003e%{location}\\u003c\\u002fb\\u003e\\u003cbr\\u003eScore: %{z}\\u003cbr\\u003eRank: 85\\u003cextra\\u003e\\u003c\\u002fextra\\u003e\",\"\\u003cb\\u003e%{location}\\u003c\\u002fb\\u003e\\u003cbr\\u003eScore: %{z}\\u003cbr\\u003eRank: 86\\u003cextra\\u003e\\u003c\\u002fextra\\u003e\",\"\\u003cb\\u003e%{location}\\u003c\\u002fb\\u003e\\u003cbr\\u003eScore: %{z}\\u003cbr\\u003eRank: 87\\u003cextra\\u003e\\u003c\\u002fextra\\u003e\",\"\\u003cb\\u003e%{location}\\u003c\\u002fb\\u003e\\u003cbr\\u003eScore: %{z}\\u003cbr\\u003eRank: 88\\u003cextra\\u003e\\u003c\\u002fextra\\u003e\",\"\\u003cb\\u003e%{location}\\u003c\\u002fb\\u003e\\u003cbr\\u003eScore: %{z}\\u003cbr\\u003eRank: 89\\u003cextra\\u003e\\u003c\\u002fextra\\u003e\",\"\\u003cb\\u003e%{location}\\u003c\\u002fb\\u003e\\u003cbr\\u003eScore: %{z}\\u003cbr\\u003eRank: 90\\u003cextra\\u003e\\u003c\\u002fextra\\u003e\",\"\\u003cb\\u003e%{location}\\u003c\\u002fb\\u003e\\u003cbr\\u003eScore: %{z}\\u003cbr\\u003eRank: 91\\u003cextra\\u003e\\u003c\\u002fextra\\u003e\",\"\\u003cb\\u003e%{location}\\u003c\\u002fb\\u003e\\u003cbr\\u003eScore: %{z}\\u003cbr\\u003eRank: 92\\u003cextra\\u003e\\u003c\\u002fextra\\u003e\",\"\\u003cb\\u003e%{location}\\u003c\\u002fb\\u003e\\u003cbr\\u003eScore: %{z}\\u003cbr\\u003eRank: 93\\u003cextra\\u003e\\u003c\\u002fextra\\u003e\",\"\\u003cb\\u003e%{location}\\u003c\\u002fb\\u003e\\u003cbr\\u003eScore: %{z}\\u003cbr\\u003eRank: 94\\u003cextra\\u003e\\u003c\\u002fextra\\u003e\",\"\\u003cb\\u003e%{location}\\u003c\\u002fb\\u003e\\u003cbr\\u003eScore: %{z}\\u003cbr\\u003eRank: 95\\u003cextra\\u003e\\u003c\\u002fextra\\u003e\",\"\\u003cb\\u003e%{location}\\u003c\\u002fb\\u003e\\u003cbr\\u003eScore: %{z}\\u003cbr\\u003eRank: 96\\u003cextra\\u003e\\u003c\\u002fextra\\u003e\",\"\\u003cb\\u003e%{location}\\u003c\\u002fb\\u003e\\u003cbr\\u003eScore: %{z}\\u003cbr\\u003eRank: 97\\u003cextra\\u003e\\u003c\\u002fextra\\u003e\",\"\\u003cb\\u003e%{location}\\u003c\\u002fb\\u003e\\u003cbr\\u003eScore: %{z}\\u003cbr\\u003eRank: 98\\u003cextra\\u003e\\u003c\\u002fextra\\u003e\",\"\\u003cb\\u003e%{location}\\u003c\\u002fb\\u003e\\u003cbr\\u003eScore: %{z}\\u003cbr\\u003eRank: 99\\u003cextra\\u003e\\u003c\\u002fextra\\u003e\",\"\\u003cb\\u003e%{location}\\u003c\\u002fb\\u003e\\u003cbr\\u003eScore: %{z}\\u003cbr\\u003eRank: 100\\u003cextra\\u003e\\u003c\\u002fextra\\u003e\",\"\\u003cb\\u003e%{location}\\u003c\\u002fb\\u003e\\u003cbr\\u003eScore: %{z}\\u003cbr\\u003eRank: 101\\u003cextra\\u003e\\u003c\\u002fextra\\u003e\",\"\\u003cb\\u003e%{location}\\u003c\\u002fb\\u003e\\u003cbr\\u003eScore: %{z}\\u003cbr\\u003eRank: 102\\u003cextra\\u003e\\u003c\\u002fextra\\u003e\",\"\\u003cb\\u003e%{location}\\u003c\\u002fb\\u003e\\u003cbr\\u003eScore: %{z}\\u003cbr\\u003eRank: 103\\u003cextra\\u003e\\u003c\\u002fextra\\u003e\",\"\\u003cb\\u003e%{location}\\u003c\\u002fb\\u003e\\u003cbr\\u003eScore: %{z}\\u003cbr\\u003eRank: 104\\u003cextra\\u003e\\u003c\\u002fextra\\u003e\",\"\\u003cb\\u003e%{location}\\u003c\\u002fb\\u003e\\u003cbr\\u003eScore: %{z}\\u003cbr\\u003eRank: 105\\u003cextra\\u003e\\u003c\\u002fextra\\u003e\",\"\\u003cb\\u003e%{location}\\u003c\\u002fb\\u003e\\u003cbr\\u003eScore: %{z}\\u003cbr\\u003eRank: 106\\u003cextra\\u003e\\u003c\\u002fextra\\u003e\",\"\\u003cb\\u003e%{location}\\u003c\\u002fb\\u003e\\u003cbr\\u003eScore: %{z}\\u003cbr\\u003eRank: 107\\u003cextra\\u003e\\u003c\\u002fextra\\u003e\",\"\\u003cb\\u003e%{location}\\u003c\\u002fb\\u003e\\u003cbr\\u003eScore: %{z}\\u003cbr\\u003eRank: 108\\u003cextra\\u003e\\u003c\\u002fextra\\u003e\",\"\\u003cb\\u003e%{location}\\u003c\\u002fb\\u003e\\u003cbr\\u003eScore: %{z}\\u003cbr\\u003eRank: 109\\u003cextra\\u003e\\u003c\\u002fextra\\u003e\",\"\\u003cb\\u003e%{location}\\u003c\\u002fb\\u003e\\u003cbr\\u003eScore: %{z}\\u003cbr\\u003eRank: 110\\u003cextra\\u003e\\u003c\\u002fextra\\u003e\",\"\\u003cb\\u003e%{location}\\u003c\\u002fb\\u003e\\u003cbr\\u003eScore: %{z}\\u003cbr\\u003eRank: 111\\u003cextra\\u003e\\u003c\\u002fextra\\u003e\",\"\\u003cb\\u003e%{location}\\u003c\\u002fb\\u003e\\u003cbr\\u003eScore: %{z}\\u003cbr\\u003eRank: 112\\u003cextra\\u003e\\u003c\\u002fextra\\u003e\",\"\\u003cb\\u003e%{location}\\u003c\\u002fb\\u003e\\u003cbr\\u003eScore: %{z}\\u003cbr\\u003eRank: 113\\u003cextra\\u003e\\u003c\\u002fextra\\u003e\",\"\\u003cb\\u003e%{location}\\u003c\\u002fb\\u003e\\u003cbr\\u003eScore: %{z}\\u003cbr\\u003eRank: 114\\u003cextra\\u003e\\u003c\\u002fextra\\u003e\",\"\\u003cb\\u003e%{location}\\u003c\\u002fb\\u003e\\u003cbr\\u003eScore: %{z}\\u003cbr\\u003eRank: 115\\u003cextra\\u003e\\u003c\\u002fextra\\u003e\",\"\\u003cb\\u003e%{location}\\u003c\\u002fb\\u003e\\u003cbr\\u003eScore: %{z}\\u003cbr\\u003eRank: 116\\u003cextra\\u003e\\u003c\\u002fextra\\u003e\",\"\\u003cb\\u003e%{location}\\u003c\\u002fb\\u003e\\u003cbr\\u003eScore: %{z}\\u003cbr\\u003eRank: 117\\u003cextra\\u003e\\u003c\\u002fextra\\u003e\",\"\\u003cb\\u003e%{location}\\u003c\\u002fb\\u003e\\u003cbr\\u003eScore: %{z}\\u003cbr\\u003eRank: 118\\u003cextra\\u003e\\u003c\\u002fextra\\u003e\",\"\\u003cb\\u003e%{location}\\u003c\\u002fb\\u003e\\u003cbr\\u003eScore: %{z}\\u003cbr\\u003eRank: 119\\u003cextra\\u003e\\u003c\\u002fextra\\u003e\",\"\\u003cb\\u003e%{location}\\u003c\\u002fb\\u003e\\u003cbr\\u003eScore: %{z}\\u003cbr\\u003eRank: 120\\u003cextra\\u003e\\u003c\\u002fextra\\u003e\",\"\\u003cb\\u003e%{location}\\u003c\\u002fb\\u003e\\u003cbr\\u003eScore: %{z}\\u003cbr\\u003eRank: 121\\u003cextra\\u003e\\u003c\\u002fextra\\u003e\",\"\\u003cb\\u003e%{location}\\u003c\\u002fb\\u003e\\u003cbr\\u003eScore: %{z}\\u003cbr\\u003eRank: 122\\u003cextra\\u003e\\u003c\\u002fextra\\u003e\",\"\\u003cb\\u003e%{location}\\u003c\\u002fb\\u003e\\u003cbr\\u003eScore: %{z}\\u003cbr\\u003eRank: 123\\u003cextra\\u003e\\u003c\\u002fextra\\u003e\",\"\\u003cb\\u003e%{location}\\u003c\\u002fb\\u003e\\u003cbr\\u003eScore: %{z}\\u003cbr\\u003eRank: 124\\u003cextra\\u003e\\u003c\\u002fextra\\u003e\",\"\\u003cb\\u003e%{location}\\u003c\\u002fb\\u003e\\u003cbr\\u003eScore: %{z}\\u003cbr\\u003eRank: 125\\u003cextra\\u003e\\u003c\\u002fextra\\u003e\",\"\\u003cb\\u003e%{location}\\u003c\\u002fb\\u003e\\u003cbr\\u003eScore: %{z}\\u003cbr\\u003eRank: 126\\u003cextra\\u003e\\u003c\\u002fextra\\u003e\",\"\\u003cb\\u003e%{location}\\u003c\\u002fb\\u003e\\u003cbr\\u003eScore: %{z}\\u003cbr\\u003eRank: 127\\u003cextra\\u003e\\u003c\\u002fextra\\u003e\",\"\\u003cb\\u003e%{location}\\u003c\\u002fb\\u003e\\u003cbr\\u003eScore: %{z}\\u003cbr\\u003eRank: 128\\u003cextra\\u003e\\u003c\\u002fextra\\u003e\",\"\\u003cb\\u003e%{location}\\u003c\\u002fb\\u003e\\u003cbr\\u003eScore: %{z}\\u003cbr\\u003eRank: 129\\u003cextra\\u003e\\u003c\\u002fextra\\u003e\",\"\\u003cb\\u003e%{location}\\u003c\\u002fb\\u003e\\u003cbr\\u003eScore: %{z}\\u003cbr\\u003eRank: 130\\u003cextra\\u003e\\u003c\\u002fextra\\u003e\",\"\\u003cb\\u003e%{location}\\u003c\\u002fb\\u003e\\u003cbr\\u003eScore: %{z}\\u003cbr\\u003eRank: 131\\u003cextra\\u003e\\u003c\\u002fextra\\u003e\",\"\\u003cb\\u003e%{location}\\u003c\\u002fb\\u003e\\u003cbr\\u003eScore: %{z}\\u003cbr\\u003eRank: 132\\u003cextra\\u003e\\u003c\\u002fextra\\u003e\",\"\\u003cb\\u003e%{location}\\u003c\\u002fb\\u003e\\u003cbr\\u003eScore: %{z}\\u003cbr\\u003eRank: 133\\u003cextra\\u003e\\u003c\\u002fextra\\u003e\",\"\\u003cb\\u003e%{location}\\u003c\\u002fb\\u003e\\u003cbr\\u003eScore: %{z}\\u003cbr\\u003eRank: 134\\u003cextra\\u003e\\u003c\\u002fextra\\u003e\",\"\\u003cb\\u003e%{location}\\u003c\\u002fb\\u003e\\u003cbr\\u003eScore: %{z}\\u003cbr\\u003eRank: 135\\u003cextra\\u003e\\u003c\\u002fextra\\u003e\",\"\\u003cb\\u003e%{location}\\u003c\\u002fb\\u003e\\u003cbr\\u003eScore: %{z}\\u003cbr\\u003eRank: 136\\u003cextra\\u003e\\u003c\\u002fextra\\u003e\",\"\\u003cb\\u003e%{location}\\u003c\\u002fb\\u003e\\u003cbr\\u003eScore: %{z}\\u003cbr\\u003eRank: 137\\u003cextra\\u003e\\u003c\\u002fextra\\u003e\",\"\\u003cb\\u003e%{location}\\u003c\\u002fb\\u003e\\u003cbr\\u003eScore: %{z}\\u003cbr\\u003eRank: 138\\u003cextra\\u003e\\u003c\\u002fextra\\u003e\",\"\\u003cb\\u003e%{location}\\u003c\\u002fb\\u003e\\u003cbr\\u003eScore: %{z}\\u003cbr\\u003eRank: 139\\u003cextra\\u003e\\u003c\\u002fextra\\u003e\",\"\\u003cb\\u003e%{location}\\u003c\\u002fb\\u003e\\u003cbr\\u003eScore: %{z}\\u003cbr\\u003eRank: 140\\u003cextra\\u003e\\u003c\\u002fextra\\u003e\"],\"locationmode\":\"country names\",\"locations\":[\"Kuwait\",\"Singapore\",\"Tajikistan\",\"Saudi Arabia\",\"Norway\",\"Slovenia\",\"United Arab Emirates\",\"Montenegro\",\"El Salvador\",\"Switzerland\",\"Luxembourg\",\"Kosovo\",\"Iceland\",\"Bahrain\",\"Armenia\",\"China\",\"Denmark\",\"Estonia\",\"Finland\",\"Hong Kong (S.A.R. of China)\",\"Uzbekistan\",\"Taiwan, Province of China\",\"Portugal\",\"Netherlands\",\"Indonesia\",\"Spain\",\"Austria\",\"Somalia\",\"Egypt\",\"Sweden\",\"Georgia\",\"Ireland\",\"Bangladesh\",\"Serbia\",\"Japan\",\"Vietnam\",\"Jordan\",\"United Kingdom of Great Britain and Northern Ireland\",\"South Korea\",\"Latvia\",\"Iraq\",\"Azerbaijan\",\"Northern Cyprus\",\"Germany\",\"Iran\",\"France\",\"Czech Republic\",\"Canada\",\"Albania\",\"Malta\",\"United States of America\",\"North Macedonia\",\"Republic of Moldova\",\"Hungary\",\"Kyrgyzstan\",\"Bosnia and Herzegovina\",\"Lithuania\",\"State of Palestine\",\"Russian Federation\",\"Croatia\",\"India\",\"Ghana\",\"Malaysia\",\"Morocco\",\"Mali\",\"Israel\",\"Belgium\",\"Australia\",\"Libya\",\"Kazakhstan\",\"Tanzania\",\"Poland\",\"Cyprus\",\"T\\u00fcrkiye\",\"Slovakia\",\"Mauritius\",\"Tunisia\",\"Thailand\",\"Italy\",\"Greece\",\"Romania\",\"Philippines\",\"Honduras\",\"Comoros\",\"Nepal\",\"Niger\",\"Panama\",\"Cambodia\",\"Bulgaria\",\"Ukraine\",\"New Zealand\",\"Guatemala\",\"Benin\",\"Yemen\",\"Mauritania\",\"Nigeria\",\"Lao People's Democratic Republic\",\"Sri Lanka\",\"Senegal\",\"Ethiopia\",\"Pakistan\",\"Burkina Faso\",\"Uruguay\",\"C\\u00f4te d'Ivoire\",\"Mozambique\",\"Mongolia\",\"Paraguay\",\"Togo\",\"Sierra Leone\",\"Madagascar\",\"Guinea\",\"Lebanon\",\"Kenya\",\"Costa Rica\",\"Brazil\",\"Bolivia\",\"Uganda\",\"The Republic of the Congo\",\"Dominican Republic\",\"Colombia\",\"Venezuela\",\"Peru\",\"Cameroon\",\"Mexico\",\"Democratic Republic of Congo\",\"Chad\",\"Zambia\",\"Myanmar\",\"Gabon\",\"Argentina\",\"Malawi\",\"The Gambia\",\"Zimbabwe\",\"Namibia\",\"Eswatini\",\"Chile\",\"Botswana\",\"South Africa\",\"Liberia\",\"Ecuador\"],\"name\":\"\",\"z\":[99,94,92,92,92,91,90,88,88,87,87,87,87,87,86,86,86,85,85,85,84,84,83,83,83,82,82,81,81,79,79,78,78,78,77,77,76,76,76,75,75,75,75,74,73,73,73,73,73,73,72,72,72,72,72,72,72,71,71,71,70,70,69,68,68,68,68,68,67,67,67,66,66,66,66,65,65,64,64,64,63,62,62,62,60,60,60,59,59,59,58,58,58,56,56,55,55,54,54,53,53,52,52,51,51,51,50,50,49,49,49,48,48,48,48,48,47,47,46,45,45,45,45,45,44,44,43,42,41,41,40,38,38,37,37,36,32,30,30,27],\"type\":\"choropleth\"}],                        {\"template\":{\"data\":{\"histogram2dcontour\":[{\"type\":\"histogram2dcontour\",\"colorbar\":{\"outlinewidth\":0,\"ticks\":\"\"},\"colorscale\":[[0.0,\"#0d0887\"],[0.1111111111111111,\"#46039f\"],[0.2222222222222222,\"#7201a8\"],[0.3333333333333333,\"#9c179e\"],[0.4444444444444444,\"#bd3786\"],[0.5555555555555556,\"#d8576b\"],[0.6666666666666666,\"#ed7953\"],[0.7777777777777778,\"#fb9f3a\"],[0.8888888888888888,\"#fdca26\"],[1.0,\"#f0f921\"]]}],\"choropleth\":[{\"type\":\"choropleth\",\"colorbar\":{\"outlinewidth\":0,\"ticks\":\"\"}}],\"histogram2d\":[{\"type\":\"histogram2d\",\"colorbar\":{\"outlinewidth\":0,\"ticks\":\"\"},\"colorscale\":[[0.0,\"#0d0887\"],[0.1111111111111111,\"#46039f\"],[0.2222222222222222,\"#7201a8\"],[0.3333333333333333,\"#9c179e\"],[0.4444444444444444,\"#bd3786\"],[0.5555555555555556,\"#d8576b\"],[0.6666666666666666,\"#ed7953\"],[0.7777777777777778,\"#fb9f3a\"],[0.8888888888888888,\"#fdca26\"],[1.0,\"#f0f921\"]]}],\"heatmap\":[{\"type\":\"heatmap\",\"colorbar\":{\"outlinewidth\":0,\"ticks\":\"\"},\"colorscale\":[[0.0,\"#0d0887\"],[0.1111111111111111,\"#46039f\"],[0.2222222222222222,\"#7201a8\"],[0.3333333333333333,\"#9c179e\"],[0.4444444444444444,\"#bd3786\"],[0.5555555555555556,\"#d8576b\"],[0.6666666666666666,\"#ed7953\"],[0.7777777777777778,\"#fb9f3a\"],[0.8888888888888888,\"#fdca26\"],[1.0,\"#f0f921\"]]}],\"heatmapgl\":[{\"type\":\"heatmapgl\",\"colorbar\":{\"outlinewidth\":0,\"ticks\":\"\"},\"colorscale\":[[0.0,\"#0d0887\"],[0.1111111111111111,\"#46039f\"],[0.2222222222222222,\"#7201a8\"],[0.3333333333333333,\"#9c179e\"],[0.4444444444444444,\"#bd3786\"],[0.5555555555555556,\"#d8576b\"],[0.6666666666666666,\"#ed7953\"],[0.7777777777777778,\"#fb9f3a\"],[0.8888888888888888,\"#fdca26\"],[1.0,\"#f0f921\"]]}],\"contourcarpet\":[{\"type\":\"contourcarpet\",\"colorbar\":{\"outlinewidth\":0,\"ticks\":\"\"}}],\"contour\":[{\"type\":\"contour\",\"colorbar\":{\"outlinewidth\":0,\"ticks\":\"\"},\"colorscale\":[[0.0,\"#0d0887\"],[0.1111111111111111,\"#46039f\"],[0.2222222222222222,\"#7201a8\"],[0.3333333333333333,\"#9c179e\"],[0.4444444444444444,\"#bd3786\"],[0.5555555555555556,\"#d8576b\"],[0.6666666666666666,\"#ed7953\"],[0.7777777777777778,\"#fb9f3a\"],[0.8888888888888888,\"#fdca26\"],[1.0,\"#f0f921\"]]}],\"surface\":[{\"type\":\"surface\",\"colorbar\":{\"outlinewidth\":0,\"ticks\":\"\"},\"colorscale\":[[0.0,\"#0d0887\"],[0.1111111111111111,\"#46039f\"],[0.2222222222222222,\"#7201a8\"],[0.3333333333333333,\"#9c179e\"],[0.4444444444444444,\"#bd3786\"],[0.5555555555555556,\"#d8576b\"],[0.6666666666666666,\"#ed7953\"],[0.7777777777777778,\"#fb9f3a\"],[0.8888888888888888,\"#fdca26\"],[1.0,\"#f0f921\"]]}],\"mesh3d\":[{\"type\":\"mesh3d\",\"colorbar\":{\"outlinewidth\":0,\"ticks\":\"\"}}],\"scatter\":[{\"fillpattern\":{\"fillmode\":\"overlay\",\"size\":10,\"solidity\":0.2},\"type\":\"scatter\"}],\"parcoords\":[{\"type\":\"parcoords\",\"line\":{\"colorbar\":{\"outlinewidth\":0,\"ticks\":\"\"}}}],\"scatterpolargl\":[{\"type\":\"scatterpolargl\",\"marker\":{\"colorbar\":{\"outlinewidth\":0,\"ticks\":\"\"}}}],\"bar\":[{\"error_x\":{\"color\":\"#2a3f5f\"},\"error_y\":{\"color\":\"#2a3f5f\"},\"marker\":{\"line\":{\"color\":\"#E5ECF6\",\"width\":0.5},\"pattern\":{\"fillmode\":\"overlay\",\"size\":10,\"solidity\":0.2}},\"type\":\"bar\"}],\"scattergeo\":[{\"type\":\"scattergeo\",\"marker\":{\"colorbar\":{\"outlinewidth\":0,\"ticks\":\"\"}}}],\"scatterpolar\":[{\"type\":\"scatterpolar\",\"marker\":{\"colorbar\":{\"outlinewidth\":0,\"ticks\":\"\"}}}],\"histogram\":[{\"marker\":{\"pattern\":{\"fillmode\":\"overlay\",\"size\":10,\"solidity\":0.2}},\"type\":\"histogram\"}],\"scattergl\":[{\"type\":\"scattergl\",\"marker\":{\"colorbar\":{\"outlinewidth\":0,\"ticks\":\"\"}}}],\"scatter3d\":[{\"type\":\"scatter3d\",\"line\":{\"colorbar\":{\"outlinewidth\":0,\"ticks\":\"\"}},\"marker\":{\"colorbar\":{\"outlinewidth\":0,\"ticks\":\"\"}}}],\"scattermapbox\":[{\"type\":\"scattermapbox\",\"marker\":{\"colorbar\":{\"outlinewidth\":0,\"ticks\":\"\"}}}],\"scatterternary\":[{\"type\":\"scatterternary\",\"marker\":{\"colorbar\":{\"outlinewidth\":0,\"ticks\":\"\"}}}],\"scattercarpet\":[{\"type\":\"scattercarpet\",\"marker\":{\"colorbar\":{\"outlinewidth\":0,\"ticks\":\"\"}}}],\"carpet\":[{\"aaxis\":{\"endlinecolor\":\"#2a3f5f\",\"gridcolor\":\"white\",\"linecolor\":\"white\",\"minorgridcolor\":\"white\",\"startlinecolor\":\"#2a3f5f\"},\"baxis\":{\"endlinecolor\":\"#2a3f5f\",\"gridcolor\":\"white\",\"linecolor\":\"white\",\"minorgridcolor\":\"white\",\"startlinecolor\":\"#2a3f5f\"},\"type\":\"carpet\"}],\"table\":[{\"cells\":{\"fill\":{\"color\":\"#EBF0F8\"},\"line\":{\"color\":\"white\"}},\"header\":{\"fill\":{\"color\":\"#C8D4E3\"},\"line\":{\"color\":\"white\"}},\"type\":\"table\"}],\"barpolar\":[{\"marker\":{\"line\":{\"color\":\"#E5ECF6\",\"width\":0.5},\"pattern\":{\"fillmode\":\"overlay\",\"size\":10,\"solidity\":0.2}},\"type\":\"barpolar\"}],\"pie\":[{\"automargin\":true,\"type\":\"pie\"}]},\"layout\":{\"autotypenumbers\":\"strict\",\"colorway\":[\"#636efa\",\"#EF553B\",\"#00cc96\",\"#ab63fa\",\"#FFA15A\",\"#19d3f3\",\"#FF6692\",\"#B6E880\",\"#FF97FF\",\"#FECB52\"],\"font\":{\"color\":\"#2a3f5f\"},\"hovermode\":\"closest\",\"hoverlabel\":{\"align\":\"left\"},\"paper_bgcolor\":\"white\",\"plot_bgcolor\":\"#E5ECF6\",\"polar\":{\"bgcolor\":\"#E5ECF6\",\"angularaxis\":{\"gridcolor\":\"white\",\"linecolor\":\"white\",\"ticks\":\"\"},\"radialaxis\":{\"gridcolor\":\"white\",\"linecolor\":\"white\",\"ticks\":\"\"}},\"ternary\":{\"bgcolor\":\"#E5ECF6\",\"aaxis\":{\"gridcolor\":\"white\",\"linecolor\":\"white\",\"ticks\":\"\"},\"baxis\":{\"gridcolor\":\"white\",\"linecolor\":\"white\",\"ticks\":\"\"},\"caxis\":{\"gridcolor\":\"white\",\"linecolor\":\"white\",\"ticks\":\"\"}},\"coloraxis\":{\"colorbar\":{\"outlinewidth\":0,\"ticks\":\"\"}},\"colorscale\":{\"sequential\":[[0.0,\"#0d0887\"],[0.1111111111111111,\"#46039f\"],[0.2222222222222222,\"#7201a8\"],[0.3333333333333333,\"#9c179e\"],[0.4444444444444444,\"#bd3786\"],[0.5555555555555556,\"#d8576b\"],[0.6666666666666666,\"#ed7953\"],[0.7777777777777778,\"#fb9f3a\"],[0.8888888888888888,\"#fdca26\"],[1.0,\"#f0f921\"]],\"sequentialminus\":[[0.0,\"#0d0887\"],[0.1111111111111111,\"#46039f\"],[0.2222222222222222,\"#7201a8\"],[0.3333333333333333,\"#9c179e\"],[0.4444444444444444,\"#bd3786\"],[0.5555555555555556,\"#d8576b\"],[0.6666666666666666,\"#ed7953\"],[0.7777777777777778,\"#fb9f3a\"],[0.8888888888888888,\"#fdca26\"],[1.0,\"#f0f921\"]],\"diverging\":[[0,\"#8e0152\"],[0.1,\"#c51b7d\"],[0.2,\"#de77ae\"],[0.3,\"#f1b6da\"],[0.4,\"#fde0ef\"],[0.5,\"#f7f7f7\"],[0.6,\"#e6f5d0\"],[0.7,\"#b8e186\"],[0.8,\"#7fbc41\"],[0.9,\"#4d9221\"],[1,\"#276419\"]]},\"xaxis\":{\"gridcolor\":\"white\",\"linecolor\":\"white\",\"ticks\":\"\",\"title\":{\"standoff\":15},\"zerolinecolor\":\"white\",\"automargin\":true,\"zerolinewidth\":2},\"yaxis\":{\"gridcolor\":\"white\",\"linecolor\":\"white\",\"ticks\":\"\",\"title\":{\"standoff\":15},\"zerolinecolor\":\"white\",\"automargin\":true,\"zerolinewidth\":2},\"scene\":{\"xaxis\":{\"backgroundcolor\":\"#E5ECF6\",\"gridcolor\":\"white\",\"linecolor\":\"white\",\"showbackground\":true,\"ticks\":\"\",\"zerolinecolor\":\"white\",\"gridwidth\":2},\"yaxis\":{\"backgroundcolor\":\"#E5ECF6\",\"gridcolor\":\"white\",\"linecolor\":\"white\",\"showbackground\":true,\"ticks\":\"\",\"zerolinecolor\":\"white\",\"gridwidth\":2},\"zaxis\":{\"backgroundcolor\":\"#E5ECF6\",\"gridcolor\":\"white\",\"linecolor\":\"white\",\"showbackground\":true,\"ticks\":\"\",\"zerolinecolor\":\"white\",\"gridwidth\":2}},\"shapedefaults\":{\"line\":{\"color\":\"#2a3f5f\"}},\"annotationdefaults\":{\"arrowcolor\":\"#2a3f5f\",\"arrowhead\":0,\"arrowwidth\":1},\"geo\":{\"bgcolor\":\"white\",\"landcolor\":\"#E5ECF6\",\"subunitcolor\":\"white\",\"showland\":true,\"showlakes\":true,\"lakecolor\":\"white\"},\"title\":{\"x\":0.05},\"mapbox\":{\"style\":\"light\"}}},\"geo\":{\"domain\":{\"x\":[0.0,1.0],\"y\":[0.0,1.0]},\"center\":{}},\"coloraxis\":{\"colorbar\":{\"title\":{\"text\":\"Perceived Safety\"}},\"colorscale\":[[0.0,\"#0d0887\"],[0.1111111111111111,\"#46039f\"],[0.2222222222222222,\"#7201a8\"],[0.3333333333333333,\"#9c179e\"],[0.4444444444444444,\"#bd3786\"],[0.5555555555555556,\"#d8576b\"],[0.6666666666666666,\"#ed7953\"],[0.7777777777777778,\"#fb9f3a\"],[0.8888888888888888,\"#fdca26\"],[1.0,\"#f0f921\"]]},\"legend\":{\"tracegroupgap\":0},\"title\":{\"text\":\"World Map of Perceived Safety\"}},                        {\"responsive\": true}                    ).then(function(){\n",
       "                            \n",
       "var gd = document.getElementById('922e3918-ef59-4a09-ae61-db01a1fbc47f');\n",
       "var x = new MutationObserver(function (mutations, observer) {{\n",
       "        var display = window.getComputedStyle(gd).display;\n",
       "        if (!display || display === 'none') {{\n",
       "            console.log([gd, 'removed!']);\n",
       "            Plotly.purge(gd);\n",
       "            observer.disconnect();\n",
       "        }}\n",
       "}});\n",
       "\n",
       "// Listen for the removal of the full notebook cells\n",
       "var notebookContainer = gd.closest('#notebook-container');\n",
       "if (notebookContainer) {{\n",
       "    x.observe(notebookContainer, {childList: true});\n",
       "}}\n",
       "\n",
       "// Listen for the clearing of the current output cell\n",
       "var outputEl = gd.closest('.output');\n",
       "if (outputEl) {{\n",
       "    x.observe(outputEl, {childList: true});\n",
       "}}\n",
       "\n",
       "                        })                };                });            </script>        </div>"
      ]
     },
     "metadata": {},
     "output_type": "display_data"
    },
    {
     "data": {
      "application/vnd.plotly.v1+json": {
       "config": {
        "plotlyServerURL": "https://plot.ly"
       },
       "data": [
        {
         "coloraxis": "coloraxis",
         "geo": "geo",
         "hovertemplate": [
          "<b>%{location}</b><br>Score: %{z}<br>Rank: 1<extra></extra>",
          "<b>%{location}</b><br>Score: %{z}<br>Rank: 2<extra></extra>",
          "<b>%{location}</b><br>Score: %{z}<br>Rank: 3<extra></extra>",
          "<b>%{location}</b><br>Score: %{z}<br>Rank: 4<extra></extra>",
          "<b>%{location}</b><br>Score: %{z}<br>Rank: 5<extra></extra>",
          "<b>%{location}</b><br>Score: %{z}<br>Rank: 6<extra></extra>",
          "<b>%{location}</b><br>Score: %{z}<br>Rank: 7<extra></extra>",
          "<b>%{location}</b><br>Score: %{z}<br>Rank: 8<extra></extra>",
          "<b>%{location}</b><br>Score: %{z}<br>Rank: 9<extra></extra>",
          "<b>%{location}</b><br>Score: %{z}<br>Rank: 10<extra></extra>",
          "<b>%{location}</b><br>Score: %{z}<br>Rank: 11<extra></extra>",
          "<b>%{location}</b><br>Score: %{z}<br>Rank: 12<extra></extra>",
          "<b>%{location}</b><br>Score: %{z}<br>Rank: 13<extra></extra>",
          "<b>%{location}</b><br>Score: %{z}<br>Rank: 14<extra></extra>",
          "<b>%{location}</b><br>Score: %{z}<br>Rank: 15<extra></extra>",
          "<b>%{location}</b><br>Score: %{z}<br>Rank: 16<extra></extra>",
          "<b>%{location}</b><br>Score: %{z}<br>Rank: 17<extra></extra>",
          "<b>%{location}</b><br>Score: %{z}<br>Rank: 18<extra></extra>",
          "<b>%{location}</b><br>Score: %{z}<br>Rank: 19<extra></extra>",
          "<b>%{location}</b><br>Score: %{z}<br>Rank: 20<extra></extra>",
          "<b>%{location}</b><br>Score: %{z}<br>Rank: 21<extra></extra>",
          "<b>%{location}</b><br>Score: %{z}<br>Rank: 22<extra></extra>",
          "<b>%{location}</b><br>Score: %{z}<br>Rank: 23<extra></extra>",
          "<b>%{location}</b><br>Score: %{z}<br>Rank: 24<extra></extra>",
          "<b>%{location}</b><br>Score: %{z}<br>Rank: 25<extra></extra>",
          "<b>%{location}</b><br>Score: %{z}<br>Rank: 26<extra></extra>",
          "<b>%{location}</b><br>Score: %{z}<br>Rank: 27<extra></extra>",
          "<b>%{location}</b><br>Score: %{z}<br>Rank: 28<extra></extra>",
          "<b>%{location}</b><br>Score: %{z}<br>Rank: 29<extra></extra>",
          "<b>%{location}</b><br>Score: %{z}<br>Rank: 30<extra></extra>",
          "<b>%{location}</b><br>Score: %{z}<br>Rank: 31<extra></extra>",
          "<b>%{location}</b><br>Score: %{z}<br>Rank: 32<extra></extra>",
          "<b>%{location}</b><br>Score: %{z}<br>Rank: 33<extra></extra>",
          "<b>%{location}</b><br>Score: %{z}<br>Rank: 34<extra></extra>",
          "<b>%{location}</b><br>Score: %{z}<br>Rank: 35<extra></extra>",
          "<b>%{location}</b><br>Score: %{z}<br>Rank: 36<extra></extra>",
          "<b>%{location}</b><br>Score: %{z}<br>Rank: 37<extra></extra>",
          "<b>%{location}</b><br>Score: %{z}<br>Rank: 38<extra></extra>",
          "<b>%{location}</b><br>Score: %{z}<br>Rank: 39<extra></extra>",
          "<b>%{location}</b><br>Score: %{z}<br>Rank: 40<extra></extra>",
          "<b>%{location}</b><br>Score: %{z}<br>Rank: 41<extra></extra>",
          "<b>%{location}</b><br>Score: %{z}<br>Rank: 42<extra></extra>",
          "<b>%{location}</b><br>Score: %{z}<br>Rank: 43<extra></extra>",
          "<b>%{location}</b><br>Score: %{z}<br>Rank: 44<extra></extra>",
          "<b>%{location}</b><br>Score: %{z}<br>Rank: 45<extra></extra>",
          "<b>%{location}</b><br>Score: %{z}<br>Rank: 46<extra></extra>",
          "<b>%{location}</b><br>Score: %{z}<br>Rank: 47<extra></extra>",
          "<b>%{location}</b><br>Score: %{z}<br>Rank: 48<extra></extra>",
          "<b>%{location}</b><br>Score: %{z}<br>Rank: 49<extra></extra>",
          "<b>%{location}</b><br>Score: %{z}<br>Rank: 50<extra></extra>",
          "<b>%{location}</b><br>Score: %{z}<br>Rank: 51<extra></extra>",
          "<b>%{location}</b><br>Score: %{z}<br>Rank: 52<extra></extra>",
          "<b>%{location}</b><br>Score: %{z}<br>Rank: 53<extra></extra>",
          "<b>%{location}</b><br>Score: %{z}<br>Rank: 54<extra></extra>",
          "<b>%{location}</b><br>Score: %{z}<br>Rank: 55<extra></extra>",
          "<b>%{location}</b><br>Score: %{z}<br>Rank: 56<extra></extra>",
          "<b>%{location}</b><br>Score: %{z}<br>Rank: 57<extra></extra>",
          "<b>%{location}</b><br>Score: %{z}<br>Rank: 58<extra></extra>",
          "<b>%{location}</b><br>Score: %{z}<br>Rank: 59<extra></extra>",
          "<b>%{location}</b><br>Score: %{z}<br>Rank: 60<extra></extra>",
          "<b>%{location}</b><br>Score: %{z}<br>Rank: 61<extra></extra>",
          "<b>%{location}</b><br>Score: %{z}<br>Rank: 62<extra></extra>",
          "<b>%{location}</b><br>Score: %{z}<br>Rank: 63<extra></extra>",
          "<b>%{location}</b><br>Score: %{z}<br>Rank: 64<extra></extra>",
          "<b>%{location}</b><br>Score: %{z}<br>Rank: 65<extra></extra>",
          "<b>%{location}</b><br>Score: %{z}<br>Rank: 66<extra></extra>",
          "<b>%{location}</b><br>Score: %{z}<br>Rank: 67<extra></extra>",
          "<b>%{location}</b><br>Score: %{z}<br>Rank: 68<extra></extra>",
          "<b>%{location}</b><br>Score: %{z}<br>Rank: 69<extra></extra>",
          "<b>%{location}</b><br>Score: %{z}<br>Rank: 70<extra></extra>",
          "<b>%{location}</b><br>Score: %{z}<br>Rank: 71<extra></extra>",
          "<b>%{location}</b><br>Score: %{z}<br>Rank: 72<extra></extra>",
          "<b>%{location}</b><br>Score: %{z}<br>Rank: 73<extra></extra>",
          "<b>%{location}</b><br>Score: %{z}<br>Rank: 74<extra></extra>",
          "<b>%{location}</b><br>Score: %{z}<br>Rank: 75<extra></extra>",
          "<b>%{location}</b><br>Score: %{z}<br>Rank: 76<extra></extra>",
          "<b>%{location}</b><br>Score: %{z}<br>Rank: 77<extra></extra>",
          "<b>%{location}</b><br>Score: %{z}<br>Rank: 78<extra></extra>",
          "<b>%{location}</b><br>Score: %{z}<br>Rank: 79<extra></extra>",
          "<b>%{location}</b><br>Score: %{z}<br>Rank: 80<extra></extra>",
          "<b>%{location}</b><br>Score: %{z}<br>Rank: 81<extra></extra>",
          "<b>%{location}</b><br>Score: %{z}<br>Rank: 82<extra></extra>",
          "<b>%{location}</b><br>Score: %{z}<br>Rank: 83<extra></extra>",
          "<b>%{location}</b><br>Score: %{z}<br>Rank: 84<extra></extra>",
          "<b>%{location}</b><br>Score: %{z}<br>Rank: 85<extra></extra>",
          "<b>%{location}</b><br>Score: %{z}<br>Rank: 86<extra></extra>",
          "<b>%{location}</b><br>Score: %{z}<br>Rank: 87<extra></extra>",
          "<b>%{location}</b><br>Score: %{z}<br>Rank: 88<extra></extra>",
          "<b>%{location}</b><br>Score: %{z}<br>Rank: 89<extra></extra>",
          "<b>%{location}</b><br>Score: %{z}<br>Rank: 90<extra></extra>",
          "<b>%{location}</b><br>Score: %{z}<br>Rank: 91<extra></extra>",
          "<b>%{location}</b><br>Score: %{z}<br>Rank: 92<extra></extra>",
          "<b>%{location}</b><br>Score: %{z}<br>Rank: 93<extra></extra>",
          "<b>%{location}</b><br>Score: %{z}<br>Rank: 94<extra></extra>",
          "<b>%{location}</b><br>Score: %{z}<br>Rank: 95<extra></extra>",
          "<b>%{location}</b><br>Score: %{z}<br>Rank: 96<extra></extra>",
          "<b>%{location}</b><br>Score: %{z}<br>Rank: 97<extra></extra>",
          "<b>%{location}</b><br>Score: %{z}<br>Rank: 98<extra></extra>",
          "<b>%{location}</b><br>Score: %{z}<br>Rank: 99<extra></extra>",
          "<b>%{location}</b><br>Score: %{z}<br>Rank: 100<extra></extra>",
          "<b>%{location}</b><br>Score: %{z}<br>Rank: 101<extra></extra>",
          "<b>%{location}</b><br>Score: %{z}<br>Rank: 102<extra></extra>",
          "<b>%{location}</b><br>Score: %{z}<br>Rank: 103<extra></extra>",
          "<b>%{location}</b><br>Score: %{z}<br>Rank: 104<extra></extra>",
          "<b>%{location}</b><br>Score: %{z}<br>Rank: 105<extra></extra>",
          "<b>%{location}</b><br>Score: %{z}<br>Rank: 106<extra></extra>",
          "<b>%{location}</b><br>Score: %{z}<br>Rank: 107<extra></extra>",
          "<b>%{location}</b><br>Score: %{z}<br>Rank: 108<extra></extra>",
          "<b>%{location}</b><br>Score: %{z}<br>Rank: 109<extra></extra>",
          "<b>%{location}</b><br>Score: %{z}<br>Rank: 110<extra></extra>",
          "<b>%{location}</b><br>Score: %{z}<br>Rank: 111<extra></extra>",
          "<b>%{location}</b><br>Score: %{z}<br>Rank: 112<extra></extra>",
          "<b>%{location}</b><br>Score: %{z}<br>Rank: 113<extra></extra>",
          "<b>%{location}</b><br>Score: %{z}<br>Rank: 114<extra></extra>",
          "<b>%{location}</b><br>Score: %{z}<br>Rank: 115<extra></extra>",
          "<b>%{location}</b><br>Score: %{z}<br>Rank: 116<extra></extra>",
          "<b>%{location}</b><br>Score: %{z}<br>Rank: 117<extra></extra>",
          "<b>%{location}</b><br>Score: %{z}<br>Rank: 118<extra></extra>",
          "<b>%{location}</b><br>Score: %{z}<br>Rank: 119<extra></extra>",
          "<b>%{location}</b><br>Score: %{z}<br>Rank: 120<extra></extra>",
          "<b>%{location}</b><br>Score: %{z}<br>Rank: 121<extra></extra>",
          "<b>%{location}</b><br>Score: %{z}<br>Rank: 122<extra></extra>",
          "<b>%{location}</b><br>Score: %{z}<br>Rank: 123<extra></extra>",
          "<b>%{location}</b><br>Score: %{z}<br>Rank: 124<extra></extra>",
          "<b>%{location}</b><br>Score: %{z}<br>Rank: 125<extra></extra>",
          "<b>%{location}</b><br>Score: %{z}<br>Rank: 126<extra></extra>",
          "<b>%{location}</b><br>Score: %{z}<br>Rank: 127<extra></extra>",
          "<b>%{location}</b><br>Score: %{z}<br>Rank: 128<extra></extra>",
          "<b>%{location}</b><br>Score: %{z}<br>Rank: 129<extra></extra>",
          "<b>%{location}</b><br>Score: %{z}<br>Rank: 130<extra></extra>",
          "<b>%{location}</b><br>Score: %{z}<br>Rank: 131<extra></extra>",
          "<b>%{location}</b><br>Score: %{z}<br>Rank: 132<extra></extra>",
          "<b>%{location}</b><br>Score: %{z}<br>Rank: 133<extra></extra>",
          "<b>%{location}</b><br>Score: %{z}<br>Rank: 134<extra></extra>",
          "<b>%{location}</b><br>Score: %{z}<br>Rank: 135<extra></extra>",
          "<b>%{location}</b><br>Score: %{z}<br>Rank: 136<extra></extra>",
          "<b>%{location}</b><br>Score: %{z}<br>Rank: 137<extra></extra>",
          "<b>%{location}</b><br>Score: %{z}<br>Rank: 138<extra></extra>",
          "<b>%{location}</b><br>Score: %{z}<br>Rank: 139<extra></extra>",
          "<b>%{location}</b><br>Score: %{z}<br>Rank: 140<extra></extra>"
         ],
         "locationmode": "country names",
         "locations": [
          "Kuwait",
          "Singapore",
          "Tajikistan",
          "Norway",
          "Luxembourg",
          "Iceland",
          "Finland",
          "Estonia",
          "Kosovo",
          "Switzerland",
          "Denmark",
          "United Arab Emirates",
          "Vietnam",
          "El Salvador",
          "Portugal",
          "Slovenia",
          "Bahrain",
          "Indonesia",
          "Uzbekistan",
          "Saudi Arabia",
          "Montenegro",
          "China",
          "Taiwan, Province of China",
          "NETHERLANDS",
          "Sweden",
          "Egypt",
          "Malaysia",
          "Azerbaijan",
          "Jordan",
          "Austria",
          "Spain",
          "Lithuania",
          "Germany",
          "Japan",
          "Ireland",
          "Hong Kong (S.A.R. of China)",
          "Georgia",
          "Czech Republic",
          "South Korea",
          "Armenia",
          "Serbia",
          "France",
          "Albania",
          "Philippines",
          "Malta",
          "Iraq",
          "Israel",
          "India",
          "Belgium",
          "Canada",
          "Hungary",
          "United Kingdom of Great Britain and Northern Ireland",
          "Slovakia",
          "Latvia",
          "Somalia",
          "Bosnia and Herzegovina",
          "Northern Cyprus",
          "Türkiye",
          "Kyrgyzstan",
          "Italy",
          "Croatia",
          "United States of America",
          "Iran",
          "Poland",
          "Australia",
          "Russian Federation",
          "Bangladesh",
          "Mauritius",
          "Kazakhstan",
          "Cambodia",
          "Republic of Moldova",
          "North Macedonia",
          "Thailand",
          "Tanzania",
          "Burkina Faso",
          "Morocco",
          "Bulgaria",
          "Romania",
          "Pakistan",
          "Nepal",
          "Panama",
          "Greece",
          "Mali",
          "Sri Lanka",
          "Cyprus",
          "Lao People's Democratic Republic",
          "New Zealand",
          "Libya",
          "Tunisia",
          "Uruguay",
          "State of Palestine",
          "Brazil",
          "Côte d'Ivoire",
          "Guatemala",
          "Ukraine",
          "Lebanon",
          "Honduras",
          "Costa Rica",
          "Senegal",
          "Benin",
          "Paraguay",
          "Yemen",
          "Mozambique",
          "Ghana",
          "Mongolia",
          "Togo",
          "Ethiopia",
          "Zimbabwe",
          "Comoros",
          "Dominican Republic",
          "Madagascar",
          "Niger",
          "Chile",
          "Venezuela",
          "Mexico",
          "Argentina",
          "Colombia",
          "Mauritania",
          "Zambia",
          "Nigeria",
          "Cameroon",
          "Namibia",
          "Myanmar",
          "Kenya",
          "Guinea",
          "The Republic of the Congo",
          "Peru",
          "Malawi",
          "Uganda",
          "Gabon",
          "Eswatini",
          "Bolivia",
          "Chad",
          "Botswana",
          "THE Gambia",
          "Democratic Republic of Congo",
          "South Africa",
          "Sierra Leone",
          "Ecuador",
          "Liberia"
         ],
         "name": "",
         "type": "choropleth",
         "z": [
          98,
          95,
          95,
          93,
          91,
          91,
          91,
          91,
          91,
          91,
          90,
          90,
          90,
          89,
          89,
          89,
          89,
          89,
          89,
          89,
          88,
          88,
          88,
          88,
          88,
          88,
          87,
          87,
          87,
          87,
          87,
          86,
          86,
          86,
          86,
          86,
          86,
          85,
          85,
          85,
          84,
          84,
          84,
          84,
          84,
          84,
          84,
          83,
          83,
          83,
          83,
          82,
          82,
          82,
          82,
          82,
          82,
          82,
          82,
          81,
          81,
          81,
          81,
          81,
          81,
          81,
          81,
          80,
          80,
          80,
          80,
          79,
          79,
          79,
          78,
          78,
          78,
          78,
          78,
          77,
          77,
          77,
          77,
          77,
          77,
          77,
          76,
          76,
          76,
          75,
          75,
          74,
          74,
          74,
          73,
          73,
          73,
          73,
          72,
          72,
          72,
          71,
          71,
          71,
          71,
          71,
          70,
          69,
          69,
          69,
          68,
          68,
          68,
          66,
          66,
          65,
          65,
          65,
          65,
          65,
          64,
          64,
          64,
          63,
          63,
          63,
          63,
          63,
          62,
          62,
          62,
          62,
          60,
          60,
          59,
          58,
          58,
          57,
          55,
          50
         ]
        }
       ],
       "layout": {
        "coloraxis": {
         "colorbar": {
          "title": {
           "text": "Law Order Index"
          }
         },
         "colorscale": [
          [
           0,
           "#0d0887"
          ],
          [
           0.1111111111111111,
           "#46039f"
          ],
          [
           0.2222222222222222,
           "#7201a8"
          ],
          [
           0.3333333333333333,
           "#9c179e"
          ],
          [
           0.4444444444444444,
           "#bd3786"
          ],
          [
           0.5555555555555556,
           "#d8576b"
          ],
          [
           0.6666666666666666,
           "#ed7953"
          ],
          [
           0.7777777777777778,
           "#fb9f3a"
          ],
          [
           0.8888888888888888,
           "#fdca26"
          ],
          [
           1,
           "#f0f921"
          ]
         ]
        },
        "geo": {
         "center": {},
         "domain": {
          "x": [
           0,
           1
          ],
          "y": [
           0,
           1
          ]
         }
        },
        "legend": {
         "tracegroupgap": 0
        },
        "template": {
         "data": {
          "bar": [
           {
            "error_x": {
             "color": "#2a3f5f"
            },
            "error_y": {
             "color": "#2a3f5f"
            },
            "marker": {
             "line": {
              "color": "#E5ECF6",
              "width": 0.5
             },
             "pattern": {
              "fillmode": "overlay",
              "size": 10,
              "solidity": 0.2
             }
            },
            "type": "bar"
           }
          ],
          "barpolar": [
           {
            "marker": {
             "line": {
              "color": "#E5ECF6",
              "width": 0.5
             },
             "pattern": {
              "fillmode": "overlay",
              "size": 10,
              "solidity": 0.2
             }
            },
            "type": "barpolar"
           }
          ],
          "carpet": [
           {
            "aaxis": {
             "endlinecolor": "#2a3f5f",
             "gridcolor": "white",
             "linecolor": "white",
             "minorgridcolor": "white",
             "startlinecolor": "#2a3f5f"
            },
            "baxis": {
             "endlinecolor": "#2a3f5f",
             "gridcolor": "white",
             "linecolor": "white",
             "minorgridcolor": "white",
             "startlinecolor": "#2a3f5f"
            },
            "type": "carpet"
           }
          ],
          "choropleth": [
           {
            "colorbar": {
             "outlinewidth": 0,
             "ticks": ""
            },
            "type": "choropleth"
           }
          ],
          "contour": [
           {
            "colorbar": {
             "outlinewidth": 0,
             "ticks": ""
            },
            "colorscale": [
             [
              0,
              "#0d0887"
             ],
             [
              0.1111111111111111,
              "#46039f"
             ],
             [
              0.2222222222222222,
              "#7201a8"
             ],
             [
              0.3333333333333333,
              "#9c179e"
             ],
             [
              0.4444444444444444,
              "#bd3786"
             ],
             [
              0.5555555555555556,
              "#d8576b"
             ],
             [
              0.6666666666666666,
              "#ed7953"
             ],
             [
              0.7777777777777778,
              "#fb9f3a"
             ],
             [
              0.8888888888888888,
              "#fdca26"
             ],
             [
              1,
              "#f0f921"
             ]
            ],
            "type": "contour"
           }
          ],
          "contourcarpet": [
           {
            "colorbar": {
             "outlinewidth": 0,
             "ticks": ""
            },
            "type": "contourcarpet"
           }
          ],
          "heatmap": [
           {
            "colorbar": {
             "outlinewidth": 0,
             "ticks": ""
            },
            "colorscale": [
             [
              0,
              "#0d0887"
             ],
             [
              0.1111111111111111,
              "#46039f"
             ],
             [
              0.2222222222222222,
              "#7201a8"
             ],
             [
              0.3333333333333333,
              "#9c179e"
             ],
             [
              0.4444444444444444,
              "#bd3786"
             ],
             [
              0.5555555555555556,
              "#d8576b"
             ],
             [
              0.6666666666666666,
              "#ed7953"
             ],
             [
              0.7777777777777778,
              "#fb9f3a"
             ],
             [
              0.8888888888888888,
              "#fdca26"
             ],
             [
              1,
              "#f0f921"
             ]
            ],
            "type": "heatmap"
           }
          ],
          "heatmapgl": [
           {
            "colorbar": {
             "outlinewidth": 0,
             "ticks": ""
            },
            "colorscale": [
             [
              0,
              "#0d0887"
             ],
             [
              0.1111111111111111,
              "#46039f"
             ],
             [
              0.2222222222222222,
              "#7201a8"
             ],
             [
              0.3333333333333333,
              "#9c179e"
             ],
             [
              0.4444444444444444,
              "#bd3786"
             ],
             [
              0.5555555555555556,
              "#d8576b"
             ],
             [
              0.6666666666666666,
              "#ed7953"
             ],
             [
              0.7777777777777778,
              "#fb9f3a"
             ],
             [
              0.8888888888888888,
              "#fdca26"
             ],
             [
              1,
              "#f0f921"
             ]
            ],
            "type": "heatmapgl"
           }
          ],
          "histogram": [
           {
            "marker": {
             "pattern": {
              "fillmode": "overlay",
              "size": 10,
              "solidity": 0.2
             }
            },
            "type": "histogram"
           }
          ],
          "histogram2d": [
           {
            "colorbar": {
             "outlinewidth": 0,
             "ticks": ""
            },
            "colorscale": [
             [
              0,
              "#0d0887"
             ],
             [
              0.1111111111111111,
              "#46039f"
             ],
             [
              0.2222222222222222,
              "#7201a8"
             ],
             [
              0.3333333333333333,
              "#9c179e"
             ],
             [
              0.4444444444444444,
              "#bd3786"
             ],
             [
              0.5555555555555556,
              "#d8576b"
             ],
             [
              0.6666666666666666,
              "#ed7953"
             ],
             [
              0.7777777777777778,
              "#fb9f3a"
             ],
             [
              0.8888888888888888,
              "#fdca26"
             ],
             [
              1,
              "#f0f921"
             ]
            ],
            "type": "histogram2d"
           }
          ],
          "histogram2dcontour": [
           {
            "colorbar": {
             "outlinewidth": 0,
             "ticks": ""
            },
            "colorscale": [
             [
              0,
              "#0d0887"
             ],
             [
              0.1111111111111111,
              "#46039f"
             ],
             [
              0.2222222222222222,
              "#7201a8"
             ],
             [
              0.3333333333333333,
              "#9c179e"
             ],
             [
              0.4444444444444444,
              "#bd3786"
             ],
             [
              0.5555555555555556,
              "#d8576b"
             ],
             [
              0.6666666666666666,
              "#ed7953"
             ],
             [
              0.7777777777777778,
              "#fb9f3a"
             ],
             [
              0.8888888888888888,
              "#fdca26"
             ],
             [
              1,
              "#f0f921"
             ]
            ],
            "type": "histogram2dcontour"
           }
          ],
          "mesh3d": [
           {
            "colorbar": {
             "outlinewidth": 0,
             "ticks": ""
            },
            "type": "mesh3d"
           }
          ],
          "parcoords": [
           {
            "line": {
             "colorbar": {
              "outlinewidth": 0,
              "ticks": ""
             }
            },
            "type": "parcoords"
           }
          ],
          "pie": [
           {
            "automargin": true,
            "type": "pie"
           }
          ],
          "scatter": [
           {
            "fillpattern": {
             "fillmode": "overlay",
             "size": 10,
             "solidity": 0.2
            },
            "type": "scatter"
           }
          ],
          "scatter3d": [
           {
            "line": {
             "colorbar": {
              "outlinewidth": 0,
              "ticks": ""
             }
            },
            "marker": {
             "colorbar": {
              "outlinewidth": 0,
              "ticks": ""
             }
            },
            "type": "scatter3d"
           }
          ],
          "scattercarpet": [
           {
            "marker": {
             "colorbar": {
              "outlinewidth": 0,
              "ticks": ""
             }
            },
            "type": "scattercarpet"
           }
          ],
          "scattergeo": [
           {
            "marker": {
             "colorbar": {
              "outlinewidth": 0,
              "ticks": ""
             }
            },
            "type": "scattergeo"
           }
          ],
          "scattergl": [
           {
            "marker": {
             "colorbar": {
              "outlinewidth": 0,
              "ticks": ""
             }
            },
            "type": "scattergl"
           }
          ],
          "scattermapbox": [
           {
            "marker": {
             "colorbar": {
              "outlinewidth": 0,
              "ticks": ""
             }
            },
            "type": "scattermapbox"
           }
          ],
          "scatterpolar": [
           {
            "marker": {
             "colorbar": {
              "outlinewidth": 0,
              "ticks": ""
             }
            },
            "type": "scatterpolar"
           }
          ],
          "scatterpolargl": [
           {
            "marker": {
             "colorbar": {
              "outlinewidth": 0,
              "ticks": ""
             }
            },
            "type": "scatterpolargl"
           }
          ],
          "scatterternary": [
           {
            "marker": {
             "colorbar": {
              "outlinewidth": 0,
              "ticks": ""
             }
            },
            "type": "scatterternary"
           }
          ],
          "surface": [
           {
            "colorbar": {
             "outlinewidth": 0,
             "ticks": ""
            },
            "colorscale": [
             [
              0,
              "#0d0887"
             ],
             [
              0.1111111111111111,
              "#46039f"
             ],
             [
              0.2222222222222222,
              "#7201a8"
             ],
             [
              0.3333333333333333,
              "#9c179e"
             ],
             [
              0.4444444444444444,
              "#bd3786"
             ],
             [
              0.5555555555555556,
              "#d8576b"
             ],
             [
              0.6666666666666666,
              "#ed7953"
             ],
             [
              0.7777777777777778,
              "#fb9f3a"
             ],
             [
              0.8888888888888888,
              "#fdca26"
             ],
             [
              1,
              "#f0f921"
             ]
            ],
            "type": "surface"
           }
          ],
          "table": [
           {
            "cells": {
             "fill": {
              "color": "#EBF0F8"
             },
             "line": {
              "color": "white"
             }
            },
            "header": {
             "fill": {
              "color": "#C8D4E3"
             },
             "line": {
              "color": "white"
             }
            },
            "type": "table"
           }
          ]
         },
         "layout": {
          "annotationdefaults": {
           "arrowcolor": "#2a3f5f",
           "arrowhead": 0,
           "arrowwidth": 1
          },
          "autotypenumbers": "strict",
          "coloraxis": {
           "colorbar": {
            "outlinewidth": 0,
            "ticks": ""
           }
          },
          "colorscale": {
           "diverging": [
            [
             0,
             "#8e0152"
            ],
            [
             0.1,
             "#c51b7d"
            ],
            [
             0.2,
             "#de77ae"
            ],
            [
             0.3,
             "#f1b6da"
            ],
            [
             0.4,
             "#fde0ef"
            ],
            [
             0.5,
             "#f7f7f7"
            ],
            [
             0.6,
             "#e6f5d0"
            ],
            [
             0.7,
             "#b8e186"
            ],
            [
             0.8,
             "#7fbc41"
            ],
            [
             0.9,
             "#4d9221"
            ],
            [
             1,
             "#276419"
            ]
           ],
           "sequential": [
            [
             0,
             "#0d0887"
            ],
            [
             0.1111111111111111,
             "#46039f"
            ],
            [
             0.2222222222222222,
             "#7201a8"
            ],
            [
             0.3333333333333333,
             "#9c179e"
            ],
            [
             0.4444444444444444,
             "#bd3786"
            ],
            [
             0.5555555555555556,
             "#d8576b"
            ],
            [
             0.6666666666666666,
             "#ed7953"
            ],
            [
             0.7777777777777778,
             "#fb9f3a"
            ],
            [
             0.8888888888888888,
             "#fdca26"
            ],
            [
             1,
             "#f0f921"
            ]
           ],
           "sequentialminus": [
            [
             0,
             "#0d0887"
            ],
            [
             0.1111111111111111,
             "#46039f"
            ],
            [
             0.2222222222222222,
             "#7201a8"
            ],
            [
             0.3333333333333333,
             "#9c179e"
            ],
            [
             0.4444444444444444,
             "#bd3786"
            ],
            [
             0.5555555555555556,
             "#d8576b"
            ],
            [
             0.6666666666666666,
             "#ed7953"
            ],
            [
             0.7777777777777778,
             "#fb9f3a"
            ],
            [
             0.8888888888888888,
             "#fdca26"
            ],
            [
             1,
             "#f0f921"
            ]
           ]
          },
          "colorway": [
           "#636efa",
           "#EF553B",
           "#00cc96",
           "#ab63fa",
           "#FFA15A",
           "#19d3f3",
           "#FF6692",
           "#B6E880",
           "#FF97FF",
           "#FECB52"
          ],
          "font": {
           "color": "#2a3f5f"
          },
          "geo": {
           "bgcolor": "white",
           "lakecolor": "white",
           "landcolor": "#E5ECF6",
           "showlakes": true,
           "showland": true,
           "subunitcolor": "white"
          },
          "hoverlabel": {
           "align": "left"
          },
          "hovermode": "closest",
          "mapbox": {
           "style": "light"
          },
          "paper_bgcolor": "white",
          "plot_bgcolor": "#E5ECF6",
          "polar": {
           "angularaxis": {
            "gridcolor": "white",
            "linecolor": "white",
            "ticks": ""
           },
           "bgcolor": "#E5ECF6",
           "radialaxis": {
            "gridcolor": "white",
            "linecolor": "white",
            "ticks": ""
           }
          },
          "scene": {
           "xaxis": {
            "backgroundcolor": "#E5ECF6",
            "gridcolor": "white",
            "gridwidth": 2,
            "linecolor": "white",
            "showbackground": true,
            "ticks": "",
            "zerolinecolor": "white"
           },
           "yaxis": {
            "backgroundcolor": "#E5ECF6",
            "gridcolor": "white",
            "gridwidth": 2,
            "linecolor": "white",
            "showbackground": true,
            "ticks": "",
            "zerolinecolor": "white"
           },
           "zaxis": {
            "backgroundcolor": "#E5ECF6",
            "gridcolor": "white",
            "gridwidth": 2,
            "linecolor": "white",
            "showbackground": true,
            "ticks": "",
            "zerolinecolor": "white"
           }
          },
          "shapedefaults": {
           "line": {
            "color": "#2a3f5f"
           }
          },
          "ternary": {
           "aaxis": {
            "gridcolor": "white",
            "linecolor": "white",
            "ticks": ""
           },
           "baxis": {
            "gridcolor": "white",
            "linecolor": "white",
            "ticks": ""
           },
           "bgcolor": "#E5ECF6",
           "caxis": {
            "gridcolor": "white",
            "linecolor": "white",
            "ticks": ""
           }
          },
          "title": {
           "x": 0.05
          },
          "xaxis": {
           "automargin": true,
           "gridcolor": "white",
           "linecolor": "white",
           "ticks": "",
           "title": {
            "standoff": 15
           },
           "zerolinecolor": "white",
           "zerolinewidth": 2
          },
          "yaxis": {
           "automargin": true,
           "gridcolor": "white",
           "linecolor": "white",
           "ticks": "",
           "title": {
            "standoff": 15
           },
           "zerolinecolor": "white",
           "zerolinewidth": 2
          }
         }
        },
        "title": {
         "text": "World Map of Law Order Index"
        }
       }
      },
      "text/html": [
       "<div>                            <div id=\"6bb2d4c8-d2de-46de-94c7-02163a0c9737\" class=\"plotly-graph-div\" style=\"height:525px; width:100%;\"></div>            <script type=\"text/javascript\">                require([\"plotly\"], function(Plotly) {                    window.PLOTLYENV=window.PLOTLYENV || {};                                    if (document.getElementById(\"6bb2d4c8-d2de-46de-94c7-02163a0c9737\")) {                    Plotly.newPlot(                        \"6bb2d4c8-d2de-46de-94c7-02163a0c9737\",                        [{\"coloraxis\":\"coloraxis\",\"geo\":\"geo\",\"hovertemplate\":[\"\\u003cb\\u003e%{location}\\u003c\\u002fb\\u003e\\u003cbr\\u003eScore: %{z}\\u003cbr\\u003eRank: 1\\u003cextra\\u003e\\u003c\\u002fextra\\u003e\",\"\\u003cb\\u003e%{location}\\u003c\\u002fb\\u003e\\u003cbr\\u003eScore: %{z}\\u003cbr\\u003eRank: 2\\u003cextra\\u003e\\u003c\\u002fextra\\u003e\",\"\\u003cb\\u003e%{location}\\u003c\\u002fb\\u003e\\u003cbr\\u003eScore: %{z}\\u003cbr\\u003eRank: 3\\u003cextra\\u003e\\u003c\\u002fextra\\u003e\",\"\\u003cb\\u003e%{location}\\u003c\\u002fb\\u003e\\u003cbr\\u003eScore: %{z}\\u003cbr\\u003eRank: 4\\u003cextra\\u003e\\u003c\\u002fextra\\u003e\",\"\\u003cb\\u003e%{location}\\u003c\\u002fb\\u003e\\u003cbr\\u003eScore: %{z}\\u003cbr\\u003eRank: 5\\u003cextra\\u003e\\u003c\\u002fextra\\u003e\",\"\\u003cb\\u003e%{location}\\u003c\\u002fb\\u003e\\u003cbr\\u003eScore: %{z}\\u003cbr\\u003eRank: 6\\u003cextra\\u003e\\u003c\\u002fextra\\u003e\",\"\\u003cb\\u003e%{location}\\u003c\\u002fb\\u003e\\u003cbr\\u003eScore: %{z}\\u003cbr\\u003eRank: 7\\u003cextra\\u003e\\u003c\\u002fextra\\u003e\",\"\\u003cb\\u003e%{location}\\u003c\\u002fb\\u003e\\u003cbr\\u003eScore: %{z}\\u003cbr\\u003eRank: 8\\u003cextra\\u003e\\u003c\\u002fextra\\u003e\",\"\\u003cb\\u003e%{location}\\u003c\\u002fb\\u003e\\u003cbr\\u003eScore: %{z}\\u003cbr\\u003eRank: 9\\u003cextra\\u003e\\u003c\\u002fextra\\u003e\",\"\\u003cb\\u003e%{location}\\u003c\\u002fb\\u003e\\u003cbr\\u003eScore: %{z}\\u003cbr\\u003eRank: 10\\u003cextra\\u003e\\u003c\\u002fextra\\u003e\",\"\\u003cb\\u003e%{location}\\u003c\\u002fb\\u003e\\u003cbr\\u003eScore: %{z}\\u003cbr\\u003eRank: 11\\u003cextra\\u003e\\u003c\\u002fextra\\u003e\",\"\\u003cb\\u003e%{location}\\u003c\\u002fb\\u003e\\u003cbr\\u003eScore: %{z}\\u003cbr\\u003eRank: 12\\u003cextra\\u003e\\u003c\\u002fextra\\u003e\",\"\\u003cb\\u003e%{location}\\u003c\\u002fb\\u003e\\u003cbr\\u003eScore: %{z}\\u003cbr\\u003eRank: 13\\u003cextra\\u003e\\u003c\\u002fextra\\u003e\",\"\\u003cb\\u003e%{location}\\u003c\\u002fb\\u003e\\u003cbr\\u003eScore: %{z}\\u003cbr\\u003eRank: 14\\u003cextra\\u003e\\u003c\\u002fextra\\u003e\",\"\\u003cb\\u003e%{location}\\u003c\\u002fb\\u003e\\u003cbr\\u003eScore: %{z}\\u003cbr\\u003eRank: 15\\u003cextra\\u003e\\u003c\\u002fextra\\u003e\",\"\\u003cb\\u003e%{location}\\u003c\\u002fb\\u003e\\u003cbr\\u003eScore: %{z}\\u003cbr\\u003eRank: 16\\u003cextra\\u003e\\u003c\\u002fextra\\u003e\",\"\\u003cb\\u003e%{location}\\u003c\\u002fb\\u003e\\u003cbr\\u003eScore: %{z}\\u003cbr\\u003eRank: 17\\u003cextra\\u003e\\u003c\\u002fextra\\u003e\",\"\\u003cb\\u003e%{location}\\u003c\\u002fb\\u003e\\u003cbr\\u003eScore: %{z}\\u003cbr\\u003eRank: 18\\u003cextra\\u003e\\u003c\\u002fextra\\u003e\",\"\\u003cb\\u003e%{location}\\u003c\\u002fb\\u003e\\u003cbr\\u003eScore: %{z}\\u003cbr\\u003eRank: 19\\u003cextra\\u003e\\u003c\\u002fextra\\u003e\",\"\\u003cb\\u003e%{location}\\u003c\\u002fb\\u003e\\u003cbr\\u003eScore: %{z}\\u003cbr\\u003eRank: 20\\u003cextra\\u003e\\u003c\\u002fextra\\u003e\",\"\\u003cb\\u003e%{location}\\u003c\\u002fb\\u003e\\u003cbr\\u003eScore: %{z}\\u003cbr\\u003eRank: 21\\u003cextra\\u003e\\u003c\\u002fextra\\u003e\",\"\\u003cb\\u003e%{location}\\u003c\\u002fb\\u003e\\u003cbr\\u003eScore: %{z}\\u003cbr\\u003eRank: 22\\u003cextra\\u003e\\u003c\\u002fextra\\u003e\",\"\\u003cb\\u003e%{location}\\u003c\\u002fb\\u003e\\u003cbr\\u003eScore: %{z}\\u003cbr\\u003eRank: 23\\u003cextra\\u003e\\u003c\\u002fextra\\u003e\",\"\\u003cb\\u003e%{location}\\u003c\\u002fb\\u003e\\u003cbr\\u003eScore: %{z}\\u003cbr\\u003eRank: 24\\u003cextra\\u003e\\u003c\\u002fextra\\u003e\",\"\\u003cb\\u003e%{location}\\u003c\\u002fb\\u003e\\u003cbr\\u003eScore: %{z}\\u003cbr\\u003eRank: 25\\u003cextra\\u003e\\u003c\\u002fextra\\u003e\",\"\\u003cb\\u003e%{location}\\u003c\\u002fb\\u003e\\u003cbr\\u003eScore: %{z}\\u003cbr\\u003eRank: 26\\u003cextra\\u003e\\u003c\\u002fextra\\u003e\",\"\\u003cb\\u003e%{location}\\u003c\\u002fb\\u003e\\u003cbr\\u003eScore: %{z}\\u003cbr\\u003eRank: 27\\u003cextra\\u003e\\u003c\\u002fextra\\u003e\",\"\\u003cb\\u003e%{location}\\u003c\\u002fb\\u003e\\u003cbr\\u003eScore: %{z}\\u003cbr\\u003eRank: 28\\u003cextra\\u003e\\u003c\\u002fextra\\u003e\",\"\\u003cb\\u003e%{location}\\u003c\\u002fb\\u003e\\u003cbr\\u003eScore: %{z}\\u003cbr\\u003eRank: 29\\u003cextra\\u003e\\u003c\\u002fextra\\u003e\",\"\\u003cb\\u003e%{location}\\u003c\\u002fb\\u003e\\u003cbr\\u003eScore: %{z}\\u003cbr\\u003eRank: 30\\u003cextra\\u003e\\u003c\\u002fextra\\u003e\",\"\\u003cb\\u003e%{location}\\u003c\\u002fb\\u003e\\u003cbr\\u003eScore: %{z}\\u003cbr\\u003eRank: 31\\u003cextra\\u003e\\u003c\\u002fextra\\u003e\",\"\\u003cb\\u003e%{location}\\u003c\\u002fb\\u003e\\u003cbr\\u003eScore: %{z}\\u003cbr\\u003eRank: 32\\u003cextra\\u003e\\u003c\\u002fextra\\u003e\",\"\\u003cb\\u003e%{location}\\u003c\\u002fb\\u003e\\u003cbr\\u003eScore: %{z}\\u003cbr\\u003eRank: 33\\u003cextra\\u003e\\u003c\\u002fextra\\u003e\",\"\\u003cb\\u003e%{location}\\u003c\\u002fb\\u003e\\u003cbr\\u003eScore: %{z}\\u003cbr\\u003eRank: 34\\u003cextra\\u003e\\u003c\\u002fextra\\u003e\",\"\\u003cb\\u003e%{location}\\u003c\\u002fb\\u003e\\u003cbr\\u003eScore: %{z}\\u003cbr\\u003eRank: 35\\u003cextra\\u003e\\u003c\\u002fextra\\u003e\",\"\\u003cb\\u003e%{location}\\u003c\\u002fb\\u003e\\u003cbr\\u003eScore: %{z}\\u003cbr\\u003eRank: 36\\u003cextra\\u003e\\u003c\\u002fextra\\u003e\",\"\\u003cb\\u003e%{location}\\u003c\\u002fb\\u003e\\u003cbr\\u003eScore: %{z}\\u003cbr\\u003eRank: 37\\u003cextra\\u003e\\u003c\\u002fextra\\u003e\",\"\\u003cb\\u003e%{location}\\u003c\\u002fb\\u003e\\u003cbr\\u003eScore: %{z}\\u003cbr\\u003eRank: 38\\u003cextra\\u003e\\u003c\\u002fextra\\u003e\",\"\\u003cb\\u003e%{location}\\u003c\\u002fb\\u003e\\u003cbr\\u003eScore: %{z}\\u003cbr\\u003eRank: 39\\u003cextra\\u003e\\u003c\\u002fextra\\u003e\",\"\\u003cb\\u003e%{location}\\u003c\\u002fb\\u003e\\u003cbr\\u003eScore: %{z}\\u003cbr\\u003eRank: 40\\u003cextra\\u003e\\u003c\\u002fextra\\u003e\",\"\\u003cb\\u003e%{location}\\u003c\\u002fb\\u003e\\u003cbr\\u003eScore: %{z}\\u003cbr\\u003eRank: 41\\u003cextra\\u003e\\u003c\\u002fextra\\u003e\",\"\\u003cb\\u003e%{location}\\u003c\\u002fb\\u003e\\u003cbr\\u003eScore: %{z}\\u003cbr\\u003eRank: 42\\u003cextra\\u003e\\u003c\\u002fextra\\u003e\",\"\\u003cb\\u003e%{location}\\u003c\\u002fb\\u003e\\u003cbr\\u003eScore: %{z}\\u003cbr\\u003eRank: 43\\u003cextra\\u003e\\u003c\\u002fextra\\u003e\",\"\\u003cb\\u003e%{location}\\u003c\\u002fb\\u003e\\u003cbr\\u003eScore: %{z}\\u003cbr\\u003eRank: 44\\u003cextra\\u003e\\u003c\\u002fextra\\u003e\",\"\\u003cb\\u003e%{location}\\u003c\\u002fb\\u003e\\u003cbr\\u003eScore: %{z}\\u003cbr\\u003eRank: 45\\u003cextra\\u003e\\u003c\\u002fextra\\u003e\",\"\\u003cb\\u003e%{location}\\u003c\\u002fb\\u003e\\u003cbr\\u003eScore: %{z}\\u003cbr\\u003eRank: 46\\u003cextra\\u003e\\u003c\\u002fextra\\u003e\",\"\\u003cb\\u003e%{location}\\u003c\\u002fb\\u003e\\u003cbr\\u003eScore: %{z}\\u003cbr\\u003eRank: 47\\u003cextra\\u003e\\u003c\\u002fextra\\u003e\",\"\\u003cb\\u003e%{location}\\u003c\\u002fb\\u003e\\u003cbr\\u003eScore: %{z}\\u003cbr\\u003eRank: 48\\u003cextra\\u003e\\u003c\\u002fextra\\u003e\",\"\\u003cb\\u003e%{location}\\u003c\\u002fb\\u003e\\u003cbr\\u003eScore: %{z}\\u003cbr\\u003eRank: 49\\u003cextra\\u003e\\u003c\\u002fextra\\u003e\",\"\\u003cb\\u003e%{location}\\u003c\\u002fb\\u003e\\u003cbr\\u003eScore: %{z}\\u003cbr\\u003eRank: 50\\u003cextra\\u003e\\u003c\\u002fextra\\u003e\",\"\\u003cb\\u003e%{location}\\u003c\\u002fb\\u003e\\u003cbr\\u003eScore: %{z}\\u003cbr\\u003eRank: 51\\u003cextra\\u003e\\u003c\\u002fextra\\u003e\",\"\\u003cb\\u003e%{location}\\u003c\\u002fb\\u003e\\u003cbr\\u003eScore: %{z}\\u003cbr\\u003eRank: 52\\u003cextra\\u003e\\u003c\\u002fextra\\u003e\",\"\\u003cb\\u003e%{location}\\u003c\\u002fb\\u003e\\u003cbr\\u003eScore: %{z}\\u003cbr\\u003eRank: 53\\u003cextra\\u003e\\u003c\\u002fextra\\u003e\",\"\\u003cb\\u003e%{location}\\u003c\\u002fb\\u003e\\u003cbr\\u003eScore: %{z}\\u003cbr\\u003eRank: 54\\u003cextra\\u003e\\u003c\\u002fextra\\u003e\",\"\\u003cb\\u003e%{location}\\u003c\\u002fb\\u003e\\u003cbr\\u003eScore: %{z}\\u003cbr\\u003eRank: 55\\u003cextra\\u003e\\u003c\\u002fextra\\u003e\",\"\\u003cb\\u003e%{location}\\u003c\\u002fb\\u003e\\u003cbr\\u003eScore: %{z}\\u003cbr\\u003eRank: 56\\u003cextra\\u003e\\u003c\\u002fextra\\u003e\",\"\\u003cb\\u003e%{location}\\u003c\\u002fb\\u003e\\u003cbr\\u003eScore: %{z}\\u003cbr\\u003eRank: 57\\u003cextra\\u003e\\u003c\\u002fextra\\u003e\",\"\\u003cb\\u003e%{location}\\u003c\\u002fb\\u003e\\u003cbr\\u003eScore: %{z}\\u003cbr\\u003eRank: 58\\u003cextra\\u003e\\u003c\\u002fextra\\u003e\",\"\\u003cb\\u003e%{location}\\u003c\\u002fb\\u003e\\u003cbr\\u003eScore: %{z}\\u003cbr\\u003eRank: 59\\u003cextra\\u003e\\u003c\\u002fextra\\u003e\",\"\\u003cb\\u003e%{location}\\u003c\\u002fb\\u003e\\u003cbr\\u003eScore: %{z}\\u003cbr\\u003eRank: 60\\u003cextra\\u003e\\u003c\\u002fextra\\u003e\",\"\\u003cb\\u003e%{location}\\u003c\\u002fb\\u003e\\u003cbr\\u003eScore: %{z}\\u003cbr\\u003eRank: 61\\u003cextra\\u003e\\u003c\\u002fextra\\u003e\",\"\\u003cb\\u003e%{location}\\u003c\\u002fb\\u003e\\u003cbr\\u003eScore: %{z}\\u003cbr\\u003eRank: 62\\u003cextra\\u003e\\u003c\\u002fextra\\u003e\",\"\\u003cb\\u003e%{location}\\u003c\\u002fb\\u003e\\u003cbr\\u003eScore: %{z}\\u003cbr\\u003eRank: 63\\u003cextra\\u003e\\u003c\\u002fextra\\u003e\",\"\\u003cb\\u003e%{location}\\u003c\\u002fb\\u003e\\u003cbr\\u003eScore: %{z}\\u003cbr\\u003eRank: 64\\u003cextra\\u003e\\u003c\\u002fextra\\u003e\",\"\\u003cb\\u003e%{location}\\u003c\\u002fb\\u003e\\u003cbr\\u003eScore: %{z}\\u003cbr\\u003eRank: 65\\u003cextra\\u003e\\u003c\\u002fextra\\u003e\",\"\\u003cb\\u003e%{location}\\u003c\\u002fb\\u003e\\u003cbr\\u003eScore: %{z}\\u003cbr\\u003eRank: 66\\u003cextra\\u003e\\u003c\\u002fextra\\u003e\",\"\\u003cb\\u003e%{location}\\u003c\\u002fb\\u003e\\u003cbr\\u003eScore: %{z}\\u003cbr\\u003eRank: 67\\u003cextra\\u003e\\u003c\\u002fextra\\u003e\",\"\\u003cb\\u003e%{location}\\u003c\\u002fb\\u003e\\u003cbr\\u003eScore: %{z}\\u003cbr\\u003eRank: 68\\u003cextra\\u003e\\u003c\\u002fextra\\u003e\",\"\\u003cb\\u003e%{location}\\u003c\\u002fb\\u003e\\u003cbr\\u003eScore: %{z}\\u003cbr\\u003eRank: 69\\u003cextra\\u003e\\u003c\\u002fextra\\u003e\",\"\\u003cb\\u003e%{location}\\u003c\\u002fb\\u003e\\u003cbr\\u003eScore: %{z}\\u003cbr\\u003eRank: 70\\u003cextra\\u003e\\u003c\\u002fextra\\u003e\",\"\\u003cb\\u003e%{location}\\u003c\\u002fb\\u003e\\u003cbr\\u003eScore: %{z}\\u003cbr\\u003eRank: 71\\u003cextra\\u003e\\u003c\\u002fextra\\u003e\",\"\\u003cb\\u003e%{location}\\u003c\\u002fb\\u003e\\u003cbr\\u003eScore: %{z}\\u003cbr\\u003eRank: 72\\u003cextra\\u003e\\u003c\\u002fextra\\u003e\",\"\\u003cb\\u003e%{location}\\u003c\\u002fb\\u003e\\u003cbr\\u003eScore: %{z}\\u003cbr\\u003eRank: 73\\u003cextra\\u003e\\u003c\\u002fextra\\u003e\",\"\\u003cb\\u003e%{location}\\u003c\\u002fb\\u003e\\u003cbr\\u003eScore: %{z}\\u003cbr\\u003eRank: 74\\u003cextra\\u003e\\u003c\\u002fextra\\u003e\",\"\\u003cb\\u003e%{location}\\u003c\\u002fb\\u003e\\u003cbr\\u003eScore: %{z}\\u003cbr\\u003eRank: 75\\u003cextra\\u003e\\u003c\\u002fextra\\u003e\",\"\\u003cb\\u003e%{location}\\u003c\\u002fb\\u003e\\u003cbr\\u003eScore: %{z}\\u003cbr\\u003eRank: 76\\u003cextra\\u003e\\u003c\\u002fextra\\u003e\",\"\\u003cb\\u003e%{location}\\u003c\\u002fb\\u003e\\u003cbr\\u003eScore: %{z}\\u003cbr\\u003eRank: 77\\u003cextra\\u003e\\u003c\\u002fextra\\u003e\",\"\\u003cb\\u003e%{location}\\u003c\\u002fb\\u003e\\u003cbr\\u003eScore: %{z}\\u003cbr\\u003eRank: 78\\u003cextra\\u003e\\u003c\\u002fextra\\u003e\",\"\\u003cb\\u003e%{location}\\u003c\\u002fb\\u003e\\u003cbr\\u003eScore: %{z}\\u003cbr\\u003eRank: 79\\u003cextra\\u003e\\u003c\\u002fextra\\u003e\",\"\\u003cb\\u003e%{location}\\u003c\\u002fb\\u003e\\u003cbr\\u003eScore: %{z}\\u003cbr\\u003eRank: 80\\u003cextra\\u003e\\u003c\\u002fextra\\u003e\",\"\\u003cb\\u003e%{location}\\u003c\\u002fb\\u003e\\u003cbr\\u003eScore: %{z}\\u003cbr\\u003eRank: 81\\u003cextra\\u003e\\u003c\\u002fextra\\u003e\",\"\\u003cb\\u003e%{location}\\u003c\\u002fb\\u003e\\u003cbr\\u003eScore: %{z}\\u003cbr\\u003eRank: 82\\u003cextra\\u003e\\u003c\\u002fextra\\u003e\",\"\\u003cb\\u003e%{location}\\u003c\\u002fb\\u003e\\u003cbr\\u003eScore: %{z}\\u003cbr\\u003eRank: 83\\u003cextra\\u003e\\u003c\\u002fextra\\u003e\",\"\\u003cb\\u003e%{location}\\u003c\\u002fb\\u003e\\u003cbr\\u003eScore: %{z}\\u003cbr\\u003eRank: 84\\u003cextra\\u003e\\u003c\\u002fextra\\u003e\",\"\\u003cb\\u003e%{location}\\u003c\\u002fb\\u003e\\u003cbr\\u003eScore: %{z}\\u003cbr\\u003eRank: 85\\u003cextra\\u003e\\u003c\\u002fextra\\u003e\",\"\\u003cb\\u003e%{location}\\u003c\\u002fb\\u003e\\u003cbr\\u003eScore: %{z}\\u003cbr\\u003eRank: 86\\u003cextra\\u003e\\u003c\\u002fextra\\u003e\",\"\\u003cb\\u003e%{location}\\u003c\\u002fb\\u003e\\u003cbr\\u003eScore: %{z}\\u003cbr\\u003eRank: 87\\u003cextra\\u003e\\u003c\\u002fextra\\u003e\",\"\\u003cb\\u003e%{location}\\u003c\\u002fb\\u003e\\u003cbr\\u003eScore: %{z}\\u003cbr\\u003eRank: 88\\u003cextra\\u003e\\u003c\\u002fextra\\u003e\",\"\\u003cb\\u003e%{location}\\u003c\\u002fb\\u003e\\u003cbr\\u003eScore: %{z}\\u003cbr\\u003eRank: 89\\u003cextra\\u003e\\u003c\\u002fextra\\u003e\",\"\\u003cb\\u003e%{location}\\u003c\\u002fb\\u003e\\u003cbr\\u003eScore: %{z}\\u003cbr\\u003eRank: 90\\u003cextra\\u003e\\u003c\\u002fextra\\u003e\",\"\\u003cb\\u003e%{location}\\u003c\\u002fb\\u003e\\u003cbr\\u003eScore: %{z}\\u003cbr\\u003eRank: 91\\u003cextra\\u003e\\u003c\\u002fextra\\u003e\",\"\\u003cb\\u003e%{location}\\u003c\\u002fb\\u003e\\u003cbr\\u003eScore: %{z}\\u003cbr\\u003eRank: 92\\u003cextra\\u003e\\u003c\\u002fextra\\u003e\",\"\\u003cb\\u003e%{location}\\u003c\\u002fb\\u003e\\u003cbr\\u003eScore: %{z}\\u003cbr\\u003eRank: 93\\u003cextra\\u003e\\u003c\\u002fextra\\u003e\",\"\\u003cb\\u003e%{location}\\u003c\\u002fb\\u003e\\u003cbr\\u003eScore: %{z}\\u003cbr\\u003eRank: 94\\u003cextra\\u003e\\u003c\\u002fextra\\u003e\",\"\\u003cb\\u003e%{location}\\u003c\\u002fb\\u003e\\u003cbr\\u003eScore: %{z}\\u003cbr\\u003eRank: 95\\u003cextra\\u003e\\u003c\\u002fextra\\u003e\",\"\\u003cb\\u003e%{location}\\u003c\\u002fb\\u003e\\u003cbr\\u003eScore: %{z}\\u003cbr\\u003eRank: 96\\u003cextra\\u003e\\u003c\\u002fextra\\u003e\",\"\\u003cb\\u003e%{location}\\u003c\\u002fb\\u003e\\u003cbr\\u003eScore: %{z}\\u003cbr\\u003eRank: 97\\u003cextra\\u003e\\u003c\\u002fextra\\u003e\",\"\\u003cb\\u003e%{location}\\u003c\\u002fb\\u003e\\u003cbr\\u003eScore: %{z}\\u003cbr\\u003eRank: 98\\u003cextra\\u003e\\u003c\\u002fextra\\u003e\",\"\\u003cb\\u003e%{location}\\u003c\\u002fb\\u003e\\u003cbr\\u003eScore: %{z}\\u003cbr\\u003eRank: 99\\u003cextra\\u003e\\u003c\\u002fextra\\u003e\",\"\\u003cb\\u003e%{location}\\u003c\\u002fb\\u003e\\u003cbr\\u003eScore: %{z}\\u003cbr\\u003eRank: 100\\u003cextra\\u003e\\u003c\\u002fextra\\u003e\",\"\\u003cb\\u003e%{location}\\u003c\\u002fb\\u003e\\u003cbr\\u003eScore: %{z}\\u003cbr\\u003eRank: 101\\u003cextra\\u003e\\u003c\\u002fextra\\u003e\",\"\\u003cb\\u003e%{location}\\u003c\\u002fb\\u003e\\u003cbr\\u003eScore: %{z}\\u003cbr\\u003eRank: 102\\u003cextra\\u003e\\u003c\\u002fextra\\u003e\",\"\\u003cb\\u003e%{location}\\u003c\\u002fb\\u003e\\u003cbr\\u003eScore: %{z}\\u003cbr\\u003eRank: 103\\u003cextra\\u003e\\u003c\\u002fextra\\u003e\",\"\\u003cb\\u003e%{location}\\u003c\\u002fb\\u003e\\u003cbr\\u003eScore: %{z}\\u003cbr\\u003eRank: 104\\u003cextra\\u003e\\u003c\\u002fextra\\u003e\",\"\\u003cb\\u003e%{location}\\u003c\\u002fb\\u003e\\u003cbr\\u003eScore: %{z}\\u003cbr\\u003eRank: 105\\u003cextra\\u003e\\u003c\\u002fextra\\u003e\",\"\\u003cb\\u003e%{location}\\u003c\\u002fb\\u003e\\u003cbr\\u003eScore: %{z}\\u003cbr\\u003eRank: 106\\u003cextra\\u003e\\u003c\\u002fextra\\u003e\",\"\\u003cb\\u003e%{location}\\u003c\\u002fb\\u003e\\u003cbr\\u003eScore: %{z}\\u003cbr\\u003eRank: 107\\u003cextra\\u003e\\u003c\\u002fextra\\u003e\",\"\\u003cb\\u003e%{location}\\u003c\\u002fb\\u003e\\u003cbr\\u003eScore: %{z}\\u003cbr\\u003eRank: 108\\u003cextra\\u003e\\u003c\\u002fextra\\u003e\",\"\\u003cb\\u003e%{location}\\u003c\\u002fb\\u003e\\u003cbr\\u003eScore: %{z}\\u003cbr\\u003eRank: 109\\u003cextra\\u003e\\u003c\\u002fextra\\u003e\",\"\\u003cb\\u003e%{location}\\u003c\\u002fb\\u003e\\u003cbr\\u003eScore: %{z}\\u003cbr\\u003eRank: 110\\u003cextra\\u003e\\u003c\\u002fextra\\u003e\",\"\\u003cb\\u003e%{location}\\u003c\\u002fb\\u003e\\u003cbr\\u003eScore: %{z}\\u003cbr\\u003eRank: 111\\u003cextra\\u003e\\u003c\\u002fextra\\u003e\",\"\\u003cb\\u003e%{location}\\u003c\\u002fb\\u003e\\u003cbr\\u003eScore: %{z}\\u003cbr\\u003eRank: 112\\u003cextra\\u003e\\u003c\\u002fextra\\u003e\",\"\\u003cb\\u003e%{location}\\u003c\\u002fb\\u003e\\u003cbr\\u003eScore: %{z}\\u003cbr\\u003eRank: 113\\u003cextra\\u003e\\u003c\\u002fextra\\u003e\",\"\\u003cb\\u003e%{location}\\u003c\\u002fb\\u003e\\u003cbr\\u003eScore: %{z}\\u003cbr\\u003eRank: 114\\u003cextra\\u003e\\u003c\\u002fextra\\u003e\",\"\\u003cb\\u003e%{location}\\u003c\\u002fb\\u003e\\u003cbr\\u003eScore: %{z}\\u003cbr\\u003eRank: 115\\u003cextra\\u003e\\u003c\\u002fextra\\u003e\",\"\\u003cb\\u003e%{location}\\u003c\\u002fb\\u003e\\u003cbr\\u003eScore: %{z}\\u003cbr\\u003eRank: 116\\u003cextra\\u003e\\u003c\\u002fextra\\u003e\",\"\\u003cb\\u003e%{location}\\u003c\\u002fb\\u003e\\u003cbr\\u003eScore: %{z}\\u003cbr\\u003eRank: 117\\u003cextra\\u003e\\u003c\\u002fextra\\u003e\",\"\\u003cb\\u003e%{location}\\u003c\\u002fb\\u003e\\u003cbr\\u003eScore: %{z}\\u003cbr\\u003eRank: 118\\u003cextra\\u003e\\u003c\\u002fextra\\u003e\",\"\\u003cb\\u003e%{location}\\u003c\\u002fb\\u003e\\u003cbr\\u003eScore: %{z}\\u003cbr\\u003eRank: 119\\u003cextra\\u003e\\u003c\\u002fextra\\u003e\",\"\\u003cb\\u003e%{location}\\u003c\\u002fb\\u003e\\u003cbr\\u003eScore: %{z}\\u003cbr\\u003eRank: 120\\u003cextra\\u003e\\u003c\\u002fextra\\u003e\",\"\\u003cb\\u003e%{location}\\u003c\\u002fb\\u003e\\u003cbr\\u003eScore: %{z}\\u003cbr\\u003eRank: 121\\u003cextra\\u003e\\u003c\\u002fextra\\u003e\",\"\\u003cb\\u003e%{location}\\u003c\\u002fb\\u003e\\u003cbr\\u003eScore: %{z}\\u003cbr\\u003eRank: 122\\u003cextra\\u003e\\u003c\\u002fextra\\u003e\",\"\\u003cb\\u003e%{location}\\u003c\\u002fb\\u003e\\u003cbr\\u003eScore: %{z}\\u003cbr\\u003eRank: 123\\u003cextra\\u003e\\u003c\\u002fextra\\u003e\",\"\\u003cb\\u003e%{location}\\u003c\\u002fb\\u003e\\u003cbr\\u003eScore: %{z}\\u003cbr\\u003eRank: 124\\u003cextra\\u003e\\u003c\\u002fextra\\u003e\",\"\\u003cb\\u003e%{location}\\u003c\\u002fb\\u003e\\u003cbr\\u003eScore: %{z}\\u003cbr\\u003eRank: 125\\u003cextra\\u003e\\u003c\\u002fextra\\u003e\",\"\\u003cb\\u003e%{location}\\u003c\\u002fb\\u003e\\u003cbr\\u003eScore: %{z}\\u003cbr\\u003eRank: 126\\u003cextra\\u003e\\u003c\\u002fextra\\u003e\",\"\\u003cb\\u003e%{location}\\u003c\\u002fb\\u003e\\u003cbr\\u003eScore: %{z}\\u003cbr\\u003eRank: 127\\u003cextra\\u003e\\u003c\\u002fextra\\u003e\",\"\\u003cb\\u003e%{location}\\u003c\\u002fb\\u003e\\u003cbr\\u003eScore: %{z}\\u003cbr\\u003eRank: 128\\u003cextra\\u003e\\u003c\\u002fextra\\u003e\",\"\\u003cb\\u003e%{location}\\u003c\\u002fb\\u003e\\u003cbr\\u003eScore: %{z}\\u003cbr\\u003eRank: 129\\u003cextra\\u003e\\u003c\\u002fextra\\u003e\",\"\\u003cb\\u003e%{location}\\u003c\\u002fb\\u003e\\u003cbr\\u003eScore: %{z}\\u003cbr\\u003eRank: 130\\u003cextra\\u003e\\u003c\\u002fextra\\u003e\",\"\\u003cb\\u003e%{location}\\u003c\\u002fb\\u003e\\u003cbr\\u003eScore: %{z}\\u003cbr\\u003eRank: 131\\u003cextra\\u003e\\u003c\\u002fextra\\u003e\",\"\\u003cb\\u003e%{location}\\u003c\\u002fb\\u003e\\u003cbr\\u003eScore: %{z}\\u003cbr\\u003eRank: 132\\u003cextra\\u003e\\u003c\\u002fextra\\u003e\",\"\\u003cb\\u003e%{location}\\u003c\\u002fb\\u003e\\u003cbr\\u003eScore: %{z}\\u003cbr\\u003eRank: 133\\u003cextra\\u003e\\u003c\\u002fextra\\u003e\",\"\\u003cb\\u003e%{location}\\u003c\\u002fb\\u003e\\u003cbr\\u003eScore: %{z}\\u003cbr\\u003eRank: 134\\u003cextra\\u003e\\u003c\\u002fextra\\u003e\",\"\\u003cb\\u003e%{location}\\u003c\\u002fb\\u003e\\u003cbr\\u003eScore: %{z}\\u003cbr\\u003eRank: 135\\u003cextra\\u003e\\u003c\\u002fextra\\u003e\",\"\\u003cb\\u003e%{location}\\u003c\\u002fb\\u003e\\u003cbr\\u003eScore: %{z}\\u003cbr\\u003eRank: 136\\u003cextra\\u003e\\u003c\\u002fextra\\u003e\",\"\\u003cb\\u003e%{location}\\u003c\\u002fb\\u003e\\u003cbr\\u003eScore: %{z}\\u003cbr\\u003eRank: 137\\u003cextra\\u003e\\u003c\\u002fextra\\u003e\",\"\\u003cb\\u003e%{location}\\u003c\\u002fb\\u003e\\u003cbr\\u003eScore: %{z}\\u003cbr\\u003eRank: 138\\u003cextra\\u003e\\u003c\\u002fextra\\u003e\",\"\\u003cb\\u003e%{location}\\u003c\\u002fb\\u003e\\u003cbr\\u003eScore: %{z}\\u003cbr\\u003eRank: 139\\u003cextra\\u003e\\u003c\\u002fextra\\u003e\",\"\\u003cb\\u003e%{location}\\u003c\\u002fb\\u003e\\u003cbr\\u003eScore: %{z}\\u003cbr\\u003eRank: 140\\u003cextra\\u003e\\u003c\\u002fextra\\u003e\"],\"locationmode\":\"country names\",\"locations\":[\"Kuwait\",\"Singapore\",\"Tajikistan\",\"Norway\",\"Luxembourg\",\"Iceland\",\"Finland\",\"Estonia\",\"Kosovo\",\"Switzerland\",\"Denmark\",\"United Arab Emirates\",\"Vietnam\",\"El Salvador\",\"Portugal\",\"Slovenia\",\"Bahrain\",\"Indonesia\",\"Uzbekistan\",\"Saudi Arabia\",\"Montenegro\",\"China\",\"Taiwan, Province of China\",\"NETHERLANDS\",\"Sweden\",\"Egypt\",\"Malaysia\",\"Azerbaijan\",\"Jordan\",\"Austria\",\"Spain\",\"Lithuania\",\"Germany\",\"Japan\",\"Ireland\",\"Hong Kong (S.A.R. of China)\",\"Georgia\",\"Czech Republic\",\"South Korea\",\"Armenia\",\"Serbia\",\"France\",\"Albania\",\"Philippines\",\"Malta\",\"Iraq\",\"Israel\",\"India\",\"Belgium\",\"Canada\",\"Hungary\",\"United Kingdom of Great Britain and Northern Ireland\",\"Slovakia\",\"Latvia\",\"Somalia\",\"Bosnia and Herzegovina\",\"Northern Cyprus\",\"T\\u00fcrkiye\",\"Kyrgyzstan\",\"Italy\",\"Croatia\",\"United States of America\",\"Iran\",\"Poland\",\"Australia\",\"Russian Federation\",\"Bangladesh\",\"Mauritius\",\"Kazakhstan\",\"Cambodia\",\"Republic of Moldova\",\"North Macedonia\",\"Thailand\",\"Tanzania\",\"Burkina Faso\",\"Morocco\",\"Bulgaria\",\"Romania\",\"Pakistan\",\"Nepal\",\"Panama\",\"Greece\",\"Mali\",\"Sri Lanka\",\"Cyprus\",\"Lao People's Democratic Republic\",\"New Zealand\",\"Libya\",\"Tunisia\",\"Uruguay\",\"State of Palestine\",\"Brazil\",\"C\\u00f4te d'Ivoire\",\"Guatemala\",\"Ukraine\",\"Lebanon\",\"Honduras\",\"Costa Rica\",\"Senegal\",\"Benin\",\"Paraguay\",\"Yemen\",\"Mozambique\",\"Ghana\",\"Mongolia\",\"Togo\",\"Ethiopia\",\"Zimbabwe\",\"Comoros\",\"Dominican Republic\",\"Madagascar\",\"Niger\",\"Chile\",\"Venezuela\",\"Mexico\",\"Argentina\",\"Colombia\",\"Mauritania\",\"Zambia\",\"Nigeria\",\"Cameroon\",\"Namibia\",\"Myanmar\",\"Kenya\",\"Guinea\",\"The Republic of the Congo\",\"Peru\",\"Malawi\",\"Uganda\",\"Gabon\",\"Eswatini\",\"Bolivia\",\"Chad\",\"Botswana\",\"THE Gambia\",\"Democratic Republic of Congo\",\"South Africa\",\"Sierra Leone\",\"Ecuador\",\"Liberia\"],\"name\":\"\",\"z\":[98,95,95,93,91,91,91,91,91,91,90,90,90,89,89,89,89,89,89,89,88,88,88,88,88,88,87,87,87,87,87,86,86,86,86,86,86,85,85,85,84,84,84,84,84,84,84,83,83,83,83,82,82,82,82,82,82,82,82,81,81,81,81,81,81,81,81,80,80,80,80,79,79,79,78,78,78,78,78,77,77,77,77,77,77,77,76,76,76,75,75,74,74,74,73,73,73,73,72,72,72,71,71,71,71,71,70,69,69,69,68,68,68,66,66,65,65,65,65,65,64,64,64,63,63,63,63,63,62,62,62,62,60,60,59,58,58,57,55,50],\"type\":\"choropleth\"}],                        {\"template\":{\"data\":{\"histogram2dcontour\":[{\"type\":\"histogram2dcontour\",\"colorbar\":{\"outlinewidth\":0,\"ticks\":\"\"},\"colorscale\":[[0.0,\"#0d0887\"],[0.1111111111111111,\"#46039f\"],[0.2222222222222222,\"#7201a8\"],[0.3333333333333333,\"#9c179e\"],[0.4444444444444444,\"#bd3786\"],[0.5555555555555556,\"#d8576b\"],[0.6666666666666666,\"#ed7953\"],[0.7777777777777778,\"#fb9f3a\"],[0.8888888888888888,\"#fdca26\"],[1.0,\"#f0f921\"]]}],\"choropleth\":[{\"type\":\"choropleth\",\"colorbar\":{\"outlinewidth\":0,\"ticks\":\"\"}}],\"histogram2d\":[{\"type\":\"histogram2d\",\"colorbar\":{\"outlinewidth\":0,\"ticks\":\"\"},\"colorscale\":[[0.0,\"#0d0887\"],[0.1111111111111111,\"#46039f\"],[0.2222222222222222,\"#7201a8\"],[0.3333333333333333,\"#9c179e\"],[0.4444444444444444,\"#bd3786\"],[0.5555555555555556,\"#d8576b\"],[0.6666666666666666,\"#ed7953\"],[0.7777777777777778,\"#fb9f3a\"],[0.8888888888888888,\"#fdca26\"],[1.0,\"#f0f921\"]]}],\"heatmap\":[{\"type\":\"heatmap\",\"colorbar\":{\"outlinewidth\":0,\"ticks\":\"\"},\"colorscale\":[[0.0,\"#0d0887\"],[0.1111111111111111,\"#46039f\"],[0.2222222222222222,\"#7201a8\"],[0.3333333333333333,\"#9c179e\"],[0.4444444444444444,\"#bd3786\"],[0.5555555555555556,\"#d8576b\"],[0.6666666666666666,\"#ed7953\"],[0.7777777777777778,\"#fb9f3a\"],[0.8888888888888888,\"#fdca26\"],[1.0,\"#f0f921\"]]}],\"heatmapgl\":[{\"type\":\"heatmapgl\",\"colorbar\":{\"outlinewidth\":0,\"ticks\":\"\"},\"colorscale\":[[0.0,\"#0d0887\"],[0.1111111111111111,\"#46039f\"],[0.2222222222222222,\"#7201a8\"],[0.3333333333333333,\"#9c179e\"],[0.4444444444444444,\"#bd3786\"],[0.5555555555555556,\"#d8576b\"],[0.6666666666666666,\"#ed7953\"],[0.7777777777777778,\"#fb9f3a\"],[0.8888888888888888,\"#fdca26\"],[1.0,\"#f0f921\"]]}],\"contourcarpet\":[{\"type\":\"contourcarpet\",\"colorbar\":{\"outlinewidth\":0,\"ticks\":\"\"}}],\"contour\":[{\"type\":\"contour\",\"colorbar\":{\"outlinewidth\":0,\"ticks\":\"\"},\"colorscale\":[[0.0,\"#0d0887\"],[0.1111111111111111,\"#46039f\"],[0.2222222222222222,\"#7201a8\"],[0.3333333333333333,\"#9c179e\"],[0.4444444444444444,\"#bd3786\"],[0.5555555555555556,\"#d8576b\"],[0.6666666666666666,\"#ed7953\"],[0.7777777777777778,\"#fb9f3a\"],[0.8888888888888888,\"#fdca26\"],[1.0,\"#f0f921\"]]}],\"surface\":[{\"type\":\"surface\",\"colorbar\":{\"outlinewidth\":0,\"ticks\":\"\"},\"colorscale\":[[0.0,\"#0d0887\"],[0.1111111111111111,\"#46039f\"],[0.2222222222222222,\"#7201a8\"],[0.3333333333333333,\"#9c179e\"],[0.4444444444444444,\"#bd3786\"],[0.5555555555555556,\"#d8576b\"],[0.6666666666666666,\"#ed7953\"],[0.7777777777777778,\"#fb9f3a\"],[0.8888888888888888,\"#fdca26\"],[1.0,\"#f0f921\"]]}],\"mesh3d\":[{\"type\":\"mesh3d\",\"colorbar\":{\"outlinewidth\":0,\"ticks\":\"\"}}],\"scatter\":[{\"fillpattern\":{\"fillmode\":\"overlay\",\"size\":10,\"solidity\":0.2},\"type\":\"scatter\"}],\"parcoords\":[{\"type\":\"parcoords\",\"line\":{\"colorbar\":{\"outlinewidth\":0,\"ticks\":\"\"}}}],\"scatterpolargl\":[{\"type\":\"scatterpolargl\",\"marker\":{\"colorbar\":{\"outlinewidth\":0,\"ticks\":\"\"}}}],\"bar\":[{\"error_x\":{\"color\":\"#2a3f5f\"},\"error_y\":{\"color\":\"#2a3f5f\"},\"marker\":{\"line\":{\"color\":\"#E5ECF6\",\"width\":0.5},\"pattern\":{\"fillmode\":\"overlay\",\"size\":10,\"solidity\":0.2}},\"type\":\"bar\"}],\"scattergeo\":[{\"type\":\"scattergeo\",\"marker\":{\"colorbar\":{\"outlinewidth\":0,\"ticks\":\"\"}}}],\"scatterpolar\":[{\"type\":\"scatterpolar\",\"marker\":{\"colorbar\":{\"outlinewidth\":0,\"ticks\":\"\"}}}],\"histogram\":[{\"marker\":{\"pattern\":{\"fillmode\":\"overlay\",\"size\":10,\"solidity\":0.2}},\"type\":\"histogram\"}],\"scattergl\":[{\"type\":\"scattergl\",\"marker\":{\"colorbar\":{\"outlinewidth\":0,\"ticks\":\"\"}}}],\"scatter3d\":[{\"type\":\"scatter3d\",\"line\":{\"colorbar\":{\"outlinewidth\":0,\"ticks\":\"\"}},\"marker\":{\"colorbar\":{\"outlinewidth\":0,\"ticks\":\"\"}}}],\"scattermapbox\":[{\"type\":\"scattermapbox\",\"marker\":{\"colorbar\":{\"outlinewidth\":0,\"ticks\":\"\"}}}],\"scatterternary\":[{\"type\":\"scatterternary\",\"marker\":{\"colorbar\":{\"outlinewidth\":0,\"ticks\":\"\"}}}],\"scattercarpet\":[{\"type\":\"scattercarpet\",\"marker\":{\"colorbar\":{\"outlinewidth\":0,\"ticks\":\"\"}}}],\"carpet\":[{\"aaxis\":{\"endlinecolor\":\"#2a3f5f\",\"gridcolor\":\"white\",\"linecolor\":\"white\",\"minorgridcolor\":\"white\",\"startlinecolor\":\"#2a3f5f\"},\"baxis\":{\"endlinecolor\":\"#2a3f5f\",\"gridcolor\":\"white\",\"linecolor\":\"white\",\"minorgridcolor\":\"white\",\"startlinecolor\":\"#2a3f5f\"},\"type\":\"carpet\"}],\"table\":[{\"cells\":{\"fill\":{\"color\":\"#EBF0F8\"},\"line\":{\"color\":\"white\"}},\"header\":{\"fill\":{\"color\":\"#C8D4E3\"},\"line\":{\"color\":\"white\"}},\"type\":\"table\"}],\"barpolar\":[{\"marker\":{\"line\":{\"color\":\"#E5ECF6\",\"width\":0.5},\"pattern\":{\"fillmode\":\"overlay\",\"size\":10,\"solidity\":0.2}},\"type\":\"barpolar\"}],\"pie\":[{\"automargin\":true,\"type\":\"pie\"}]},\"layout\":{\"autotypenumbers\":\"strict\",\"colorway\":[\"#636efa\",\"#EF553B\",\"#00cc96\",\"#ab63fa\",\"#FFA15A\",\"#19d3f3\",\"#FF6692\",\"#B6E880\",\"#FF97FF\",\"#FECB52\"],\"font\":{\"color\":\"#2a3f5f\"},\"hovermode\":\"closest\",\"hoverlabel\":{\"align\":\"left\"},\"paper_bgcolor\":\"white\",\"plot_bgcolor\":\"#E5ECF6\",\"polar\":{\"bgcolor\":\"#E5ECF6\",\"angularaxis\":{\"gridcolor\":\"white\",\"linecolor\":\"white\",\"ticks\":\"\"},\"radialaxis\":{\"gridcolor\":\"white\",\"linecolor\":\"white\",\"ticks\":\"\"}},\"ternary\":{\"bgcolor\":\"#E5ECF6\",\"aaxis\":{\"gridcolor\":\"white\",\"linecolor\":\"white\",\"ticks\":\"\"},\"baxis\":{\"gridcolor\":\"white\",\"linecolor\":\"white\",\"ticks\":\"\"},\"caxis\":{\"gridcolor\":\"white\",\"linecolor\":\"white\",\"ticks\":\"\"}},\"coloraxis\":{\"colorbar\":{\"outlinewidth\":0,\"ticks\":\"\"}},\"colorscale\":{\"sequential\":[[0.0,\"#0d0887\"],[0.1111111111111111,\"#46039f\"],[0.2222222222222222,\"#7201a8\"],[0.3333333333333333,\"#9c179e\"],[0.4444444444444444,\"#bd3786\"],[0.5555555555555556,\"#d8576b\"],[0.6666666666666666,\"#ed7953\"],[0.7777777777777778,\"#fb9f3a\"],[0.8888888888888888,\"#fdca26\"],[1.0,\"#f0f921\"]],\"sequentialminus\":[[0.0,\"#0d0887\"],[0.1111111111111111,\"#46039f\"],[0.2222222222222222,\"#7201a8\"],[0.3333333333333333,\"#9c179e\"],[0.4444444444444444,\"#bd3786\"],[0.5555555555555556,\"#d8576b\"],[0.6666666666666666,\"#ed7953\"],[0.7777777777777778,\"#fb9f3a\"],[0.8888888888888888,\"#fdca26\"],[1.0,\"#f0f921\"]],\"diverging\":[[0,\"#8e0152\"],[0.1,\"#c51b7d\"],[0.2,\"#de77ae\"],[0.3,\"#f1b6da\"],[0.4,\"#fde0ef\"],[0.5,\"#f7f7f7\"],[0.6,\"#e6f5d0\"],[0.7,\"#b8e186\"],[0.8,\"#7fbc41\"],[0.9,\"#4d9221\"],[1,\"#276419\"]]},\"xaxis\":{\"gridcolor\":\"white\",\"linecolor\":\"white\",\"ticks\":\"\",\"title\":{\"standoff\":15},\"zerolinecolor\":\"white\",\"automargin\":true,\"zerolinewidth\":2},\"yaxis\":{\"gridcolor\":\"white\",\"linecolor\":\"white\",\"ticks\":\"\",\"title\":{\"standoff\":15},\"zerolinecolor\":\"white\",\"automargin\":true,\"zerolinewidth\":2},\"scene\":{\"xaxis\":{\"backgroundcolor\":\"#E5ECF6\",\"gridcolor\":\"white\",\"linecolor\":\"white\",\"showbackground\":true,\"ticks\":\"\",\"zerolinecolor\":\"white\",\"gridwidth\":2},\"yaxis\":{\"backgroundcolor\":\"#E5ECF6\",\"gridcolor\":\"white\",\"linecolor\":\"white\",\"showbackground\":true,\"ticks\":\"\",\"zerolinecolor\":\"white\",\"gridwidth\":2},\"zaxis\":{\"backgroundcolor\":\"#E5ECF6\",\"gridcolor\":\"white\",\"linecolor\":\"white\",\"showbackground\":true,\"ticks\":\"\",\"zerolinecolor\":\"white\",\"gridwidth\":2}},\"shapedefaults\":{\"line\":{\"color\":\"#2a3f5f\"}},\"annotationdefaults\":{\"arrowcolor\":\"#2a3f5f\",\"arrowhead\":0,\"arrowwidth\":1},\"geo\":{\"bgcolor\":\"white\",\"landcolor\":\"#E5ECF6\",\"subunitcolor\":\"white\",\"showland\":true,\"showlakes\":true,\"lakecolor\":\"white\"},\"title\":{\"x\":0.05},\"mapbox\":{\"style\":\"light\"}}},\"geo\":{\"domain\":{\"x\":[0.0,1.0],\"y\":[0.0,1.0]},\"center\":{}},\"coloraxis\":{\"colorbar\":{\"title\":{\"text\":\"Law Order Index\"}},\"colorscale\":[[0.0,\"#0d0887\"],[0.1111111111111111,\"#46039f\"],[0.2222222222222222,\"#7201a8\"],[0.3333333333333333,\"#9c179e\"],[0.4444444444444444,\"#bd3786\"],[0.5555555555555556,\"#d8576b\"],[0.6666666666666666,\"#ed7953\"],[0.7777777777777778,\"#fb9f3a\"],[0.8888888888888888,\"#fdca26\"],[1.0,\"#f0f921\"]]},\"legend\":{\"tracegroupgap\":0},\"title\":{\"text\":\"World Map of Law Order Index\"}},                        {\"responsive\": true}                    ).then(function(){\n",
       "                            \n",
       "var gd = document.getElementById('6bb2d4c8-d2de-46de-94c7-02163a0c9737');\n",
       "var x = new MutationObserver(function (mutations, observer) {{\n",
       "        var display = window.getComputedStyle(gd).display;\n",
       "        if (!display || display === 'none') {{\n",
       "            console.log([gd, 'removed!']);\n",
       "            Plotly.purge(gd);\n",
       "            observer.disconnect();\n",
       "        }}\n",
       "}});\n",
       "\n",
       "// Listen for the removal of the full notebook cells\n",
       "var notebookContainer = gd.closest('#notebook-container');\n",
       "if (notebookContainer) {{\n",
       "    x.observe(notebookContainer, {childList: true});\n",
       "}}\n",
       "\n",
       "// Listen for the clearing of the current output cell\n",
       "var outputEl = gd.closest('.output');\n",
       "if (outputEl) {{\n",
       "    x.observe(outputEl, {childList: true});\n",
       "}}\n",
       "\n",
       "                        })                };                });            </script>        </div>"
      ]
     },
     "metadata": {},
     "output_type": "display_data"
    }
   ],
   "source": [
    "# Rank the countries based on their values\n",
    "safety = safety.sort_values(by='Value', ascending=False).reset_index(drop=True)\n",
    "safety['Rank'] = safety.index + 1  # Add rank starting from 1\n",
    "\n",
    "law_order = law_order.sort_values(by='Value', ascending=False).reset_index(drop=True)\n",
    "law_order['Rank'] = law_order.index + 1  # Add rank starting from 1\n",
    "\n",
    "# Create a map for Perceived Safety\n",
    "fig_safety = px.choropleth(safety,\n",
    "    locations='Country_name', \n",
    "    locationmode='country names', \n",
    "    color='Value',\n",
    "    color_continuous_scale=px.colors.sequential.Plasma,\n",
    "    labels={'Value':'Perceived Safety'},\n",
    "    title='World Map of Perceived Safety'\n",
    ")\n",
    "\n",
    "# Create a map for Law Order Index\n",
    "fig_law_order = px.choropleth(law_order,\n",
    "    locations='Country_name', \n",
    "    locationmode='country names', \n",
    "    color='Value',\n",
    "    color_continuous_scale=px.colors.sequential.Plasma,\n",
    "    labels={'Value':'Law Order Index'},\n",
    "    title='World Map of Law Order Index'\n",
    ")\n",
    "\n",
    "# Update hover information to show country name, value, and rank\n",
    "for df, fig in zip([safety, law_order], [fig_safety, fig_law_order]):\n",
    "    fig.update_traces(hovertemplate=\"<b>%{location}</b><br>\" +\n",
    "                      \"Score: %{z}<br>\" +\n",
    "                      \"Rank: \" + df['Rank'].astype(str) + \"<extra></extra>\")\n",
    "\n",
    "# Show the figures\n",
    "fig_safety.show()\n",
    "fig_law_order.show()"
   ]
  },
  {
   "cell_type": "code",
   "execution_count": 63,
   "id": "a3299055",
   "metadata": {},
   "outputs": [],
   "source": [
    "# Merge the datasets on 'Country_name'\n",
    "merged_data = pd.merge(safety, law_order, on='Country_name', suffixes=('_Safety', '_Law_Order'))"
   ]
  },
  {
   "cell_type": "code",
   "execution_count": 64,
   "id": "3eaf4816",
   "metadata": {},
   "outputs": [
    {
     "name": "stdout",
     "output_type": "stream",
     "text": [
      "                 Value_Safety  Value_Law_Order\n",
      "Value_Safety         1.000000         0.932855\n",
      "Value_Law_Order      0.932855         1.000000\n"
     ]
    }
   ],
   "source": [
    "# Calculate correlation\n",
    "correlation = merged_data[['Value_Safety', 'Value_Law_Order']].corr()\n",
    "print(correlation)"
   ]
  },
  {
   "cell_type": "code",
   "execution_count": 65,
   "id": "bdfcab2e",
   "metadata": {},
   "outputs": [
    {
     "data": {
      "image/png": "[encoded data removed]",
      "text/plain": [
       "<Figure size 800x600 with 2 Axes>"
      ]
     },
     "metadata": {},
     "output_type": "display_data"
    }
   ],
   "source": [
    "import seaborn as sns\n",
    "import matplotlib.pyplot as plt\n",
    "\n",
    "# Set up the matplotlib figure\n",
    "plt.figure(figsize=(8, 6))\n",
    "\n",
    "# Create a heatmap\n",
    "sns.heatmap(correlation, annot=True, cmap='coolwarm', center=0)\n",
    "\n",
    "# Show the plot\n",
    "plt.title('Correlation between Perceived Safety and Law Order Index')\n",
    "plt.show()"
   ]
  },
  {
   "cell_type": "code",
   "execution_count": 66,
   "id": "a7e7f991",
   "metadata": {},
   "outputs": [
    {
     "name": "stdout",
     "output_type": "stream",
     "text": [
      "             Value_Safety  Value_Law_Order\n",
      "Category                                  \n",
      "High Safety     86.928571        89.607143\n",
      "Low Safety      42.387097        63.677419\n",
      "Medium          65.974684        79.075949\n"
     ]
    }
   ],
   "source": [
    "# Create a new column to categorize countries\n",
    "merged_data['Category'] = 'Medium'\n",
    "merged_data.loc[merged_data['Value_Safety'] >= 80, 'Category'] = 'High Safety'\n",
    "merged_data.loc[merged_data['Value_Safety'] < 50, 'Category'] = 'Low Safety'\n",
    "\n",
    "# Group by category and analyze\n",
    "grouped_analysis = merged_data.groupby('Category')[['Value_Safety', 'Value_Law_Order']].mean()\n",
    "print(grouped_analysis)"
   ]
  },
  {
   "cell_type": "code",
   "execution_count": 71,
   "id": "fc117ae2",
   "metadata": {},
   "outputs": [
    {
     "name": "stdout",
     "output_type": "stream",
     "text": [
      "Countries with High Safety but Low Law Order:\n",
      "Empty DataFrame\n",
      "Columns: [Country_name, Value_Safety, Value_Law_Order]\n",
      "Index: []\n",
      "\n",
      "Countries with Low Safety but High Law Order:\n",
      "     Country_name  Value_Safety  Value_Law_Order\n",
      "28         Sweden            79               88\n",
      "29        Georgia            79               86\n",
      "30        Ireland            78               86\n",
      "31     Bangladesh            78               81\n",
      "32         Serbia            78               84\n",
      "..            ...           ...              ...\n",
      "133         Chile            36               68\n",
      "134      Botswana            32               60\n",
      "135  South Africa            30               58\n",
      "136       Liberia            30               50\n",
      "137       Ecuador            27               55\n",
      "\n",
      "[110 rows x 3 columns]\n"
     ]
    }
   ],
   "source": [
    "\n",
    "\n",
    "# Define thresholds for high safety and low law order\n",
    "high_safety_threshold = 80  # Example threshold for high safety\n",
    "low_law_order_threshold = 50  # Example threshold for low law order\n",
    "\n",
    "# Create a DataFrame combining safety and law order data\n",
    "combined_data = pd.merge(safety, law_order, on='Country_name', suffixes=('_Safety', '_Law_Order'))\n",
    "\n",
    "# Identify outliers\n",
    "high_safety_low_law_order = combined_data[\n",
    "    (combined_data['Value_Safety'] >= high_safety_threshold) &\n",
    "    (combined_data['Value_Law_Order'] < low_law_order_threshold)\n",
    "]\n",
    "\n",
    "low_safety_high_law_order = combined_data[\n",
    "    (combined_data['Value_Safety'] < high_safety_threshold) &\n",
    "    (combined_data['Value_Law_Order'] >= low_law_order_threshold)\n",
    "]\n",
    "\n",
    "# Display results\n",
    "print(\"Countries with High Safety but Low Law Order:\")\n",
    "print(high_safety_low_law_order[['Country_name', 'Value_Safety', 'Value_Law_Order']])\n",
    "\n",
    "print(\"\\nCountries with Low Safety but High Law Order:\")\n",
    "print(low_safety_high_law_order[['Country_name', 'Value_Safety', 'Value_Law_Order']])"
   ]
  },
  {
   "cell_type": "code",
   "execution_count": 72,
   "id": "2f6b8df0",
   "metadata": {},
   "outputs": [
    {
     "data": {
      "image/png": "[encoded data removed]",
      "text/plain": [
       "<Figure size 1000x600 with 1 Axes>"
      ]
     },
     "metadata": {},
     "output_type": "display_data"
    }
   ],
   "source": [
    "import seaborn as sns\n",
    "import matplotlib.pyplot as plt\n",
    "\n",
    "# Calculate correlation\n",
    "correlation = combined_data[['Value_Safety', 'Value_Law_Order']].corr().iloc[0, 1]\n",
    "\n",
    "# Create a scatter plot\n",
    "plt.figure(figsize=(10, 6))\n",
    "sns.scatterplot(data=combined_data, x='Value_Safety', y='Value_Law_Order')\n",
    "plt.title(f'Safety vs. Law Order Correlation: {correlation:.2f}')\n",
    "plt.xlabel('Perceived Safety')\n",
    "plt.ylabel('Law Order Index')\n",
    "plt.grid()\n",
    "plt.axhline(y=70, color='r', linestyle='--')  # Example threshold line\n",
    "plt.axvline(x=75, color='g', linestyle='--')  # Example threshold line\n",
    "plt.show()"
   ]
  },
  {
   "cell_type": "code",
   "execution_count": 73,
   "id": "56db3252",
   "metadata": {},
   "outputs": [
    {
     "data": {
      "image/png": "[encoded data removed]",
      "text/plain": [
       "<Figure size 1000x600 with 1 Axes>"
      ]
     },
     "metadata": {},
     "output_type": "display_data"
    }
   ],
   "source": [
    "# Create a scatter plot\n",
    "plt.figure(figsize=(10, 6))\n",
    "sns.scatterplot(data=combined_data, x='Value_Safety', y='Value_Law_Order')\n",
    "\n",
    "# Add a regression line\n",
    "sns.regplot(data=combined_data, x='Value_Safety', y='Value_Law_Order', scatter=False, color='r')\n",
    "\n",
    "# Customize the plot\n",
    "plt.title('Scatter Plot of Perceived Safety vs. Law Order Index')\n",
    "plt.xlabel('Perceived Safety')\n",
    "plt.ylabel('Law Order Index')\n",
    "plt.grid()\n",
    "plt.xlim(0, 100)  # Set limits for better visibility\n",
    "plt.ylim(0, 100)\n",
    "plt.show()"
   ]
  },
  {
   "cell_type": "code",
   "execution_count": null,
   "id": "a57435ad",
   "metadata": {},
   "outputs": [],
   "source": [
    "\n"
   ]
  },
  {
   "cell_type": "code",
   "execution_count": null,
   "id": "77bdb11d",
   "metadata": {},
   "outputs": [],
   "source": []
  }
 ],
 "metadata": {
  "kernelspec": {
   "display_name": "Python 3 (ipykernel)",
   "language": "python",
   "name": "python3"
  },
  "language_info": {
   "codemirror_mode": {
    "name": "ipython",
    "version": 3
   },
   "file_extension": ".py",
   "mimetype": "text/x-python",
   "name": "python",
   "nbconvert_exporter": "python",
   "pygments_lexer": "ipython3",
   "version": "3.11.5"
  }
 },
 "nbformat": 4,
 "nbformat_minor": 5
}
